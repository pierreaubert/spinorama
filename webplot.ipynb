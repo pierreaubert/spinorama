{
 "cells": [
  {
   "cell_type": "code",
   "execution_count": null,
   "metadata": {},
   "outputs": [],
   "source": [
    "def parse_graph_freq_webplotdigitizer(filename):\n",
    "    \"\"\" \"\"\"\n",
    "    # from 20Hz to 20kHz, log(2)~0.3                                                                                                                                                 \n",
    "    ref_freq = np.logspace(1+math.log10(2), 4+math.log10(2), 203)\n",
    "    #                                                                                                                                                                                \n",
    "    with open(filename, 'r') as f:\n",
    "        # data are stored in a json file.                                                                                                                                            \n",
    "        speaker_data = json.load(f)\n",
    "        # store all results                                                                                                                                                          \n",
    "        res = []\n",
    "        for col in speaker_data['datasetColl']:\n",
    "            data = col['data']\n",
    "            # sort data\n",
    "            udata = np.array([[data[d]['value'][0], data[d]['value'][1]] for d in range(0, len(data))])\n",
    "            sdata = np.sort(udata.view('i8,i8'), order=['f1'], axis=0)\n",
    "            print(col['name'], len(sdata))                                                                                                                                         \n",
    "            print(sdata)                                                                                                                                                           \n",
    "            # since sdata and freq_ref are both sorted, iterate over both                                                                                                            \n",
    "            ref_p = 0\n",
    "            for di in range(0, len(sdata)-1):\n",
    "                d = sdata[di]\n",
    "                dn = sdata[di+1]\n",
    "                fr = d[0]\n",
    "                db = d[1]\n",
    "                frn = dn[0]\n",
    "                dbn = dn[1]\n",
    "                # remove possible errors                                                                                                                                             \n",
    "                if fr == frn:\n",
    "                    continue\n",
    "                # look for closest match                                                                                                                                             \n",
    "                while ref_freq[ref_p] <= fr:\n",
    "                    if ref_p >= len(ref_freq)-1:\n",
    "                        break\n",
    "                    ref_p += 1\n",
    "                # if ref_f is too large, skip                                                                                                                                        \n",
    "                ref_f = ref_freq[ref_p]\n",
    "                if ref_f > frn:\n",
    "                    continue\n",
    "                # linear interpolation                                                                                                                                               \n",
    "                ref_db = db+((dbn-db)*(ref_f-fr))/(frn-fr)\n",
    "                # print('fr={:.2f} fr_ref={:.2f} fr_n={:.2f} \\                                                                                                                       \n",
    "                #       db={:.1f} db_ref={:.1f} db_n={:.1f}'\\                                                                                                                        \n",
    "                #      .format(fr, ref_f, frn,                                                                                                                                       \n",
    "                #              db, ref_db,          dbn))                                                                                                                            \n",
    "                res.append([ref_f, ref_db, col['name']])\n",
    "\n",
    "        # build dataframe                                                                                                                                                            \n",
    "        ares = np.array(res)\n",
    "        df = pd.DataFrame({'Freq': ares[:, 0], 'dB': ares[:, 1], 'Measurements': ares[:, 2]})\n",
    "        # print(df)                                                                                                                                                                  \n",
    "        return 'CEA2034', df"
   ]
  },
  {
   "cell_type": "code",
   "execution_count": null,
   "metadata": {},
   "outputs": [],
   "source": [
    "import math\n",
    "import numpy as np\n",
    "import json\n",
    "import pandas as pd\n",
    "import altair as alt\n",
    "from src.spinorama.graph import graph_spinorama,graph_params_default"
   ]
  },
  {
   "cell_type": "code",
   "execution_count": null,
   "metadata": {},
   "outputs": [],
   "source": [
    "file = 'datas/Vendors/JBL/JBL 4367/JBL 4367.json'\n",
    "dfs = parse_graph_freq_webplotdigitizer(file)\n",
    "df = dfs[1]\n",
    "df.dB"
   ]
  },
  {
   "cell_type": "code",
   "execution_count": null,
   "metadata": {},
   "outputs": [],
   "source": [
    "graph_spinorama(df, graph_params_default)"
   ]
  },
  {
   "cell_type": "code",
   "execution_count": null,
   "metadata": {},
   "outputs": [],
   "source": []
  }
 ],
 "metadata": {
  "kernelspec": {
   "display_name": "Python 3",
   "language": "python",
   "name": "python3"
  },
  "language_info": {
   "codemirror_mode": {
    "name": "ipython",
    "version": 3
   },
   "file_extension": ".py",
   "mimetype": "text/x-python",
   "name": "python",
   "nbconvert_exporter": "python",
   "pygments_lexer": "ipython3",
   "version": "3.7.6"
  }
 },
 "nbformat": 4,
 "nbformat_minor": 4
}
