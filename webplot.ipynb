{
 "cells": [
  {
   "cell_type": "code",
   "execution_count": null,
   "metadata": {},
   "outputs": [],
   "source": [
    "def parse_graph_freq_webplotdigitizer(filename):\n",
    "    \"\"\" \"\"\"\n",
    "    # from 20Hz to 20kHz, log(2)~0.3                                                                                                                                                 \n",
    "    ref_freq = np.logspace(1+math.log10(2), 4+math.log10(2), 500)\n",
    "    #                                                                                                                                                                                \n",
    "    with open(filename, 'r') as f:\n",
    "        # data are stored in a json file.                                                                                                                                            \n",
    "        speaker_data = json.load(f)\n",
    "        # store all results                                                                                                                                                          \n",
    "        res = []\n",
    "        for col in speaker_data['datasetColl']:\n",
    "            data = col['data']\n",
    "            # sort data                                                                                                                                                              \n",
    "            udata = [(data[d]['value'][0],\n",
    "                      data[d]['value'][1])\n",
    "                     for d in range(0, len(data))]\n",
    "            sdata = sorted(udata, key=lambda a: a[0])\n",
    "            #print(col['name'], len(sdata))                                                                                                                                          \n",
    "            #print(sdata[0])                                                                                                                                                         \n",
    "            #print(type(sdata[0][0]), type(sdata[0][1]))                                                                                                                             \n",
    "            # since sdata and freq_ref are both sorted, iterate over both                                                                                                            \n",
    "            ref_p = 0\n",
    "            for di in range(0, len(sdata)-1):\n",
    "                d = sdata[di]\n",
    "                dn = sdata[di+1]\n",
    "                fr = d[0]\n",
    "                db = d[1]\n",
    "                frn = dn[0]\n",
    "                dbn = dn[1]\n",
    "                # remove possible errors                                                                                                                                             \n",
    "                if fr == frn:\n",
    "                    continue\n",
    "                # look for closest match                                                                                                                                             \n",
    "                while ref_freq[ref_p] <= fr:\n",
    "                    if ref_p >= len(ref_freq)-1:\n",
    "                        break\n",
    "                    ref_p += 1\n",
    "                # if ref_f is too large, skip                                                                                                                                        \n",
    "                ref_f = ref_freq[ref_p]\n",
    "                if ref_f > frn:\n",
    "                    continue\n",
    "                # linear interpolation                                                                                                                                               \n",
    "                ref_db = db+((dbn-db)*(ref_f-fr))/(frn-fr)\n",
    "                # print('fr={:.2f} fr_ref={:.2f} fr_n={:.2f} db={:.1f} db_ref={:.1f} db_n={:.1f}'.format(fr, ref_f, frn, db, ref_db, dbn))\n",
    "                res.append([ref_f, ref_db, col['name']])\n",
    "\n",
    "        # build dataframe                                                                                                                                                            \n",
    "        freq = np.array([res[i][0] for i in range(0, len(res))]).astype(np.float)\n",
    "        dB   = np.array([res[i][1] for i in range(0, len(res))]).astype(np.float)\n",
    "        mrt  = [res[i][2] for i in range(0, len(res))]\n",
    "        df = pd.DataFrame({'Freq': freq, 'dB': dB, 'Measurements': mrt})\n",
    "\n",
    "        # print(df)                                                                                                                                                                  \n",
    "        return 'CEA2034', df"
   ]
  },
  {
   "cell_type": "code",
   "execution_count": null,
   "metadata": {},
   "outputs": [],
   "source": [
    "import math\n",
    "import numpy as np\n",
    "import json\n",
    "import pandas as pd\n",
    "import altair as alt\n",
    "from src.spinorama.graph import graph_spinorama, graph_params_default, graph_freq"
   ]
  },
  {
   "cell_type": "code",
   "execution_count": null,
   "metadata": {},
   "outputs": [],
   "source": [
    "# file = 'datas/Vendors/JBL/JBL 4367/JBL 4367.json'\n",
    "file = 'datas/Vendors/JBL/JBL M2/JBL M2.json'\n",
    "title, dfs = parse_graph_freq_webplotdigitizer(file)\n"
   ]
  },
  {
   "cell_type": "code",
   "execution_count": null,
   "metadata": {},
   "outputs": [],
   "source": [
    "graph_spinorama(dfs, graph_params_default)"
   ]
  },
  {
   "cell_type": "code",
   "execution_count": null,
   "metadata": {},
   "outputs": [],
   "source": [
    "on = dfs[dfs.Measurements == 'On Axis'].rename(columns={'dB': 'ON'}).set_index('Freq')\n",
    "lw = dfs[dfs.Measurements == 'Listening Window'].rename(columns={'dB': 'LW'}).set_index('Freq')\n",
    "er = dfs[dfs.Measurements == 'Early Reflections'].rename(columns={'dB': 'ER'}).set_index('Freq')\n",
    "sp = dfs[dfs.Measurements == 'Sound Power'].rename(columns={'dB': 'SP'}).set_index('Freq')\n",
    "\n",
    "# align 2 by 2\n",
    "align = on.align(lw, axis=0)\n",
    "print(align[0].shape)\n",
    "align = align[0].align(er, axis=0)\n",
    "print(align[0].shape)\n",
    "all_align = align[0].align(sp, axis=0)\n",
    "print(all_align[0].shape)\n",
    "# realigned with the largest frame\n",
    "all_lw = all_align[0].align(lw, axis=0)\n",
    "all_er = all_align[0].align(er, axis=0)\n",
    "all_sp = all_align[0].align(sp, axis=0)\n",
    "print(all_lw[1].shape, all_er[1].shape, all_sp[1].shape)\n",
    "# extract right parts and interpolate\n",
    "a_lw = all_lw[1].drop('Measurements', axis=1).interpolate()\n",
    "a_er = all_er[1].drop('Measurements', axis=1).interpolate()\n",
    "a_sp = all_sp[1].drop('Measurements', axis=1).interpolate()\n",
    "print(a_lw.shape, a_er.shape, a_sp.shape)\n",
    "# remove NaN numbers\n",
    "# (a_lw.isna() | a_er.isna() | a_sp.isna() ).any()\n",
    "res2 = pd.DataFrame({'Freq': a_lw.index, \n",
    "                     'Listening Window': a_lw.LW, \n",
    "                     'Early Reflections': a_er.ER, \n",
    "                     'Sound Power': a_sp.SP})\n",
    "res = res2.dropna().reset_index(drop=True)\n"
   ]
  },
  {
   "cell_type": "code",
   "execution_count": null,
   "metadata": {},
   "outputs": [],
   "source": [
    "from src.spinorama.load import graph_melt\n",
    "source = graph_melt(res)\n",
    "source.head()"
   ]
  },
  {
   "cell_type": "code",
   "execution_count": null,
   "metadata": {},
   "outputs": [],
   "source": [
    "spin2 = graph_spinorama(source, graph_params_default)"
   ]
  },
  {
   "cell_type": "code",
   "execution_count": null,
   "metadata": {},
   "outputs": [],
   "source": [
    "from src.spinorama.analysis import estimated_inroom\n",
    "\n",
    "lw = source[source.Measurements == 'Listening Window'].reset_index(drop=True)\n",
    "er = source[source.Measurements == 'Early Reflections'].reset_index(drop=True)\n",
    "sp = source[source.Measurements == 'Sound Power'].reset_index(drop=True)\n",
    "eir = estimated_inroom(lw, er, sp)\n",
    "graph_melt(eir).head()"
   ]
  },
  {
   "cell_type": "code",
   "execution_count": null,
   "metadata": {},
   "outputs": [],
   "source": [
    "spin2 & graph_freq(graph_melt(eir), graph_params_default)"
   ]
  },
  {
   "cell_type": "code",
   "execution_count": null,
   "metadata": {},
   "outputs": [],
   "source": []
  }
 ],
 "metadata": {
  "kernelspec": {
   "display_name": "Python 3",
   "language": "python",
   "name": "python3"
  },
  "language_info": {
   "codemirror_mode": {
    "name": "ipython",
    "version": 3
   },
   "file_extension": ".py",
   "mimetype": "text/x-python",
   "name": "python",
   "nbconvert_exporter": "python",
   "pygments_lexer": "ipython3",
   "version": "3.7.6"
  }
 },
 "nbformat": 4,
 "nbformat_minor": 4
}
