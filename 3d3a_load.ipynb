{
 "cells": [
  {
   "cell_type": "code",
   "execution_count": null,
   "metadata": {},
   "outputs": [],
   "source": [
    "import pandas as pd\n",
    "from scipy.io import loadmat\n",
    "import altair as alt\n",
    "import numpy as np\n",
    "import math\n",
    "from scipy.io import loadmat\n",
    "from src.spinorama.load import graph_melt\n",
    "from src.spinorama.graph import graph_freq, graph_params_default\n",
    "from src.spinorama.analysis import compute_cea2034"
   ]
  },
  {
   "cell_type": "code",
   "execution_count": null,
   "metadata": {},
   "outputs": [],
   "source": [
    "def parse_graph_freq_princeton_mat(mat, suffix):\n",
    "    \"\"\" Suffix can be either H or V \"\"\"\n",
    "    ir_name = 'IR_{:1s}'.format(suffix)\n",
    "    fs_name = 'fs_{:1s}'.format(suffix)\n",
    "    # compute Freq                                                                                                                   \n",
    "    timestep = 1./mat[fs_name]\n",
    "    # hummm                                                                                                                          \n",
    "    freq = np.fft.fftfreq(2**14, d=timestep)\n",
    "    # reduce spectrum to 0 to 24kHz                                                                                                  \n",
    "    # lg = 2**14                                                                                                                     \n",
    "    # 24k is lgs = int(lg/4)                                                                                                         \n",
    "    # 20k is at 3414                                                                                                                 \n",
    "    lgs = 3414\n",
    "    xs = freq[0][0:lgs]\n",
    "    #    \n",
    "    df = pd.DataFrame({'Freq': xs})\n",
    "    # loop over measurements (skipping the 5 increments)\n",
    "    for i in range(0, 72, 1):\n",
    "        # extract ir                                                                                                                 \n",
    "        ir = mat[ir_name][i]\n",
    "        # compute FFT                                                                                                                \n",
    "        y = np.fft.fft(ir)\n",
    "        ys = np.abs(y[0:lgs])\n",
    "        # check for 0 (from manual: 0 means not measured)                                                                            \n",
    "        if ys.max() == 0.0:\n",
    "            continue\n",
    "        # apply formula from paper to translate to dbFS                                                                              \n",
    "        ys = 105.+np.log10(ys)*20.\n",
    "        # interpolate to smooth response                                                                                             \n",
    "        # s = InterpolatedUnivariateSpline(xs, ys)                                                                                   \n",
    "        # pretty print label, per 5 deg increment, follow klippel labelling                                                          \n",
    "        ilabel =i*5\n",
    "        if ilabel > 180: \n",
    "            ilabel = ilabel-360\n",
    "        label = '{:d}°'.format(ilabel)\n",
    "        if ilabel == 0:\n",
    "            label = 'On Axis'\n",
    "        df[label] = ys\n",
    "    # sort columns in increasing angle order \n",
    "    def a2v(angle):\n",
    "        if angle == 'Freq':\n",
    "            return -1000\n",
    "        elif angle == 'On Axis':\n",
    "            return 0\n",
    "        else:\n",
    "            return int(angle[:-1])\n",
    "\n",
    "    df = df.reindex(columns=sorted(df.columns, key=lambda a: a2v(a)))\n",
    "    # check empty case\n",
    "    if 'On Axis' not in df.keys():\n",
    "        return None\n",
    "    # precision of measurement is ok above 500\n",
    "    return df[df.Freq>=500]"
   ]
  },
  {
   "cell_type": "code",
   "execution_count": null,
   "metadata": {},
   "outputs": [],
   "source": [
    "h_mat = loadmat(\"datas/Princeton/Avantgarde Acoustic Solo/Avantgarde_H_IR.mat\")\n",
    "v_mat = loadmat(\"datas/Princeton/Avantgarde Acoustic Solo/Avantgarde_V_IR.mat\")"
   ]
  },
  {
   "cell_type": "code",
   "execution_count": null,
   "metadata": {},
   "outputs": [],
   "source": [
    "df = parse_graph_freq_princeton_mat(v_mat, 'V')\n",
    "df is None"
   ]
  },
  {
   "cell_type": "code",
   "execution_count": null,
   "metadata": {},
   "outputs": [],
   "source": [
    "df = parse_graph_freq_princeton_mat(h_mat, 'H')\n",
    "df"
   ]
  },
  {
   "cell_type": "code",
   "execution_count": null,
   "metadata": {},
   "outputs": [],
   "source": []
  }
 ],
 "metadata": {
  "kernelspec": {
   "display_name": "Python 3",
   "language": "python",
   "name": "python3"
  },
  "language_info": {
   "codemirror_mode": {
    "name": "ipython",
    "version": 3
   },
   "file_extension": ".py",
   "mimetype": "text/x-python",
   "name": "python",
   "nbconvert_exporter": "python",
   "pygments_lexer": "ipython3",
   "version": "3.7.6"
  }
 },
 "nbformat": 4,
 "nbformat_minor": 4
}
