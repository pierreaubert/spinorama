{
 "cells": [
  {
   "cell_type": "code",
   "execution_count": 1,
   "id": "5e0b41c1-a77e-4173-8486-57bd8e2e8703",
   "metadata": {},
   "outputs": [
    {
     "name": "stdout",
     "output_type": "stream",
     "text": [
      "zsh:1: command not found: pip\n"
     ]
    },
    {
     "ename": "ModuleNotFoundError",
     "evalue": "No module named 'drawsvg'",
     "output_type": "error",
     "traceback": [
      "\u001b[0;31m---------------------------------------------------------------------------\u001b[0m",
      "\u001b[0;31mModuleNotFoundError\u001b[0m                       Traceback (most recent call last)",
      "Cell \u001b[0;32mIn[1], line 2\u001b[0m\n\u001b[1;32m      1\u001b[0m get_ipython()\u001b[38;5;241m.\u001b[39msystem(\u001b[38;5;124m'\u001b[39m\u001b[38;5;124mpip install \u001b[39m\u001b[38;5;124m\"\u001b[39m\u001b[38;5;124mdrawsvg[all]~=2.0\u001b[39m\u001b[38;5;124m\"\u001b[39m\u001b[38;5;124m'\u001b[39m)\n\u001b[0;32m----> 2\u001b[0m \u001b[38;5;28;01mimport\u001b[39;00m \u001b[38;5;21;01mdrawsvg\u001b[39;00m \u001b[38;5;28;01mas\u001b[39;00m \u001b[38;5;21;01mdraw\u001b[39;00m\n\u001b[1;32m      3\u001b[0m \u001b[38;5;28;01mimport\u001b[39;00m \u001b[38;5;21;01mmath\u001b[39;00m\n",
      "\u001b[0;31mModuleNotFoundError\u001b[0m: No module named 'drawsvg'"
     ]
    }
   ],
   "source": [
    "!pip install \"drawsvg[all]~=2.0\"\n",
    "import drawsvg as draw"
   ]
  },
  {
   "cell_type": "code",
   "execution_count": 46,
   "id": "6c8edfc6-8683-4dd1-95ab-070dcd3be145",
   "metadata": {},
   "outputs": [],
   "source": [
    "colors = {\n",
    "    \"danger\": \"hsl(348, 100%, 61%)\",\n",
    "    \"info\": \"hsl(204, 86%, 53%)\",\n",
    "    \"success\": \"hsl(141, 71%, 48%)\",\n",
    "}"
   ]
  },
  {
   "cell_type": "code",
   "execution_count": 47,
   "id": "133a0855-a3d2-49f1-ba8d-68057e2bd1d2",
   "metadata": {},
   "outputs": [],
   "source": [
    "def volume(color):\n",
    "    d = draw.Drawing(640, 512, origin=\"center\")\n",
    "    r = draw.Rectangle(-320, -512 / 4, 220, 512 / 2, rx=40, ry=40, fill=color, fill_opacity=0.9)\n",
    "    d.append(r)\n",
    "\n",
    "    rt = draw.Lines(\n",
    "        -160, -512 / 4, -50, -250, -50, 250, -160, 512 / 4, close=True, fill=color, fill_opacity=0.9\n",
    "    )\n",
    "\n",
    "    d.append(rt)\n",
    "    center = 0\n",
    "    angle = 60\n",
    "    thickness = 50\n",
    "    vol_1 = draw.ArcLine(\n",
    "        center, 0, 80, -90, 90, stroke=color, stroke_width=thickness, fill=color, fill_opacity=0\n",
    "    )\n",
    "\n",
    "    vol_2 = draw.ArcLine(\n",
    "        center,\n",
    "        0,\n",
    "        180,\n",
    "        -angle,\n",
    "        angle,\n",
    "        stroke=color,\n",
    "        stroke_width=thickness,\n",
    "        fill=color,\n",
    "        fill_opacity=0.0,\n",
    "    )\n",
    "\n",
    "    vol_3 = draw.ArcLine(\n",
    "        center,\n",
    "        0,\n",
    "        280,\n",
    "        -angle,\n",
    "        angle,\n",
    "        stroke=color,\n",
    "        stroke_width=thickness,\n",
    "        fill=color,\n",
    "        fill_opacity=0.0,\n",
    "    )\n",
    "\n",
    "    return d, vol_1, vol_2, vol_3\n",
    "\n",
    "\n",
    "for color_name, color_hsl in colors.items():\n",
    "    d, vol_1, vol_2, vol_3 = volume(color=color_hsl)\n",
    "    d.save_svg(f\"volume-{color_name}-0.svg\")\n",
    "    d.append(vol_1)\n",
    "    d.save_svg(f\"volume-{color_name}-1.svg\")\n",
    "    d.append(vol_2)\n",
    "    d.save_svg(f\"volume-{color_name}-2.svg\")\n",
    "    d.append(vol_3)\n",
    "    d.save_svg(f\"volume-{color_name}-3.svg\")\n",
    "\n",
    "    d.rasterize()"
   ]
  },
  {
   "cell_type": "code",
   "execution_count": 268,
   "id": "cb807be5-aad0-4731-ae94-b6afb79db86b",
   "metadata": {
    "scrolled": true
   },
   "outputs": [
    {
     "data": {
      "image/svg+xml": [
       "<?xml version=\"1.0\" encoding=\"UTF-8\"?>\n",
       "<svg xmlns=\"http://www.w3.org/2000/svg\" xmlns:xlink=\"http://www.w3.org/1999/xlink\"\n",
       "     width=\"640\" height=\"512\" viewBox=\"-320.0 -256.0 640 512\">\n",
       "<defs>\n",
       "</defs>\n",
       "<rect x=\"-170\" y=\"-256\" width=\"340\" height=\"512\" rx=\"40\" ry=\"40\" stroke=\"black\" stroke-width=\"1\" fill=\"black\" fill-opacity=\"0.8\" />\n",
       "<rect x=\"-130\" y=\"-216\" width=\"260\" height=\"130\" rx=\"40\" ry=\"40\" stroke=\"white\" stroke-width=\"10\" fill=\"white\" fill-opacity=\"0.3\" />\n",
       "<circle cx=\"0\" cy=\"-150\" r=\"40\" stroke=\"hsl(204, 86%, 53%)\" stroke-width=\"20\" fill=\"white\" fill-opacity=\"1\" />\n",
       "<circle cx=\"0\" cy=\"90\" r=\"130\" stroke=\"hsl(204, 86%, 53%)\" stroke-width=\"40\" fill=\"white\" fill-opacity=\"1\" />\n",
       "<circle cx=\"0\" cy=\"90\" r=\"20\" stroke=\"hsl(204, 86%, 53%)\" stroke-width=\"40\" fill=\"white\" fill-opacity=\"1\" />\n",
       "<circle cx=\"0\" cy=\"90\" r=\"150\" stroke=\"white\" stroke-width=\"35\" fill=\"none\" fill-opacity=\"1\" />\n",
       "</svg>"
      ],
      "text/plain": [
       "<drawsvg.drawing.Drawing at 0x7f834acf0580>"
      ]
     },
     "execution_count": 268,
     "metadata": {},
     "output_type": "execute_result"
    }
   ],
   "source": [
    "d = draw.Drawing(640, 512, origin=\"center\")\n",
    "# background = draw.Rectangle(-320, -256, 640, 512, rx=10, ry=10, fill='red', fill_opacity=0.2)\n",
    "# d.append(background)\n",
    "box1 = draw.Rectangle(\n",
    "    -320 + 150,\n",
    "    -256,\n",
    "    640 - 2 * 150,\n",
    "    512,\n",
    "    rx=40,\n",
    "    ry=40,\n",
    "    stroke=\"black\",\n",
    "    stroke_width=1,\n",
    "    fill=\"black\",\n",
    "    fill_opacity=0.8,\n",
    ")\n",
    "boff = 40\n",
    "box2 = draw.Rectangle(\n",
    "    -320 + 150 + boff,\n",
    "    -256 + boff + 0,\n",
    "    640 - 2 * 150 - 2 * boff,\n",
    "    130,\n",
    "    rx=40,\n",
    "    ry=40,\n",
    "    stroke=\"white\",\n",
    "    stroke_width=10,\n",
    "    fill=\"white\",\n",
    "    fill_opacity=0.3,\n",
    ")\n",
    "d.append(box1)\n",
    "d.append(box2)\n",
    "tweeter1 = draw.ArcLine(\n",
    "    0, -150, 40, -180, 180, stroke=colors[\"info\"], stroke_width=20, fill=\"white\", fill_opacity=1\n",
    ")\n",
    "tweeter2 = draw.ArcLine(\n",
    "    0, -150, 50, -180, 180, stroke=\"white\", stroke_width=10, fill=\"none\", fill_opacity=1\n",
    ")\n",
    "d.append(tweeter1)\n",
    "# d.append(tweeter2)\n",
    "woofer1 = draw.ArcLine(\n",
    "    0, 90, 130, -180, 180, stroke=colors[\"info\"], stroke_width=40, fill=\"white\", fill_opacity=1\n",
    ")\n",
    "woofer2 = draw.ArcLine(\n",
    "    0, 90, 20, -180, 180, stroke=colors[\"info\"], stroke_width=40, fill=\"white\", fill_opacity=1\n",
    ")\n",
    "woofer3 = draw.ArcLine(\n",
    "    0, 90, 150, -180, 180, stroke=\"white\", stroke_width=35, fill=\"none\", fill_opacity=1\n",
    ")\n",
    "d.append(woofer1)\n",
    "d.append(woofer2)\n",
    "d.append(woofer3)\n",
    "d.save_svg(\"icon-bookshelves.svg\")\n",
    "d"
   ]
  },
  {
   "cell_type": "code",
   "execution_count": 270,
   "id": "112feea9-af6a-4b96-9dc1-7345ca1d204e",
   "metadata": {},
   "outputs": [
    {
     "data": {
      "image/svg+xml": [
       "<?xml version=\"1.0\" encoding=\"UTF-8\"?>\n",
       "<svg xmlns=\"http://www.w3.org/2000/svg\" xmlns:xlink=\"http://www.w3.org/1999/xlink\"\n",
       "     width=\"640\" height=\"512\" viewBox=\"-320.0 -256.0 640 512\">\n",
       "<defs>\n",
       "<marker markerWidth=\"4.0\" markerHeight=\"4.04\" viewBox=\"-0.1 -0.51 1.0 1.01\" orient=\"auto\" stroke-opacity=\"1\" id=\"qP2Ll2Kk0\">\n",
       "<path d=\"M-0.1,0.5 L-0.1,-0.5 L0.9,0 Z\" fill=\"orange\" stroke-opacity=\"1\" />\n",
       "</marker>\n",
       "<marker markerWidth=\"4.0\" markerHeight=\"4.04\" viewBox=\"-0.1 -0.51 1.0 1.01\" orient=\"auto\" stroke-opacity=\"1\" id=\"qP2Ll2Kk1\">\n",
       "<path d=\"M-0.1,0.5 L-0.1,-0.5 L0.9,0 Z\" fill=\"orange\" stroke-opacity=\"1\" />\n",
       "</marker>\n",
       "</defs>\n",
       "<rect x=\"-170\" y=\"-256\" width=\"340\" height=\"512\" rx=\"40\" ry=\"40\" stroke=\"black\" stroke-width=\"1\" fill=\"black\" fill-opacity=\"0.8\" />\n",
       "<rect x=\"-130\" y=\"-216\" width=\"260\" height=\"130\" rx=\"40\" ry=\"40\" stroke=\"white\" stroke-width=\"10\" fill=\"white\" fill-opacity=\"0.3\" />\n",
       "<circle cx=\"0\" cy=\"-150\" r=\"40\" stroke=\"hsl(204, 86%, 53%)\" stroke-width=\"20\" fill=\"white\" fill-opacity=\"1\" />\n",
       "<circle cx=\"0\" cy=\"90\" r=\"130\" stroke=\"hsl(204, 86%, 53%)\" stroke-width=\"40\" fill=\"white\" fill-opacity=\"1\" />\n",
       "<circle cx=\"0\" cy=\"90\" r=\"20\" stroke=\"hsl(204, 86%, 53%)\" stroke-width=\"40\" fill=\"white\" fill-opacity=\"1\" />\n",
       "<circle cx=\"0\" cy=\"90\" r=\"150\" stroke=\"white\" stroke-width=\"35\" fill=\"none\" fill-opacity=\"1\" />\n",
       "<path d=\"M-120,110 L-85,250 L-50,110 L-15,250 L20,110 L55,250 L107.5,75.0\" stroke=\"orange\" fill=\"none\" fill-opacity=\"1\" stroke-width=\"20\" stroke-opacity=\"0.85\" marker-end=\"url(#qP2Ll2Kk0)\" />\n",
       "<path d=\"M-120,110 L-85,250 L-50,110 L-15,250 L20,110 L55,250 L107.5,75.0\" stroke=\"orange\" fill=\"none\" fill-opacity=\"1\" stroke-width=\"20\" stroke-opacity=\"1\" marker-end=\"url(#qP2Ll2Kk1)\" />\n",
       "</svg>"
      ],
      "text/plain": [
       "<drawsvg.drawing.Drawing at 0x7f834acf0580>"
      ]
     },
     "execution_count": 270,
     "metadata": {},
     "output_type": "execute_result"
    }
   ],
   "source": [
    "hb = -120\n",
    "vb = 180\n",
    "hs = 35\n",
    "vs = 70\n",
    "arrow = draw.Marker(-0.1, -0.51, 0.9, 0.5, scale=4, orient=\"auto\", stroke_opacity=1)\n",
    "arrow.append(draw.Lines(-0.1, 0.5, -0.1, -0.5, 0.9, 0, fill=\"orange\", close=True, stroke_opacity=1))\n",
    "zigzag = draw.Path(\n",
    "    stroke=\"orange\",\n",
    "    fill=\"none\",\n",
    "    fill_opacity=1,\n",
    "    stroke_width=20,\n",
    "    stroke_opacity=1,\n",
    "    marker_end=arrow,\n",
    ")\n",
    "zigzag.M(hb, vb - vs).L(hb + 1 * hs, vb + vs).L(hb + 2 * hs, vb - vs).L(hb + 3 * hs, vb + vs).L(\n",
    "    hb + 4 * hs, vb - vs\n",
    ").L(hb + 5 * hs, vb + vs).L(hb + 6.5 * hs, vb - vs * 1.5)\n",
    "d.append(zigzag)\n",
    "d.save_svg(\"icon-bookshelves-zigzag.svg\")\n",
    "d"
   ]
  },
  {
   "cell_type": "code",
   "execution_count": null,
   "id": "b70c99f9-58ad-4d21-b8b9-0812ce6a638f",
   "metadata": {},
   "outputs": [],
   "source": []
  },
  {
   "cell_type": "code",
   "execution_count": null,
   "id": "f707952b-84f7-40e0-8e0b-7186bbbf812c",
   "metadata": {},
   "outputs": [],
   "source": []
  }
 ],
 "metadata": {
  "kernelspec": {
   "display_name": "Python 3 (ipykernel)",
   "language": "python",
   "name": "python3"
  },
  "language_info": {
   "codemirror_mode": {
    "name": "ipython",
    "version": 3
   },
   "file_extension": ".py",
   "mimetype": "text/x-python",
   "name": "python",
   "nbconvert_exporter": "python",
   "pygments_lexer": "ipython3",
   "version": "3.12.4"
  }
 },
 "nbformat": 4,
 "nbformat_minor": 5
}
