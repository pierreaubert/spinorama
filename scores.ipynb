{
 "cells": [
  {
   "cell_type": "code",
   "execution_count": null,
   "metadata": {},
   "outputs": [],
   "source": [
    "import math\n",
    "import pandas as pd\n",
    "import altair as alt\n",
    "import numpy as np\n",
    "import json"
   ]
  },
  {
   "cell_type": "code",
   "execution_count": null,
   "metadata": {},
   "outputs": [],
   "source": [
    "filename = 'docs/assets/metadata.json'\n",
    "f = open(filename, 'r')\n",
    "j = json.load(f)\n",
    "df = pd.DataFrame({'speaker':[], 'param':[], 'value':[]})\n",
    "count = 0\n",
    "for i in j:\n",
    "    speaker = j[i]\n",
    "    for p in speaker:\n",
    "        val = speaker[p]\n",
    "        if type(val) is dict:\n",
    "            for v in val.keys():\n",
    "                #print('{0} {1} {2}'.format(i, v, val[v]))\n",
    "                df.loc[count] = [i, v, val[v]]\n",
    "                count += 1\n",
    "        else:\n",
    "            # print('{0} {1} {2}'.format(i, p, val))\n",
    "            df.loc[count] = [i, p, val]\n",
    "            count += 1\n",
    "df.head()"
   ]
  },
  {
   "cell_type": "code",
   "execution_count": null,
   "metadata": {},
   "outputs": [],
   "source": [
    "pref_score = df.loc[(df.param=='pref_score')].reset_index()\n",
    "brand = df.loc[(df.param=='brand')].reset_index()\n",
    "lfx_hz = df.loc[(df.param=='lfx_hz')].reset_index()\n",
    "nbd_on = df.loc[(df.param=='nbd_on_axis')].reset_index()\n",
    "nbd_pir = df.loc[(df.param=='nbd_pred_in_room')].reset_index()\n",
    "sm_pir = df.loc[(df.param=='sm_pred_in_room')].reset_index()\n",
    "\n",
    "source = pd.DataFrame({\n",
    "    'speaker': pref_score.speaker, \n",
    "    'brand': brand.value,\n",
    "    'pref_score': pref_score.value, \n",
    "    'lfx_hz': lfx_hz.value,\n",
    "    'nbd_on': nbd_on.value,\n",
    "    'nbd_pir': nbd_pir.value,\n",
    "    'sm_pir': sm_pir.value,\n",
    "})"
   ]
  },
  {
   "cell_type": "code",
   "execution_count": null,
   "metadata": {},
   "outputs": [],
   "source": [
    "lfx_hz = alt.Chart(source).mark_point(\n",
    ").encode(\n",
    "    x=alt.X('lfx_hz:Q'),\n",
    "    y=alt.Y('pref_score:Q'),\n",
    "    color=alt.Color('brand:N'),\n",
    "    tooltip=['speaker', 'lfx_hz', 'pref_score']\n",
    ")\n",
    "\n",
    "g_lfx = lfx_hz+lfx_hz.transform_regression('lfx_hz', 'pref_score').mark_line()"
   ]
  },
  {
   "cell_type": "code",
   "execution_count": null,
   "metadata": {},
   "outputs": [],
   "source": [
    "nbd_on = alt.Chart(source).mark_point(\n",
    ").encode(\n",
    "    x=alt.X('nbd_on:Q'),\n",
    "    y=alt.Y('pref_score:Q'),\n",
    "    color=alt.Color('brand:N'),\n",
    "    tooltip=['speaker', 'nbd_on', 'pref_score']\n",
    ")\n",
    "\n",
    "g_nbd_on = nbd_on+nbd_on.transform_regression('nbd_on', 'pref_score').mark_line()"
   ]
  },
  {
   "cell_type": "code",
   "execution_count": null,
   "metadata": {},
   "outputs": [],
   "source": [
    "nbd_pir = alt.Chart(source).mark_point(\n",
    ").encode(\n",
    "    x=alt.X('nbd_pir:Q'),\n",
    "    y=alt.Y('pref_score:Q'),\n",
    "    color=alt.Color('brand:N'),\n",
    "    tooltip=['speaker', 'nbd_pir', 'pref_score']\n",
    ")\n",
    "\n",
    "g_nbd_pir = nbd_pir+nbd_pir.transform_regression('nbd_pir', 'pref_score').mark_line()"
   ]
  },
  {
   "cell_type": "code",
   "execution_count": null,
   "metadata": {},
   "outputs": [],
   "source": [
    "sm_pir = alt.Chart(source).mark_point(\n",
    ").encode(\n",
    "    x=alt.X('sm_pir:Q'),\n",
    "    y=alt.Y('pref_score:Q'),\n",
    "    color=alt.Color('brand:N'),\n",
    "    tooltip=['speaker', 'sm_pir', 'pref_score']\n",
    ")\n",
    "\n",
    "g_sm_pir = sm_pir+sm_pir.transform_regression('sm_pir', 'pref_score').mark_line()"
   ]
  },
  {
   "cell_type": "code",
   "execution_count": null,
   "metadata": {},
   "outputs": [],
   "source": [
    "(g_lfx|g_nbd_on)&(g_nbd_pir|g_sm_pir)"
   ]
  },
  {
   "cell_type": "code",
   "execution_count": null,
   "metadata": {},
   "outputs": [],
   "source": [
    "alt.Chart(source).mark_bar().encode(\n",
    "    x=alt.X('pref_score:Q', bin=True),\n",
    "    y='count()'\n",
    ")"
   ]
  },
  {
   "cell_type": "code",
   "execution_count": null,
   "metadata": {},
   "outputs": [],
   "source": [
    "alt.Chart(source).mark_circle(size=30).encode(\n",
    "    x=alt.X('speaker', sort='y'),\n",
    "    y=alt.Y('pref_score')\n",
    ")"
   ]
  },
  {
   "cell_type": "code",
   "execution_count": null,
   "metadata": {},
   "outputs": [],
   "source": []
  }
 ],
 "metadata": {
  "kernelspec": {
   "display_name": "Python 3",
   "language": "python",
   "name": "python3"
  },
  "language_info": {
   "codemirror_mode": {
    "name": "ipython",
    "version": 3
   },
   "file_extension": ".py",
   "mimetype": "text/x-python",
   "name": "python",
   "nbconvert_exporter": "python",
   "pygments_lexer": "ipython3",
   "version": "3.7.6"
  }
 },
 "nbformat": 4,
 "nbformat_minor": 4
}
