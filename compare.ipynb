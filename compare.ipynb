{
 "cells": [
  {
   "cell_type": "markdown",
   "metadata": {},
   "source": [
    "Compare speakers"
   ]
  },
  {
   "cell_type": "code",
   "execution_count": null,
   "metadata": {},
   "outputs": [],
   "source": [
    "import math\n",
    "import pandas as pd\n",
    "import altair as alt\n",
    "import numpy as np\n",
    "from src.spinorama.analysis import sound_power\n",
    "from src.spinorama.load import parse_all_speakers, parse_graphs_speaker, graph_melt\n",
    "from src.spinorama.graph import graph_params_default\n",
    "\n",
    "import datas.metadata as metadata\n",
    "df = parse_all_speakers(metadata.speakers_info, None)\n",
    "# print(df)"
   ]
  },
  {
   "cell_type": "code",
   "execution_count": null,
   "metadata": {},
   "outputs": [],
   "source": [
    "df.keys()"
   ]
  },
  {
   "cell_type": "code",
   "execution_count": null,
   "metadata": {},
   "outputs": [],
   "source": [
    "df['Adam S2V']['ASR']['default']['CEA2034'].head()"
   ]
  },
  {
   "cell_type": "code",
   "execution_count": null,
   "metadata": {},
   "outputs": [],
   "source": [
    "def normalize(df):\n",
    "    on = df[df.Measurements == 'On Axis']\n",
    "    mean = np.mean(on.loc[(on.Freq>500) & (on.Freq<10000)].dB)\n",
    "    \n",
    "    offset = 0\n",
    "    if 'DI offset' in df.Measurements.unique():\n",
    "        offset = np.mean(df[df.Measurements == 'DI offset'].dB)\n",
    "    else:\n",
    "        offset = mean\n",
    "        \n",
    "    # print(mean, offset, df.Measurements.unique())\n",
    "    # print(df[df.Measurements == 'Sound Power DI'].head())    \n",
    "    for measurement in ('On Axis', 'Listening Window', 'Sound Power', 'Early Reflections'):\n",
    "        df.loc[df.Measurements == measurement, 'dB'] -= mean\n",
    "        \n",
    "    for measurement in ('Sound Power DI', 'Early Reflections DI', 'DI offset'):\n",
    "        df.loc[df.Measurements == measurement, 'dB'] -= offset\n",
    "        \n",
    "    return df\n",
    "\n",
    "def pprint(df):\n",
    "    for m in df.Measurements.unique():\n",
    "        min = np.min(df[df.Measurements == m].dB)\n",
    "        max = np.max(df[df.Measurements == m].dB)\n",
    "        print('{0} {1} {2}'.format(min, max, m))\n",
    "        \n",
    "# adam = df['Adam S2V']['ASR']['default']['CEA2034']\n",
    "# pprint(adam)\n",
    "# norm_adam = normalize(adam)\n",
    "# pprint(norm_adam)\n",
    "# print(t[t.Measurements == 'Sound Power DI'].head()) \n",
    "# print(t[t.Measurements == 'On Axis'].head())"
   ]
  },
  {
   "cell_type": "code",
   "execution_count": null,
   "metadata": {},
   "outputs": [],
   "source": [
    "def resample(df, target_size):\n",
    "    len_freq = df.shape[0]\n",
    "    if len_freq > 2*target_size:\n",
    "        roll = int(len_freq/target_size)\n",
    "        sampled = df.loc[df.Freq.rolling(roll).max()[1::roll].index,:]\n",
    "        return sampled\n",
    "    return df\n",
    "\n",
    "def augment(dfa, name):\n",
    "    # print(name)\n",
    "    namearray = [name for i in range(0,len(dfa))]\n",
    "    dfa['Speaker'] = name\n",
    "    return dfa\n",
    "\n",
    "source = pd.concat( \n",
    "    [augment(normalize(resample(df[k][o]['default']['CEA2034'], 400)), k+' - '+o)\n",
    "         for k in sorted(df.keys()) for o in df[k].keys() if 'CEA2034' in df[k][o]['default']]\n",
    ")"
   ]
  },
  {
   "cell_type": "code",
   "execution_count": null,
   "metadata": {},
   "outputs": [],
   "source": [
    "source.shape\n",
    "source.head()"
   ]
  },
  {
   "cell_type": "code",
   "execution_count": null,
   "metadata": {},
   "outputs": [],
   "source": [
    "speaker1 = 'KEF LS50 - ASR'\n",
    "speaker2 = 'KEF LS50 - Princeton'\n",
    "\n",
    "nearest = alt.selection(\n",
    "    type='single',\n",
    "    nearest=True,\n",
    "    on='mouseover',\n",
    "    fields=['Freq'],\n",
    "    empty='none')\n",
    "\n",
    "def compare(df):\n",
    "    speakers = df.Speaker.unique()\n",
    "    input_dropdown1 = alt.binding_select(options=[s for s in speakers])\n",
    "    selection1 = alt.selection_single(\n",
    "        fields=['Speaker'],\n",
    "        bind=input_dropdown1,\n",
    "        name='Select right ',\n",
    "        init={'Speaker': speaker1})\n",
    "    input_dropdown2 = alt.binding_select(options=[s for s in speakers])\n",
    "    selection2 = alt.selection_single(\n",
    "        fields=['Speaker'],\n",
    "        bind=input_dropdown2,\n",
    "        name='Select left ',\n",
    "        init={'Speaker': speaker2})\n",
    "    selectorsMeasurements = alt.selection_multi(\n",
    "        fields=['Measurements'],\n",
    "        bind='legend')\n",
    "    scales = alt.selection_interval(bind='scales')\n",
    "\n",
    "    x = alt.X('Freq:Q', scale=alt.Scale(type=\"log\", domain=[20,20000], nice=False))\n",
    "    yl = alt.Y('dB:Q',  scale=alt.Scale(zero=False, domain=[-40,10]))\n",
    "    yr = alt.Y('dB:Q',  scale=alt.Scale(zero=False, domain=[0,30]))\n",
    "    col = alt.Color('Measurements', type='nominal', sort=None)\n",
    "    opa = alt.condition(selectorsMeasurements, alt.value(1), alt.value(0.2))\n",
    "    \n",
    "    line = alt.Chart(df).mark_line(clip=True).transform_filter(\n",
    "        alt.FieldOneOfPredicate(\n",
    "            field='Measurements', oneOf=['On Axis', 'Listening Window', 'Early Reflections', 'Sound Power'])\n",
    "    ).encode(x, yl, col, opacity=opa)\n",
    "    \n",
    "    di = alt.Chart(df).mark_line(clip=True).transform_filter(\n",
    "        alt.FieldOneOfPredicate(\n",
    "            field='Measurements', oneOf=['Early Reflections DI', 'Sound Power DI'])\n",
    "    ).encode(x, yr, col, opacity=opa)\n",
    "    \n",
    "    spin = (line+di).resolve_scale(y='independent')\n",
    "\n",
    "    g_speaker1 = spin.add_selection(selection1).transform_filter(selection1)\n",
    "    g_speaker2 = spin.add_selection(selection2).transform_filter(selection2)\n",
    "\n",
    "    summed = alt.layer(g_speaker2, g_speaker1\n",
    "    ).add_selection(selectorsMeasurements#).add_selection(scales\n",
    "    ).properties(width=780, height=300)#.interactive()\n",
    "             \n",
    "    sidebyside = alt.hconcat(\n",
    "        g_speaker1.properties(width=340, height=150), \n",
    "        g_speaker2.properties(width=340, height=150)\n",
    "    ).add_selection(selectorsMeasurements)#.add_selection(scales)\n",
    "    \n",
    "    return sidebyside, summed\n",
    "\n",
    "g1, g2 = compare(source)\n",
    "g1 & g2"
   ]
  },
  {
   "cell_type": "code",
   "execution_count": null,
   "metadata": {},
   "outputs": [],
   "source": []
  },
  {
   "cell_type": "code",
   "execution_count": null,
   "metadata": {},
   "outputs": [],
   "source": []
  }
 ],
 "metadata": {
  "kernelspec": {
   "display_name": "Python 3",
   "language": "python",
   "name": "python3"
  },
  "language_info": {
   "codemirror_mode": {
    "name": "ipython",
    "version": 3
   },
   "file_extension": ".py",
   "mimetype": "text/x-python",
   "name": "python",
   "nbconvert_exporter": "python",
   "pygments_lexer": "ipython3",
   "version": "3.7.6"
  }
 },
 "nbformat": 4,
 "nbformat_minor": 4
}
