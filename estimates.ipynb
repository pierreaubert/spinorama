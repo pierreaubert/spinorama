{
 "cells": [
  {
   "cell_type": "code",
   "execution_count": null,
   "metadata": {},
   "outputs": [],
   "source": [
    "import math\n",
    "import pandas as pd\n",
    "import altair as alt\n",
    "import numpy as np\n",
    "from src.spinorama.analysis import sound_power\n",
    "from src.spinorama.load import parse_all_speakers, parse_graphs_speaker, graph_melt\n",
    "from src.spinorama.graph import graph_params_default\n",
    "\n",
    "# df = parse_graphs_speaker('Adam', 'Adam S2V', 'klippel')\n",
    "# df = parse_graphs_speaker('Neumann', 'Neumann KH 80', 'klippel')\n",
    "df = parse_graphs_speaker('Genelec', 'Genelec 8030A', 'princeton')\n",
    "# print(df)"
   ]
  },
  {
   "cell_type": "code",
   "execution_count": null,
   "metadata": {},
   "outputs": [],
   "source": [
    "def estimates(onaxis: pd.DataFrame):\n",
    "    try:\n",
    "        freq_min = onaxis.Freq.min()\n",
    "        if freq_min < 300:\n",
    "            # mean over 300-10k                                                                                                                       \n",
    "            y_ref = np.mean(onaxis.loc[(onaxis.Freq>=300) & (onaxis.Freq<=10000)].dB)\n",
    "            y_3 = onaxis.loc[(onaxis.Freq<150)&(onaxis.dB<=y_ref-3)].Freq.max()\n",
    "            y_6 = onaxis.loc[(onaxis.Freq<150)&(onaxis.dB<=y_ref-6)].Freq.max()\n",
    "            # search band up/down                                                                                                                     \n",
    "            up:   float = onaxis.loc[(onaxis.Freq>=100) & (onaxis.Freq<=10000)].dB.max()\n",
    "            down: float = onaxis.loc[(onaxis.Freq>=100) & (onaxis.Freq<=10000)].dB.min()\n",
    "            band = max(abs(up-y_ref), abs(y_ref-down))\n",
    "            return [round(y_ref, 0), round(y_3, 0) , round(y_6, 0), round(band,0)]\n",
    "        else:\n",
    "            y_ref = np.mean(onaxis.loc[(onaxis.Freq>=freq_min) & (onaxis.Freq<=10000)].dB)\n",
    "            # search band up/down                                                                                                                     \n",
    "            up:   float = onaxis.loc[(onaxis.Freq>=freq_min) & (onaxis.Freq<=10000)].dB.max()\n",
    "            down: float = onaxis.loc[(onaxis.Freq>=freq_min) & (onaxis.Freq<=10000)].dB.min()\n",
    "            band = max(abs(up-y_ref), abs(y_ref-down))\n",
    "            return [round(y_ref, 0), -1, -1, round(band,0)]\n",
    "    except TypeError as te:\n",
    "        logging.warning('Estimates failed for {0} with {1}'.format(onaxis.shape, te))\n",
    "        return [-1, -1, -1, -1]\n",
    "    except ValueError as ve:\n",
    "        logging.warning('Estimates failed for {0} with {1}'.format(onaxis.shape, ve))\n",
    "        return [-1, -1, -1, -1]"
   ]
  },
  {
   "cell_type": "code",
   "execution_count": null,
   "metadata": {},
   "outputs": [],
   "source": [
    "spin = df['CEA2034']\n",
    "estimates(spin.loc[spin['Measurements'] == 'On Axis'])\n"
   ]
  },
  {
   "cell_type": "code",
   "execution_count": null,
   "metadata": {},
   "outputs": [],
   "source": []
  },
  {
   "cell_type": "code",
   "execution_count": null,
   "metadata": {},
   "outputs": [],
   "source": []
  }
 ],
 "metadata": {
  "kernelspec": {
   "display_name": "Python 3",
   "language": "python",
   "name": "python3"
  },
  "language_info": {
   "codemirror_mode": {
    "name": "ipython",
    "version": 3
   },
   "file_extension": ".py",
   "mimetype": "text/x-python",
   "name": "python",
   "nbconvert_exporter": "python",
   "pygments_lexer": "ipython3",
   "version": "3.7.6"
  }
 },
 "nbformat": 4,
 "nbformat_minor": 4
}
