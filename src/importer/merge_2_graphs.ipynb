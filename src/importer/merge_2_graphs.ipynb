{
 "cells": [
  {
   "cell_type": "code",
   "execution_count": null,
   "id": "5f714c7d-973b-4487-a38e-914c716be3f2",
   "metadata": {},
   "outputs": [],
   "source": [
    "import numpy as np\n",
    "import pandas as pd\n",
    "import altair as alt\n",
    "from spinorama.load_webplotdigitizer import parse_graph_freq_webplotdigitizer\n",
    "from spinorama.graph import graph_freq, graph_spinorama, graph_params_default\n",
    "from spinorama.load_misc import graph_melt\n",
    "from spinorama.load import spin_compute_di_eir\n",
    "from spinorama.compute_normalize import normalize_cea2034, normalize_mean"
   ]
  },
  {
   "cell_type": "code",
   "execution_count": null,
   "id": "c3605dbe-b442-431f-a42f-e9534e55ca7e",
   "metadata": {},
   "outputs": [],
   "source": [
    "speaker_name = \"Perlisten s7t\"\n",
    "origin = \"misc-audioholics\"\n",
    "\n",
    "data_dir = \"./datas/measurements/{}/{}\".format(speaker_name, origin)\n",
    "high_file = \"{}/high/wpd.json\".format(data_dir)\n",
    "low_file = \"{}/low/wpd.json\".format(data_dir)\n",
    "\n",
    "title_low, df_low = parse_graph_freq_webplotdigitizer(low_file)\n",
    "title_high, df_high = parse_graph_freq_webplotdigitizer(high_file)"
   ]
  },
  {
   "cell_type": "code",
   "execution_count": null,
   "id": "ea0ff96e-2aaf-4775-8550-299489a0a1dd",
   "metadata": {},
   "outputs": [],
   "source": [
    "high_freq_transition = df_high.loc[df_high.Measurements == \"On Axis\"].Freq.min()\n",
    "high_db_transition = df_high.loc[df_high.Measurements == \"On Axis\"].dB.values[0]\n",
    "high_db_transition_lw = df_high.loc[df_high.Measurements == \"Listening Window\"].dB.values[0]\n",
    "high_db_transition_er = df_high.loc[df_high.Measurements == \"Early Reflections\"].dB.values[0]\n",
    "high_db_transition_sp = df_high.loc[df_high.Measurements == \"Sound Power\"].dB.values[0]\n",
    "\n",
    "\n",
    "print(\"High: freq min {}\".format(high_freq_transition))\n",
    "print(\"High: dB {}\".format(high_db_transition))"
   ]
  },
  {
   "cell_type": "code",
   "execution_count": null,
   "id": "f7715114-cefe-4a83-acf5-6f589247bcda",
   "metadata": {},
   "outputs": [],
   "source": [
    "low_freq_transition = df_low.loc[(df_low.Freq < high_freq_transition)].Freq.max()\n",
    "low_db_transition = df_low.loc[(df_low.Freq < high_freq_transition)].dB.values[-1]\n",
    "\n",
    "print(\"Low: freq min {}\".format(low_freq_transition))\n",
    "print(\"Low: dB {}\".format(low_db_transition))"
   ]
  },
  {
   "cell_type": "code",
   "execution_count": null,
   "id": "359834d0-50c9-4d97-aecb-1c6fe841f110",
   "metadata": {},
   "outputs": [],
   "source": [
    "def adapt(onaxis, low_db_transition, high_db_transition, target_db):\n",
    "    max_pos = np.argmax(onaxis.dB.loc[onaxis.Freq < 100])\n",
    "    values = onaxis.dB.values\n",
    "    delta = high_db_transition - low_db_transition\n",
    "    result = [\n",
    "        (\n",
    "            v + delta\n",
    "            if i <= max_pos\n",
    "            else v\n",
    "            + delta\n",
    "            + (i - max_pos) * (target_db - high_db_transition) / (len(values) - max_pos)\n",
    "        )\n",
    "        for i, v in enumerate(values)\n",
    "    ]\n",
    "    return result\n",
    "\n",
    "\n",
    "df_low_match = df_low[(df_low.Freq < high_freq_transition)]\n",
    "df_low_onaxis = pd.DataFrame(\n",
    "    {\n",
    "        \"Freq\": df_low_match.Freq,\n",
    "        \"dB\": df_low_match.dB - (low_db_transition - high_db_transition),\n",
    "        \"Measurements\": df_low_match.Measurements,\n",
    "    }\n",
    ")\n",
    "df_low_lw = pd.DataFrame(\n",
    "    {\n",
    "        \"Freq\": df_low_match.Freq,\n",
    "        \"dB\": adapt(df_low_match, low_db_transition, high_db_transition, high_db_transition_lw),\n",
    "        \"Measurements\": \"Listening Window\",\n",
    "    }\n",
    ")\n",
    "df_low_er = pd.DataFrame(\n",
    "    {\n",
    "        \"Freq\": df_low_match.Freq,\n",
    "        \"dB\": adapt(df_low_match, low_db_transition, high_db_transition, high_db_transition_er),\n",
    "        \"Measurements\": \"Early Reflections\",\n",
    "    }\n",
    ")\n",
    "df_low_sp = pd.DataFrame(\n",
    "    {\n",
    "        \"Freq\": df_low_match.Freq,\n",
    "        \"dB\": adapt(df_low_match, low_db_transition, high_db_transition, high_db_transition_sp),\n",
    "        \"Measurements\": \"Sound Power\",\n",
    "    }\n",
    ")\n",
    "df_low_final = pd.concat(\n",
    "    [df_low_onaxis, df_low_lw, df_low_sp, df_low_er], ignore_index=True\n",
    ").reset_index()\n",
    "df = pd.concat([df_low_final, df_high], ignore_index=True).reset_index()\n",
    "spin_uneven = df.pivot_table(\n",
    "    index=\"Freq\", columns=\"Measurements\", values=\"dB\", aggfunc=max\n",
    ").reset_index()\n",
    "# spin_full = spin_compute_di_eir(speaker_name, 'title', spin_uneven)\n",
    "mean = normalize_mean(spin_uneven)"
   ]
  },
  {
   "cell_type": "code",
   "execution_count": null,
   "id": "3885a7a0-430b-40dc-9d01-d93fe185d0f4",
   "metadata": {},
   "outputs": [],
   "source": [
    "graph_params = graph_params_default.copy()\n",
    "graph_params[\"ymax\"] = 100\n",
    "graph_params[\"ymin\"] = 50"
   ]
  },
  {
   "cell_type": "code",
   "execution_count": null,
   "id": "a569075b-6a5c-490d-a31c-65d5a9767d0c",
   "metadata": {},
   "outputs": [],
   "source": [
    "graph_spinorama(df, graph_params)"
   ]
  },
  {
   "cell_type": "code",
   "execution_count": null,
   "id": "43004f95-c6b7-4b80-94dd-d26a7d9df7d0",
   "metadata": {},
   "outputs": [],
   "source": [
    "df[\"Phase\"] = 0.0\n",
    "for col_name, file_name in (\n",
    "    (\"On Axis\", \"On Axis\"),\n",
    "    (\"Listening Window\", \"LW\"),\n",
    "    (\"Sound Power\", \"SP\"),\n",
    "    (\"Early Reflections\", \"ER\"),\n",
    "):\n",
    "    df.loc[df.Measurements == col_name].to_csv(\n",
    "        path_or_buf=\"{}/{}.txt\".format(data_dir, file_name),\n",
    "        sep=\" \",\n",
    "        columns=[\"Freq\", \"dB\", \"Phase\"],\n",
    "        index=False,\n",
    "        header=False,\n",
    "    )"
   ]
  },
  {
   "cell_type": "code",
   "execution_count": null,
   "id": "b0dc9bfa-61b0-4b7d-a2ae-713b9295db75",
   "metadata": {},
   "outputs": [],
   "source": []
  }
 ],
 "metadata": {
  "kernelspec": {
   "display_name": "Python 3",
   "language": "python",
   "name": "python3"
  },
  "language_info": {
   "codemirror_mode": {
    "name": "ipython",
    "version": 3
   },
   "file_extension": ".py",
   "mimetype": "text/x-python",
   "name": "python",
   "nbconvert_exporter": "python",
   "pygments_lexer": "ipython3",
   "version": "3.8.5"
  }
 },
 "nbformat": 4,
 "nbformat_minor": 5
}
