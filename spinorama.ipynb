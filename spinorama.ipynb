{
 "cells": [
  {
   "cell_type": "code",
   "execution_count": 1,
   "metadata": {},
   "outputs": [
    {
     "name": "stdout",
     "output_type": "stream",
     "text": [
      "Loading speaker: \n",
      "  Emotiva Airmotive 6s, \n",
      "  Harbeth Monitor, \n",
      "  JBL 104, \n",
      "  KEF LS50, \n",
      "  Kali IN-8, \n",
      "  Micca RB42, \n",
      "  Neumann KH 80, \n",
      "  Pioneer SP-BS22-LR, \n",
      "  Realistic MC-1000, \n",
      "  Revel C52, \n",
      "  Selah Audio RC3R, \n",
      "  Yamaha HS5, \n"
     ]
    }
   ],
   "source": [
    "import altair as alt\n",
    "from src.spinorama.load import parse_all_speakers\n",
    "from src.spinorama.contour import compute_contour, compute_isoline\n",
    "from src.spinorama.graph import display_freq, display_contour, display_template1, display_vertical\n",
    "\n",
    "df = parse_all_speakers()"
   ]
  },
  {
   "cell_type": "code",
   "execution_count": 2,
   "metadata": {},
   "outputs": [
    {
     "name": "stdout",
     "output_type": "stream",
     "text": [
      "Emotiva Airmotive 6s\n",
      "Harbeth Monitor\n",
      "JBL 104\n",
      "KEF LS50\n",
      "Kali IN-8\n",
      "Micca RB42\n",
      "Neumann KH 80\n",
      "Pioneer SP-BS22-LR\n",
      "Realistic MC-1000\n",
      "Revel C52\n",
      "Selah Audio RC3R\n",
      "Yamaha HS5\n"
     ]
    }
   ],
   "source": [
    "for k in df.keys():\n",
    "  print(k)"
   ]
  },
  {
   "cell_type": "code",
   "execution_count": 3,
   "metadata": {},
   "outputs": [
    {
     "name": "stdout",
     "output_type": "stream",
     "text": [
      "CEA2034\n",
      "CEA2034_unmelted\n",
      "Early Reflections\n",
      "Early Reflections_unmelted\n",
      "Estimated In-Room Response\n",
      "Estimated In-Room Response_unmelted\n",
      "Horizontal Reflections\n",
      "Horizontal Reflections_unmelted\n",
      "Vertical Reflections\n",
      "Vertical Reflections_unmelted\n",
      "SPL Horizontal\n",
      "SPL Horizontal_unmelted\n",
      "SPL Vertical\n",
      "SPL Vertical_unmelted\n"
     ]
    }
   ],
   "source": [
    "neumann = df['Neumann KH 80']\n",
    "for k in neumann.keys():\n",
    "    print(k)"
   ]
  },
  {
   "cell_type": "code",
   "execution_count": 4,
   "metadata": {},
   "outputs": [
    {
     "name": "stdout",
     "output_type": "stream",
     "text": [
      "Freq\n",
      "On Axis\n",
      "Listening Window\n",
      "Early Reflections\n",
      "Sound Power\n",
      "Sound Power DI\n",
      "Early Reflections DI\n",
      "DI offset\n",
      "Freq\n",
      "Measurements\n",
      "dB\n"
     ]
    }
   ],
   "source": [
    "spinorama_u = neumann['CEA2034_unmelted']\n",
    "for m in spinorama_u.keys():\n",
    "    print(m)\n",
    "spinorama = neumann['CEA2034']\n",
    "for m in spinorama.keys():\n",
    "    print(m)"
   ]
  },
  {
   "cell_type": "code",
   "execution_count": 5,
   "metadata": {},
   "outputs": [
    {
     "name": "stdout",
     "output_type": "stream",
     "text": [
      "           Freq Measurements        dB\n",
      "200     20.5078      On Axis   55.7961\n",
      "201     21.2402      On Axis   51.9241\n",
      "202     21.9727      On Axis   53.8309\n",
      "203     22.7051      On Axis   55.0830\n",
      "204     23.4375      On Axis   41.6382\n",
      "..          ...          ...       ...\n",
      "395  17753.2000      On Axis  107.9410\n",
      "396  18379.4000      On Axis  106.9740\n",
      "397  19027.6000      On Axis  104.8340\n",
      "398  19698.5000      On Axis  104.4100\n",
      "399  19999.5000      On Axis  104.0890\n",
      "\n",
      "[200 rows x 3 columns]\n"
     ]
    }
   ],
   "source": [
    "onaxis = spinorama.loc[spinorama['Measurements']=='On Axis']\n",
    "print(onaxis)"
   ]
  },
  {
   "cell_type": "code",
   "execution_count": 7,
   "metadata": {},
   "outputs": [
    {
     "name": "stdout",
     "output_type": "stream",
     "text": [
      "Estimated -3dB point at 58Hz\n",
      "Estimated -6dB point at 55Hz\n",
      "Estimated +/-3.1dB from 80hz to 20kz\n"
     ]
    }
   ],
   "source": [
    "from src.spinorama.analysis import estimates\n",
    "\n",
    "e0, e3, e6, delta = estimates(onaxis)\n",
    "\n",
    "print('Estimated -3dB point at %1.fHz'% e3)\n",
    "print('Estimated -6dB point at %1.fHz'% e6)\n",
    "print('Estimated +/-%1.1fdB from 80hz to 20kz'%delta)\n"
   ]
  },
  {
   "cell_type": "code",
   "execution_count": 222,
   "metadata": {},
   "outputs": [
    {
     "name": "stdout",
     "output_type": "stream",
     "text": [
      "[0, 10, -10, 20, -20, 30, -30, 40, -40, 50, -50, 60, -60, 70, -70, 80, -80, 90, -90, 100, -100, 110, -110, 120, -120, 130, -130, 140, -140, 150, -150, 160, -160, 170, -170, 180]\n",
      "[34, 32, 30, 28, 26, 24, 22, 20, 18, 16, 14, 12, 10, 8, 6, 4, 2, 0, 1, 3, 5, 7, 9, 11, 13, 15, 17, 19, 21, 23, 25, 27, 29, 31, 33, 35]\n",
      "[-170, -160, -150, -140, -130, -120, -110, -100, -90, -80, -70, -60, -50, -40, -30, -20, -10, 0, 10, 20, 30, 40, 50, 60, 70, 80, 90, 100, 110, 120, 130, 140, 150, 160, 170, 180]\n",
      "[0, 10, -10, 20, -20, 30, -30, 40, -40, 50, -50, 60, -60, 70, -70, 80, -80, 90, -90, 100, -100, 110, -110, 120, -120, 130, -130, 140, -140, 150, -150, 160, -160, 170, -170, 180]\n",
      "[34, 32, 30, 28, 26, 24, 22, 20, 18, 16, 14, 12, 10, 8, 6, 4, 2, 0, 1, 3, 5, 7, 9, 11, 13, 15, 17, 19, 21, 23, 25, 27, 29, 31, 33, 35]\n",
      "[-170, -160, -150, -140, -130, -120, -110, -100, -90, -80, -70, -60, -50, -40, -30, -20, -10, 0, 10, 20, 30, 40, 50, 60, 70, 80, 90, 100, 110, 120, 130, 140, 150, 160, 170, 180]\n",
      "[0, 10, -10, 20, -20, 30, -30, 40, -40, 50, -50, 60, -60, 70, -70, 80, -80, 90, -90, 100, -100, 110, -110, 120, -120, 130, -130, 140, -140, 150, -150, 160, -160, 170, -170, 180]\n",
      "[34, 32, 30, 28, 26, 24, 22, 20, 18, 16, 14, 12, 10, 8, 6, 4, 2, 0, 1, 3, 5, 7, 9, 11, 13, 15, 17, 19, 21, 23, 25, 27, 29, 31, 33, 35]\n",
      "[-170, -160, -150, -140, -130, -120, -110, -100, -90, -80, -70, -60, -50, -40, -30, -20, -10, 0, 10, 20, 30, 40, 50, 60, 70, 80, 90, 100, 110, 120, 130, 140, 150, 160, 170, 180]\n"
     ]
    },
    {
     "data": {
      "text/html": [
       "\n",
       "<div id=\"altair-viz-e7aaa8e1b84a474fbb8b7782a1949181\"></div>\n",
       "<script type=\"text/javascript\">\n",
       "  (function(spec, embedOpt){\n",
       "    const outputDiv = document.getElementById(\"altair-viz-e7aaa8e1b84a474fbb8b7782a1949181\");\n",
       "    const paths = {\n",
       "      \"vega\": \"https://cdn.jsdelivr.net/npm//vega@5?noext\",\n",
       "      \"vega-lib\": \"https://cdn.jsdelivr.net/npm//vega-lib?noext\",\n",
       "      \"vega-lite\": \"https://cdn.jsdelivr.net/npm//vega-lite@4.0.2?noext\",\n",
       "      \"vega-embed\": \"https://cdn.jsdelivr.net/npm//vega-embed@6?noext\",\n",
       "    };\n",
       "\n",
       "    function loadScript(lib) {\n",
       "      return new Promise(function(resolve, reject) {\n",
       "        var s = document.createElement('script');\n",
       "        s.src = paths[lib];\n",
       "        s.async = true;\n",
       "        s.onload = () => resolve(paths[lib]);\n",
       "        s.onerror = () => reject(`Error loading script: ${paths[lib]}`);\n",
       "        document.getElementsByTagName(\"head\")[0].appendChild(s);\n",
       "      });\n",
       "    }\n",
       "\n",
       "    function showError(err) {\n",
       "      outputDiv.innerHTML = `<div class=\"error\" style=\"color:red;\">${err}</div>`;\n",
       "      throw err;\n",
       "    }\n",
       "\n",
       "    function displayChart(vegaEmbed) {\n",
       "      vegaEmbed(outputDiv, spec, embedOpt)\n",
       "        .catch(err => showError(`Javascript Error: ${err.message}<br>This usually means there's a typo in your chart specification. See the javascript console for the full traceback.`));\n",
       "    }\n",
       "\n",
       "    if(typeof define === \"function\" && define.amd) {\n",
       "      requirejs.config({paths});\n",
       "      require([\"vega-embed\"], displayChart, err => showError(`Error loading script: ${err.message}`));\n",
       "    } else if (typeof vegaEmbed === \"function\") {\n",
       "      displayChart(vegaEmbed);\n",
       "    } else {\n",
       "      loadScript(\"vega\")\n",
       "        .then(() => loadScript(\"vega-lite\"))\n",
       "        .then(() => loadScript(\"vega-embed\"))\n",
       "        .catch(showError)\n",
       "        .then(() => displayChart(vegaEmbed));\n",
       "    }\n",
       "  })({\"config\": {\"view\": {\"continuousWidth\": 400, \"continuousHeight\": 300}}, \"layer\": [{\"data\": {\"name\": \"data-60245eec81c781d50ba536cbc5860fe6\"}, \"mark\": \"line\", \"encoding\": {\"latitude\": {\"field\": \"x\", \"type\": \"quantitative\"}, \"longitude\": {\"field\": \"y\", \"type\": \"quantitative\"}}, \"projection\": {\"rotate\": [0, 0, 90], \"type\": \"azimuthalEquidistant\"}}, {\"data\": {\"name\": \"data-a8db51f9f03304ba2f23a874502fdf34\"}, \"mark\": \"line\", \"encoding\": {\"color\": {\"type\": \"nominal\", \"field\": \"hz\"}, \"latitude\": {\"field\": \"x\", \"type\": \"quantitative\"}, \"longitude\": {\"field\": \"y\", \"type\": \"quantitative\"}}, \"projection\": {\"rotate\": [0, 0, 90], \"type\": \"azimuthalEquidistant\"}}], \"$schema\": \"https://vega.github.io/schema/vega-lite/v4.0.2.json\", \"datasets\": {\"data-60245eec81c781d50ba536cbc5860fe6\": [{\"x\": 0.0, \"y\": 0.0}, {\"x\": -1.0, \"y\": -1.2246467991473532e-16}, {\"x\": 0.0, \"y\": 0.0}, {\"x\": -0.9848077530122081, \"y\": -0.17364817766693025}, {\"x\": 0.0, \"y\": 0.0}, {\"x\": -0.9396926207859083, \"y\": -0.3420201433256689}, {\"x\": 0.0, \"y\": 0.0}, {\"x\": -0.8660254037844387, \"y\": -0.49999999999999994}, {\"x\": 0.0, \"y\": 0.0}, {\"x\": -0.7660444431189779, \"y\": -0.6427876096865395}, {\"x\": 0.0, \"y\": 0.0}, {\"x\": -0.6427876096865393, \"y\": -0.7660444431189781}, {\"x\": 0.0, \"y\": 0.0}, {\"x\": -0.4999999999999998, \"y\": -0.8660254037844388}, {\"x\": 0.0, \"y\": 0.0}, {\"x\": -0.3420201433256687, \"y\": -0.9396926207859084}, {\"x\": 0.0, \"y\": 0.0}, {\"x\": -0.1736481776669303, \"y\": -0.984807753012208}, {\"x\": 0.0, \"y\": 0.0}, {\"x\": 6.123233995736766e-17, \"y\": -1.0}, {\"x\": 0.0, \"y\": 0.0}, {\"x\": 0.17364817766693041, \"y\": -0.984807753012208}, {\"x\": 0.0, \"y\": 0.0}, {\"x\": 0.3420201433256688, \"y\": -0.9396926207859083}, {\"x\": 0.0, \"y\": 0.0}, {\"x\": 0.5000000000000001, \"y\": -0.8660254037844386}, {\"x\": 0.0, \"y\": 0.0}, {\"x\": 0.6427876096865394, \"y\": -0.766044443118978}, {\"x\": 0.0, \"y\": 0.0}, {\"x\": 0.7660444431189781, \"y\": -0.6427876096865393}, {\"x\": 0.0, \"y\": 0.0}, {\"x\": 0.8660254037844387, \"y\": -0.49999999999999994}, {\"x\": 0.0, \"y\": 0.0}, {\"x\": 0.9396926207859084, \"y\": -0.3420201433256687}, {\"x\": 0.0, \"y\": 0.0}, {\"x\": 0.984807753012208, \"y\": -0.17364817766693033}, {\"x\": 0.0, \"y\": 0.0}, {\"x\": 1.0, \"y\": 0.0}, {\"x\": 0.0, \"y\": 0.0}, {\"x\": 0.984807753012208, \"y\": 0.17364817766693033}, {\"x\": 0.0, \"y\": 0.0}, {\"x\": 0.9396926207859084, \"y\": 0.3420201433256687}, {\"x\": 0.0, \"y\": 0.0}, {\"x\": 0.8660254037844387, \"y\": 0.49999999999999994}, {\"x\": 0.0, \"y\": 0.0}, {\"x\": 0.7660444431189781, \"y\": 0.6427876096865393}, {\"x\": 0.0, \"y\": 0.0}, {\"x\": 0.6427876096865394, \"y\": 0.766044443118978}, {\"x\": 0.0, \"y\": 0.0}, {\"x\": 0.5000000000000001, \"y\": 0.8660254037844386}, {\"x\": 0.0, \"y\": 0.0}, {\"x\": 0.3420201433256688, \"y\": 0.9396926207859083}, {\"x\": 0.0, \"y\": 0.0}, {\"x\": 0.17364817766693041, \"y\": 0.984807753012208}, {\"x\": 0.0, \"y\": 0.0}, {\"x\": 6.123233995736766e-17, \"y\": 1.0}, {\"x\": 0.0, \"y\": 0.0}, {\"x\": -0.1736481776669303, \"y\": 0.984807753012208}, {\"x\": 0.0, \"y\": 0.0}, {\"x\": -0.3420201433256687, \"y\": 0.9396926207859084}, {\"x\": 0.0, \"y\": 0.0}, {\"x\": -0.4999999999999998, \"y\": 0.8660254037844388}, {\"x\": 0.0, \"y\": 0.0}, {\"x\": -0.6427876096865393, \"y\": 0.7660444431189781}, {\"x\": 0.0, \"y\": 0.0}, {\"x\": -0.7660444431189779, \"y\": 0.6427876096865395}, {\"x\": 0.0, \"y\": 0.0}, {\"x\": -0.8660254037844387, \"y\": 0.49999999999999994}, {\"x\": 0.0, \"y\": 0.0}, {\"x\": -0.9396926207859083, \"y\": 0.3420201433256689}, {\"x\": 0.0, \"y\": 0.0}, {\"x\": -0.9848077530122081, \"y\": 0.17364817766693025}], \"data-a8db51f9f03304ba2f23a874502fdf34\": [{\"x\": -0.9558740257574437, \"y\": -0.16854638089945542, \"hz\": \"100 Hz\"}, {\"x\": -0.9121900233535248, \"y\": -0.3320100164952752, \"hz\": \"100 Hz\"}, {\"x\": -0.8407843482080009, \"y\": -0.4854270697683133, \"hz\": \"100 Hz\"}, {\"x\": -0.7438250706693919, \"y\": -0.6241433424591013, \"hz\": \"100 Hz\"}, {\"x\": -0.6242517393615862, \"y\": -0.7439542530673549, \"hz\": \"100 Hz\"}, {\"x\": -0.4856847075576873, \"y\": -0.8412305899491467, \"hz\": \"100 Hz\"}, {\"x\": -0.3323144217606039, \"y\": -0.9130263699463791, \"hz\": \"100 Hz\"}, {\"x\": -0.16877088598679973, \"y\": -0.9571472573777108, \"hz\": \"100 Hz\"}, {\"x\": 5.953199935427378e-17, \"y\": -0.9722313306289173, \"hz\": \"100 Hz\"}, {\"x\": 0.16888639222739, \"y\": -0.957802325820022, \"hz\": \"100 Hz\"}, {\"x\": 0.33275981472776944, \"y\": -0.9142500770664499, \"hz\": \"100 Hz\"}, {\"x\": 0.4866309408932069, \"y\": -0.8428695141620813, \"hz\": \"100 Hz\"}, {\"x\": 0.625799406247068, \"y\": -0.7457986906382669, \"hz\": \"100 Hz\"}, {\"x\": 0.7459996410350977, \"y\": -0.6259680236509336, \"hz\": \"100 Hz\"}, {\"x\": 0.8435267065444959, \"y\": -0.48701037109210304, \"hz\": \"100 Hz\"}, {\"x\": 0.9153857477030624, \"y\": -0.3331731650354264, \"hz\": \"100 Hz\"}, {\"x\": 0.9593523469229559, \"y\": -0.16915970276850464, \"hz\": \"100 Hz\"}, {\"x\": 0.9740863227124106, \"y\": 0.0, \"hz\": \"100 Hz\"}, {\"x\": 0.9591309153368224, \"y\": 0.16912065840548823, \"hz\": \"100 Hz\"}, {\"x\": 0.9149631725824625, \"y\": 0.3330193602697866, \"hz\": \"100 Hz\"}, {\"x\": 0.8429587625103105, \"y\": 0.48668246845108154, \"hz\": \"100 Hz\"}, {\"x\": 0.7453537290452842, \"y\": 0.625426039138508, \"hz\": \"100 Hz\"}, {\"x\": 0.6251550468822955, \"y\": 0.7450307730503773, \"hz\": \"100 Hz\"}, {\"x\": 0.4860688220800271, \"y\": 0.8418958958177636, \"hz\": \"100 Hz\"}, {\"x\": 0.33234326015416144, \"y\": 0.9131056027814914, \"hz\": \"100 Hz\"}, {\"x\": 0.16866514083696377, \"y\": 0.9565475468319328, \"hz\": \"100 Hz\"}, {\"x\": 5.945340736283523e-17, \"y\": 0.97094782600549, \"hz\": \"100 Hz\"}, {\"x\": -0.16855288829329154, \"y\": 0.9559109310217992, \"hz\": \"100 Hz\"}, {\"x\": -0.3319106842507993, \"y\": 0.9119171102548042, \"hz\": \"100 Hz\"}, {\"x\": -0.4851506946851664, \"y\": 0.8403056525220449, \"hz\": \"100 Hz\"}, {\"x\": -0.62364953434778, \"y\": 0.7432365730786731, \"hz\": \"100 Hz\"}, {\"x\": -0.7432293962787861, \"y\": 0.6236435122976423, \"hz\": \"100 Hz\"}, {\"x\": -0.8402650850910314, \"y\": 0.48512727306795067, \"hz\": \"100 Hz\"}, {\"x\": -0.911811466474654, \"y\": 0.3318722330593895, \"hz\": \"100 Hz\"}, {\"x\": -0.9556710468034882, \"y\": 0.1685105902333571, \"hz\": \"100 Hz\"}, {\"x\": -0.9705168682487187, \"y\": 1.188540376219307e-16, \"hz\": \"100 Hz\"}, {\"x\": -0.9558740257574437, \"y\": -0.16854638089945542, \"hz\": \"100 Hz\"}, {\"x\": -0.9230560194292562, \"y\": -0.16275968093073484, \"hz\": \"1 kHz\"}, {\"x\": -0.8548949995540066, \"y\": -0.3111563332606769, \"hz\": \"1 kHz\"}, {\"x\": -0.740663117118705, \"y\": -0.4276220500473116, \"hz\": \"1 kHz\"}, {\"x\": -0.6558999422160288, \"y\": -0.5503653996026692, \"hz\": \"1 kHz\"}, {\"x\": -0.5869632049067097, \"y\": -0.6995155081681828, \"hz\": \"1 kHz\"}, {\"x\": -0.47201585175053146, \"y\": -0.8175554372098199, \"hz\": \"1 kHz\"}, {\"x\": -0.328142467492623, \"y\": -0.901564019800104, \"hz\": \"1 kHz\"}, {\"x\": -0.16757189867250477, \"y\": -0.9503474624201976, \"hz\": \"1 kHz\"}, {\"x\": 5.903520618211477e-17, \"y\": -0.9641180824253553, \"hz\": \"1 kHz\"}, {\"x\": 0.1667601012914558, \"y\": -0.9457435306918407, \"hz\": \"1 kHz\"}, {\"x\": 0.32781883663158917, \"y\": -0.9006748513171747, \"hz\": \"1 kHz\"}, {\"x\": 0.48121586299290803, \"y\": -0.8334903241118203, \"hz\": \"1 kHz\"}, {\"x\": 0.6243059378128287, \"y\": -0.744018844266336, \"hz\": \"1 kHz\"}, {\"x\": 0.7516118985465887, \"y\": -0.6306772668588976, \"hz\": \"1 kHz\"}, {\"x\": 0.8569626396960809, \"y\": -0.4947676107139845, \"hz\": \"1 kHz\"}, {\"x\": 0.93537883309645, \"y\": -0.3404500530097619, \"hz\": \"1 kHz\"}, {\"x\": 0.9834699371793186, \"y\": -0.17341228464037298, \"hz\": \"1 kHz\"}, {\"x\": 0.9992973514835252, \"y\": 0.0, \"hz\": \"1 kHz\"}, {\"x\": 0.9822428371394961, \"y\": 0.17319591379532384, \"hz\": \"1 kHz\"}, {\"x\": 0.9329930443947292, \"y\": 0.3395816969370869, \"hz\": \"1 kHz\"}, {\"x\": 0.8536198833805899, \"y\": 0.4928376694554004, \"hz\": \"1 kHz\"}, {\"x\": 0.747793841006802, \"y\": 0.627473536185449, \"hz\": \"1 kHz\"}, {\"x\": 0.6209335897355144, \"y\": 0.7399998363297184, \"hz\": \"1 kHz\"}, {\"x\": 0.4793468179390852, \"y\": 0.8302530431169638, \"hz\": \"1 kHz\"}, {\"x\": 0.32752404416411285, \"y\": 0.8998649156693581, \"hz\": \"1 kHz\"}, {\"x\": 0.16693580092502955, \"y\": 0.946739972829441, \"hz\": \"1 kHz\"}, {\"x\": 5.907880465911718e-17, \"y\": 0.9648300995887164, \"hz\": \"1 kHz\"}, {\"x\": -0.16734576673670154, \"y\": 0.9490650044838416, \"hz\": \"1 kHz\"}, {\"x\": -0.32657558144266696, \"y\": 0.8972590357589916, \"hz\": \"1 kHz\"}, {\"x\": -0.4672874956670006, \"y\": 0.8093656842368672, \"hz\": \"1 kHz\"}, {\"x\": -0.5760301728810592, \"y\": 0.6864860279736663, \"hz\": \"1 kHz\"}, {\"x\": -0.6479035517821371, \"y\": 0.5436556313388412, \"hz\": \"1 kHz\"}, {\"x\": -0.7663139037483766, \"y\": 0.44243153861287804, \"hz\": \"1 kHz\"}, {\"x\": -0.8689614688809792, \"y\": 0.3162761093969135, \"hz\": \"1 kHz\"}, {\"x\": -0.9292099722605468, \"y\": 0.1638447888528986, \"hz\": \"1 kHz\"}, {\"x\": -0.9473669417925968, \"y\": 1.1601898928843205e-16, \"hz\": \"1 kHz\"}, {\"x\": -0.9230560194292562, \"y\": -0.16275968093073484, \"hz\": \"1 kHz\"}, {\"x\": -0.7451809489199047, \"y\": -0.1313955068045156, \"hz\": \"10 kHz\"}, {\"x\": -0.6326081610107216, \"y\": -0.2302505405617839, \"hz\": \"10 kHz\"}, {\"x\": -0.5892532943479905, \"y\": -0.340205548112686, \"hz\": \"10 kHz\"}, {\"x\": -0.5428423782390205, \"y\": -0.45549883936775976, \"hz\": \"10 kHz\"}, {\"x\": -0.45375846687786, \"y\": -0.5407682830717305, \"hz\": \"10 kHz\"}, {\"x\": -0.3750948575497239, \"y\": -0.6496833509339327, \"hz\": \"10 kHz\"}, {\"x\": -0.26695188233599826, \"y\": -0.7334442687990624, \"hz\": \"10 kHz\"}, {\"x\": -0.12761536172514557, \"y\": -0.7237426808557559, \"hz\": \"10 kHz\"}, {\"x\": 4.792224122628671e-17, \"y\": -0.7826295918080551, \"hz\": \"10 kHz\"}, {\"x\": 0.14651153194631064, \"y\": -0.8309081874914505, \"hz\": \"10 kHz\"}, {\"x\": 0.29728827022548354, \"y\": -0.8167928095132398, \"hz\": \"10 kHz\"}, {\"x\": 0.4483839084121081, \"y\": -0.7766237106660812, \"hz\": \"10 kHz\"}, {\"x\": 0.595380826589692, \"y\": -0.7095472390499759, \"hz\": \"10 kHz\"}, {\"x\": 0.7293351116979082, \"y\": -0.611984823230355, \"hz\": \"10 kHz\"}, {\"x\": 0.8469100302910001, \"y\": -0.48896373396790294, \"hz\": \"10 kHz\"}, {\"x\": 0.9353964403931417, \"y\": -0.3404564615416636, \"hz\": \"10 kHz\"}, {\"x\": 0.9857580635693639, \"y\": -0.173815743058209, \"hz\": \"10 kHz\"}, {\"x\": 1.0, \"y\": 0.0, \"hz\": \"10 kHz\"}, {\"x\": 0.9815969950132738, \"y\": 0.1730820344031927, \"hz\": \"10 kHz\"}, {\"x\": 0.9291898683093293, \"y\": 0.3381974540463282, \"hz\": \"10 kHz\"}, {\"x\": 0.8357134193313459, \"y\": 0.4824993676163351, \"hz\": \"10 kHz\"}, {\"x\": 0.7174101410059729, \"y\": 0.6019785847209522, \"hz\": \"10 kHz\"}, {\"x\": 0.5818113410135983, \"y\": 0.6933757558650108, \"hz\": \"10 kHz\"}, {\"x\": 0.4358575590927403, \"y\": 0.7549274372115804, \"hz\": \"10 kHz\"}, {\"x\": 0.28680263032798675, \"y\": 0.7879837506663346, \"hz\": \"10 kHz\"}, {\"x\": 0.13955122349925575, \"y\": 0.7914343167367364, \"hz\": \"10 kHz\"}, {\"x\": 4.767527880063492e-17, \"y\": 0.77859638932349, \"hz\": \"10 kHz\"}, {\"x\": -0.13153590382652872, \"y\": 0.745977179998376, \"hz\": \"10 kHz\"}, {\"x\": -0.2618266589476453, \"y\": 0.7193628332699019, \"hz\": \"10 kHz\"}, {\"x\": -0.3624453105238009, \"y\": 0.6277736927923022, \"hz\": \"10 kHz\"}, {\"x\": -0.47673439476960566, \"y\": 0.568149927679904, \"hz\": \"10 kHz\"}, {\"x\": -0.5085832062993101, \"y\": 0.42675198082870974, \"hz\": \"10 kHz\"}, {\"x\": -0.6452014611555899, \"y\": 0.37250723727971957, \"hz\": \"10 kHz\"}, {\"x\": -0.6170477125594611, \"y\": 0.22458700049369146, \"hz\": \"10 kHz\"}, {\"x\": -0.5818078020390732, \"y\": 0.10258841308617801, \"hz\": \"10 kHz\"}, {\"x\": -0.7381641199561546, \"y\": 9.039903267497276e-17, \"hz\": \"10 kHz\"}, {\"x\": -0.7451809489199047, \"y\": -0.1313955068045156, \"hz\": \"10 kHz\"}]}}, {\"mode\": \"vega-lite\"});\n",
       "</script>"
      ],
      "text/plain": [
       "alt.LayerChart(...)"
      ]
     },
     "execution_count": 222,
     "metadata": {},
     "output_type": "execute_result"
    }
   ],
   "source": [
    "import math\n",
    "import pandas as pd\n",
    "import numpy as np\n",
    "\n",
    "spl = neumann['SPL Horizontal']\n",
    "\n",
    "radius=1\n",
    "anglelist = [a for a in range(-180,180,10)]\n",
    "gridC = [(radius*math.cos(p*math.pi/180), \n",
    "          radius*math.sin(p*math.pi/180)) for p in anglelist]\n",
    "gridX = [(0,g[0]) for g in gridC] \n",
    "gridX = [s for s2 in gridX for s in s2]\n",
    "gridY = [(0,g[1]) for g in gridC] \n",
    "gridY = [s for s2 in gridY for s in s2]\n",
    "\n",
    "#for g in zip(gridX, gridY):\n",
    "#    print('line from %d, %d' % g)\n",
    "\n",
    "splu = neumann['SPL Horizontal_unmelted']\n",
    "# 100hz 47\n",
    "#  1khz 113\n",
    "# 10khz 180\n",
    "def hzname(i):\n",
    "    if i == 47:\n",
    "        return '100 Hz'\n",
    "    elif i == 113:\n",
    "        return '1 kHz'\n",
    "    elif i == 180:\n",
    "        return '10 kHz'\n",
    "    else:\n",
    "        return 'error'\n",
    "\n",
    "dbX = []\n",
    "dbY = []\n",
    "hz  = []\n",
    "for ihz in [47, 113, 180]:\n",
    "    gridZ = splu.loc[ihz][1:]\n",
    "    angles = [0]\n",
    "    values = {}\n",
    "    dbs = []\n",
    "    for a, z in zip(gridZ.index,gridZ):\n",
    "        angle = 0\n",
    "        if a != 'On-Axis':\n",
    "            angle = int(a[:-1])\n",
    "            angles.append(angle)\n",
    "        dbs.append(z)\n",
    "\n",
    "    anglemin = np.array(angles).min()/10\n",
    "    # [0   1    2   3    4   5    6   7    8   9   10  11   12  13   ]\n",
    "    # [0, 10, -10, 20, -20, 30, -30, 40, -40, 50, -50, 60, -60, 70, -70, 80, -80, 90, -90, 100, -100, 110, -110, 120, -120, 130, -130, 140, -140, 150, -150, 160, -160, 170, -170, 180]\n",
    "    # perm[0] = orig[-170] = 35\n",
    "    # perm[1] = orig[-150] = 33\n",
    "    # perm[2] =            = 31\n",
    "    # perm[17] = 0\n",
    "    # perm[18] = 1\n",
    "    # perm[19] = 3 \n",
    "    def compute_perm(i):\n",
    "        if i<17:\n",
    "            return 34-2*i\n",
    "        elif i == 17:\n",
    "            return 0\n",
    "        else:\n",
    "            return 1+2*(i-18)\n",
    "    perm = [compute_perm(i) for i in range(0, len(angles))]\n",
    "    dbsmax = 1 # np.array(dbs).max()\n",
    "    sorted_dbs = [dbs[perm[i]] for i in range(0,len(perm))]\n",
    "    sorted_angles = [angles[perm[i]] for i in range(0,len(perm))]\n",
    "    # print(angles)\n",
    "    # print(perm)\n",
    "    # print(sorted_angles)\n",
    "        \n",
    "    # map in 2d\n",
    "    dbsX = [db*math.cos(a*math.pi/180) for a,db in zip(sorted_angles, sorted_dbs)]\n",
    "    dbsY = [db*math.sin(a*math.pi/180) for a,db in zip(sorted_angles, sorted_dbs)]\n",
    "\n",
    "    dbsX.append(dbsX[0])\n",
    "    dbsY.append(dbsY[0])\n",
    "    # add to global variable\n",
    "    dbX.append(dbsX)\n",
    "    dbY.append(dbsY)\n",
    "    hz.append([ihz for i in range(0,len(dbsX))])\n",
    "\n",
    "dbmax = max(np.array(dbX).max(), np.array(dbY).max())\n",
    "dbX = [v2/dbmax for v1 in dbX for v2 in v1]\n",
    "dbY = [v2/dbmax for v1 in dbY for v2 in v1]\n",
    "hz  = [hzname(i2) for i1 in hz for i2 in i1]\n",
    "\n",
    "grid_df = pd.DataFrame({'x': gridX, 'y': gridY })\n",
    "grid = alt.Chart(grid_df).mark_line(\n",
    ").encode(\n",
    "   alt.Latitude('x:Q'), \n",
    "   alt.Longitude('y:Q')\n",
    ").project(\n",
    "   type='azimuthalEquidistant',\n",
    "   rotate=[0, 0, 90]   \n",
    ")\n",
    "\n",
    "dbs_df = pd.DataFrame({'x': dbX, 'y': dbY, 'hz': hz })\n",
    "dbs = alt.Chart(dbs_df).mark_line(\n",
    ").encode(\n",
    "   alt.Latitude('x:Q'), \n",
    "   alt.Longitude('y:Q'),\n",
    "   alt.Color('hz:N')\n",
    ").project(\n",
    "   type='azimuthalEquidistant',\n",
    "   rotate=[0, 0, 90]   \n",
    ")\n",
    "\n",
    "grid+dbs"
   ]
  }
 ],
 "metadata": {
  "kernelspec": {
   "display_name": "Python 3",
   "language": "python",
   "name": "python3"
  },
  "language_info": {
   "codemirror_mode": {
    "name": "ipython",
    "version": 3
   },
   "file_extension": ".py",
   "mimetype": "text/x-python",
   "name": "python",
   "nbconvert_exporter": "python",
   "pygments_lexer": "ipython3",
   "version": "3.7.6"
  }
 },
 "nbformat": 4,
 "nbformat_minor": 4
}
