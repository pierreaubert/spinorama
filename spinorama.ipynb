{
 "cells": [
  {
   "cell_type": "code",
   "execution_count": 1,
   "metadata": {},
   "outputs": [
    {
     "name": "stdout",
     "output_type": "stream",
     "text": [
      "Loading speaker: \n",
      "  Emotiva Airmotive 6s, \n",
      "  Harbeth Monitor, \n",
      "  JBL 104, \n",
      "  KEF LS50, \n",
      "  Kali IN-8, \n",
      "  Micca RB42, \n",
      "  Neumann KH 80, \n",
      "  Pioneer SP-BS22-LR, \n",
      "  Realistic MC-1000, \n",
      "  Revel C52, \n",
      "  Selah Audio RC3R, \n",
      "  Yamaha HS5, \n"
     ]
    }
   ],
   "source": [
    "import altair as alt\n",
    "from src.spinorama.load import parse_all_speakers\n",
    "from src.spinorama.contour import compute_contour, compute_isoline\n",
    "from src.spinorama.graph import display_freq, display_contour, display_template1, display_vertical\n",
    "\n",
    "df = parse_all_speakers()"
   ]
  },
  {
   "cell_type": "code",
   "execution_count": 2,
   "metadata": {},
   "outputs": [
    {
     "name": "stdout",
     "output_type": "stream",
     "text": [
      "Emotiva Airmotive 6s\n",
      "Harbeth Monitor\n",
      "JBL 104\n",
      "KEF LS50\n",
      "Kali IN-8\n",
      "Micca RB42\n",
      "Neumann KH 80\n",
      "Pioneer SP-BS22-LR\n",
      "Realistic MC-1000\n",
      "Revel C52\n",
      "Selah Audio RC3R\n",
      "Yamaha HS5\n"
     ]
    }
   ],
   "source": [
    "for k in df.keys():\n",
    "  print(k)"
   ]
  },
  {
   "cell_type": "code",
   "execution_count": 3,
   "metadata": {},
   "outputs": [
    {
     "name": "stdout",
     "output_type": "stream",
     "text": [
      "CEA2034\n",
      "CEA2034_unmelted\n",
      "Early Reflections\n",
      "Early Reflections_unmelted\n",
      "Estimated In-Room Response\n",
      "Estimated In-Room Response_unmelted\n",
      "Horizontal Reflections\n",
      "Horizontal Reflections_unmelted\n",
      "Vertical Reflections\n",
      "Vertical Reflections_unmelted\n",
      "SPL Horizontal\n",
      "SPL Horizontal_unmelted\n",
      "SPL Vertical\n",
      "SPL Vertical_unmelted\n"
     ]
    }
   ],
   "source": [
    "neumann = df['Neumann KH 80']\n",
    "for k in neumann.keys():\n",
    "    print(k)"
   ]
  },
  {
   "cell_type": "code",
   "execution_count": 4,
   "metadata": {},
   "outputs": [
    {
     "name": "stdout",
     "output_type": "stream",
     "text": [
      "Freq\n",
      "On Axis\n",
      "Listening Window\n",
      "Early Reflections\n",
      "Sound Power\n",
      "Sound Power DI\n",
      "Early Reflections DI\n",
      "DI offset\n",
      "Freq\n",
      "Measurements\n",
      "dB\n"
     ]
    }
   ],
   "source": [
    "spinorama_u = neumann['CEA2034_unmelted']\n",
    "for m in spinorama_u.keys():\n",
    "    print(m)\n",
    "spinorama = neumann['CEA2034']\n",
    "for m in spinorama.keys():\n",
    "    print(m)"
   ]
  },
  {
   "cell_type": "code",
   "execution_count": 5,
   "metadata": {},
   "outputs": [
    {
     "name": "stdout",
     "output_type": "stream",
     "text": [
      "           Freq Measurements        dB\n",
      "200     20.5078      On Axis   55.7961\n",
      "201     21.2402      On Axis   51.9241\n",
      "202     21.9727      On Axis   53.8309\n",
      "203     22.7051      On Axis   55.0830\n",
      "204     23.4375      On Axis   41.6382\n",
      "..          ...          ...       ...\n",
      "395  17753.2000      On Axis  107.9410\n",
      "396  18379.4000      On Axis  106.9740\n",
      "397  19027.6000      On Axis  104.8340\n",
      "398  19698.5000      On Axis  104.4100\n",
      "399  19999.5000      On Axis  104.0890\n",
      "\n",
      "[200 rows x 3 columns]\n"
     ]
    }
   ],
   "source": [
    "onaxis = spinorama.loc[spinorama['Measurements']=='On Axis']\n",
    "print(onaxis)"
   ]
  },
  {
   "cell_type": "code",
   "execution_count": 6,
   "metadata": {},
   "outputs": [
    {
     "name": "stdout",
     "output_type": "stream",
     "text": [
      "Estimated -3dB point at 58Hz\n",
      "Estimated -6dB point at 55Hz\n",
      "Estimated +/-3.1dB from 80hz to 20kz\n"
     ]
    }
   ],
   "source": [
    "from src.spinorama.analysis import estimates\n",
    "\n",
    "e0, e3, e6, delta = estimates(onaxis)\n",
    "\n",
    "print('Estimated -3dB point at %1.fHz'% e3)\n",
    "print('Estimated -6dB point at %1.fHz'% e6)\n",
    "print('Estimated +/-%1.1fdB from 80hz to 20kz'%delta)\n"
   ]
  },
  {
   "cell_type": "code",
   "execution_count": null,
   "metadata": {},
   "outputs": [],
   "source": []
  }
 ],
 "metadata": {
  "kernelspec": {
   "display_name": "Python 3",
   "language": "python",
   "name": "python3"
  },
  "language_info": {
   "codemirror_mode": {
    "name": "ipython",
    "version": 3
   },
   "file_extension": ".py",
   "mimetype": "text/x-python",
   "name": "python",
   "nbconvert_exporter": "python",
   "pygments_lexer": "ipython3",
   "version": "3.7.6"
  }
 },
 "nbformat": 4,
 "nbformat_minor": 4
}
