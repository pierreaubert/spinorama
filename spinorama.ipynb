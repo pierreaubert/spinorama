{
 "cells": [
  {
   "cell_type": "code",
   "execution_count": 4,
   "metadata": {},
   "outputs": [
    {
     "name": "stdout",
     "output_type": "stream",
     "text": [
      "Loading speaker: \n",
      "  Emotiva Airmotive 6s, \n",
      "  Harbeth Monitor, \n",
      "  JBL 104, \n",
      "  KEF LS50, \n",
      "  Kali IN-8, \n",
      "  Micca RB42, \n",
      "  Neumann KH 80, \n",
      "  Pioneer SP-BS22-LR, \n",
      "  Realistic MC-1000, \n",
      "  Revel C52, \n",
      "  Selah Audio RC3R, \n",
      "  Yamaha HS5, \n"
     ]
    }
   ],
   "source": [
    "import altair as alt\n",
    "from src.spinorama.load import parse_all_speakers\n",
    "from src.spinorama.contour import compute_contour, compute_isoline\n",
    "from src.spinorama.graph import display_freq, display_contour, display_template1, display_vertical\n",
    "\n",
    "df = parse_all_speakers()"
   ]
  },
  {
   "cell_type": "code",
   "execution_count": 6,
   "metadata": {},
   "outputs": [
    {
     "name": "stdout",
     "output_type": "stream",
     "text": [
      "Emotiva Airmotive 6s\n",
      "Harbeth Monitor\n",
      "JBL 104\n",
      "KEF LS50\n",
      "Kali IN-8\n",
      "Micca RB42\n",
      "Neumann KH 80\n",
      "Pioneer SP-BS22-LR\n",
      "Realistic MC-1000\n",
      "Revel C52\n",
      "Selah Audio RC3R\n",
      "Yamaha HS5\n"
     ]
    }
   ],
   "source": [
    "for k in df.keys():\n",
    "  print(k)"
   ]
  },
  {
   "cell_type": "code",
   "execution_count": 9,
   "metadata": {},
   "outputs": [
    {
     "name": "stdout",
     "output_type": "stream",
     "text": [
      "CEA2034\n",
      "CEA2034_unmelted\n",
      "Early Reflections\n",
      "Early Reflections_unmelted\n",
      "Estimated In-Room Response\n",
      "Estimated In-Room Response_unmelted\n",
      "Horizontal Reflections\n",
      "Horizontal Reflections_unmelted\n",
      "Vertical Reflections\n",
      "Vertical Reflections_unmelted\n",
      "SPL Horizontal\n",
      "SPL Horizontal_unmelted\n",
      "SPL Vertical\n",
      "SPL Vertical_unmelted\n"
     ]
    }
   ],
   "source": [
    "neumann = df['Neumann KH 80']\n",
    "for k in neumann.keys():\n",
    "    print(k)"
   ]
  },
  {
   "cell_type": "code",
   "execution_count": 18,
   "metadata": {},
   "outputs": [
    {
     "name": "stdout",
     "output_type": "stream",
     "text": [
      "Freq\n",
      "On Axis\n",
      "Listening Window\n",
      "Early Reflections\n",
      "Sound Power\n",
      "Sound Power DI\n",
      "Early Reflections DI\n",
      "DI offset\n"
     ]
    }
   ],
   "source": [
    "spinorama = neumann['CEA2034_unmelted']\n",
    "for m in spinorama.keys():\n",
    "    print(m)"
   ]
  },
  {
   "cell_type": "code",
   "execution_count": 17,
   "metadata": {},
   "outputs": [
    {
     "name": "stdout",
     "output_type": "stream",
     "text": [
      "           Freq Measurements        dB\n",
      "200     20.5078      On Axis   55.7961\n",
      "201     21.2402      On Axis   51.9241\n",
      "202     21.9727      On Axis   53.8309\n",
      "203     22.7051      On Axis   55.0830\n",
      "204     23.4375      On Axis   41.6382\n",
      "..          ...          ...       ...\n",
      "395  17753.2000      On Axis  107.9410\n",
      "396  18379.4000      On Axis  106.9740\n",
      "397  19027.6000      On Axis  104.8340\n",
      "398  19698.5000      On Axis  104.4100\n",
      "399  19999.5000      On Axis  104.0890\n",
      "\n",
      "[200 rows x 3 columns]\n"
     ]
    }
   ],
   "source": [
    "onaxis = spinorama.loc[spinorama['Measurements']=='On Axis']\n",
    "print(onaxis)"
   ]
  },
  {
   "cell_type": "code",
   "execution_count": 22,
   "metadata": {},
   "outputs": [],
   "source": [
    "from scipy.optimize import curve_fit\n",
    "import numpy as np"
   ]
  },
  {
   "cell_type": "code",
   "execution_count": 36,
   "metadata": {},
   "outputs": [
    {
     "name": "stdout",
     "output_type": "stream",
     "text": [
      "[7.83021018e-04 9.86024470e+01]\n",
      "[[ 4.01451783e-08 -1.19972469e-04]\n",
      " [-1.19972469e-04  1.24334914e+00]]\n",
      "[100.942478]\n",
      "[[0.94827606]]\n"
     ]
    },
    {
     "data": {
      "text/html": [
       "\n",
       "<div id=\"altair-viz-8f27716fccfb4342919afac9fc18ad81\"></div>\n",
       "<script type=\"text/javascript\">\n",
       "  (function(spec, embedOpt){\n",
       "    const outputDiv = document.getElementById(\"altair-viz-8f27716fccfb4342919afac9fc18ad81\");\n",
       "    const paths = {\n",
       "      \"vega\": \"https://cdn.jsdelivr.net/npm//vega@5?noext\",\n",
       "      \"vega-lib\": \"https://cdn.jsdelivr.net/npm//vega-lib?noext\",\n",
       "      \"vega-lite\": \"https://cdn.jsdelivr.net/npm//vega-lite@4.0.2?noext\",\n",
       "      \"vega-embed\": \"https://cdn.jsdelivr.net/npm//vega-embed@6?noext\",\n",
       "    };\n",
       "\n",
       "    function loadScript(lib) {\n",
       "      return new Promise(function(resolve, reject) {\n",
       "        var s = document.createElement('script');\n",
       "        s.src = paths[lib];\n",
       "        s.async = true;\n",
       "        s.onload = () => resolve(paths[lib]);\n",
       "        s.onerror = () => reject(`Error loading script: ${paths[lib]}`);\n",
       "        document.getElementsByTagName(\"head\")[0].appendChild(s);\n",
       "      });\n",
       "    }\n",
       "\n",
       "    function showError(err) {\n",
       "      outputDiv.innerHTML = `<div class=\"error\" style=\"color:red;\">${err}</div>`;\n",
       "      throw err;\n",
       "    }\n",
       "\n",
       "    function displayChart(vegaEmbed) {\n",
       "      vegaEmbed(outputDiv, spec, embedOpt)\n",
       "        .catch(err => showError(`Javascript Error: ${err.message}<br>This usually means there's a typo in your chart specification. See the javascript console for the full traceback.`));\n",
       "    }\n",
       "\n",
       "    if(typeof define === \"function\" && define.amd) {\n",
       "      requirejs.config({paths});\n",
       "      require([\"vega-embed\"], displayChart, err => showError(`Error loading script: ${err.message}`));\n",
       "    } else if (typeof vegaEmbed === \"function\") {\n",
       "      displayChart(vegaEmbed);\n",
       "    } else {\n",
       "      loadScript(\"vega\")\n",
       "        .then(() => loadScript(\"vega-lite\"))\n",
       "        .then(() => loadScript(\"vega-embed\"))\n",
       "        .catch(showError)\n",
       "        .then(() => displayChart(vegaEmbed));\n",
       "    }\n",
       "  })({\"config\": {\"view\": {\"continuousWidth\": 400, \"continuousHeight\": 300}}, \"layer\": [{\"mark\": {\"type\": \"line\", \"interpolate\": \"basis\"}, \"encoding\": {\"color\": {\"type\": \"nominal\", \"field\": \"Measurements\", \"sort\": null}, \"x\": {\"type\": \"quantitative\", \"field\": \"Freq\", \"scale\": {\"domain\": [20, 20000], \"type\": \"log\"}}, \"y\": {\"type\": \"quantitative\", \"field\": \"dB\", \"scale\": {\"zero\": false}}}, \"height\": 500, \"width\": 900}, {\"mark\": \"point\", \"encoding\": {\"opacity\": {\"value\": 0}, \"x\": {\"type\": \"quantitative\", \"field\": \"Freq\"}}, \"selection\": {\"selector001\": {\"type\": \"single\", \"nearest\": true, \"on\": \"mouseover\", \"fields\": [\"Freq\"], \"empty\": \"none\"}}}, {\"mark\": \"point\", \"encoding\": {\"color\": {\"type\": \"nominal\", \"field\": \"Measurements\", \"sort\": null}, \"opacity\": {\"condition\": {\"value\": 1, \"selection\": \"selector001\"}, \"value\": 0}, \"x\": {\"type\": \"quantitative\", \"field\": \"Freq\", \"scale\": {\"domain\": [20, 20000], \"type\": \"log\"}}, \"y\": {\"type\": \"quantitative\", \"field\": \"dB\", \"scale\": {\"zero\": false}}}, \"height\": 500, \"width\": 900}, {\"mark\": {\"type\": \"rule\", \"color\": \"gray\"}, \"encoding\": {\"x\": {\"type\": \"quantitative\", \"field\": \"Freq\"}}, \"transform\": [{\"filter\": {\"selection\": \"selector001\"}}]}, {\"mark\": {\"type\": \"text\", \"align\": \"left\", \"dx\": 5, \"dy\": -5}, \"encoding\": {\"color\": {\"type\": \"nominal\", \"field\": \"Measurements\", \"sort\": null}, \"text\": {\"condition\": {\"type\": \"quantitative\", \"field\": \"dB\", \"selection\": \"selector001\"}, \"value\": \" \"}, \"x\": {\"type\": \"quantitative\", \"field\": \"Freq\", \"scale\": {\"domain\": [20, 20000], \"type\": \"log\"}}, \"y\": {\"type\": \"quantitative\", \"field\": \"dB\", \"scale\": {\"zero\": false}}}, \"height\": 500, \"width\": 900}], \"data\": {\"name\": \"data-41624040a1f586a77f556f37d0363c10\"}, \"$schema\": \"https://vega.github.io/schema/vega-lite/v4.0.2.json\", \"datasets\": {\"data-41624040a1f586a77f556f37d0363c10\": [{\"Freq\": 20.5078, \"Measurements\": \"On Axis\", \"dB\": 55.7961}, {\"Freq\": 21.2402, \"Measurements\": \"On Axis\", \"dB\": 51.9241}, {\"Freq\": 21.9727, \"Measurements\": \"On Axis\", \"dB\": 53.8309}, {\"Freq\": 22.7051, \"Measurements\": \"On Axis\", \"dB\": 55.083}, {\"Freq\": 23.4375, \"Measurements\": \"On Axis\", \"dB\": 41.6382}, {\"Freq\": 24.1699, \"Measurements\": \"On Axis\", \"dB\": 43.5598}, {\"Freq\": 25.6348, \"Measurements\": \"On Axis\", \"dB\": 51.0286}, {\"Freq\": 26.3672, \"Measurements\": \"On Axis\", \"dB\": 53.8528}, {\"Freq\": 27.0996, \"Measurements\": \"On Axis\", \"dB\": 56.2727}, {\"Freq\": 27.832, \"Measurements\": \"On Axis\", \"dB\": 58.5374}, {\"Freq\": 29.2969, \"Measurements\": \"On Axis\", \"dB\": 62.8715}, {\"Freq\": 30.0293, \"Measurements\": \"On Axis\", \"dB\": 64.8173}, {\"Freq\": 31.4941, \"Measurements\": \"On Axis\", \"dB\": 67.5426}, {\"Freq\": 32.2266, \"Measurements\": \"On Axis\", \"dB\": 68.6791}, {\"Freq\": 33.6914, \"Measurements\": \"On Axis\", \"dB\": 71.5534}, {\"Freq\": 34.4238, \"Measurements\": \"On Axis\", \"dB\": 73.1764}, {\"Freq\": 35.8887, \"Measurements\": \"On Axis\", \"dB\": 75.9218}, {\"Freq\": 37.3535, \"Measurements\": \"On Axis\", \"dB\": 78.5459}, {\"Freq\": 38.8184, \"Measurements\": \"On Axis\", \"dB\": 81.0571}, {\"Freq\": 39.5508, \"Measurements\": \"On Axis\", \"dB\": 82.2671}, {\"Freq\": 41.0156, \"Measurements\": \"On Axis\", \"dB\": 84.3609}, {\"Freq\": 42.4805, \"Measurements\": \"On Axis\", \"dB\": 86.6698}, {\"Freq\": 43.9453, \"Measurements\": \"On Axis\", \"dB\": 88.7504}, {\"Freq\": 45.4102, \"Measurements\": \"On Axis\", \"dB\": 90.7462}, {\"Freq\": 47.6074, \"Measurements\": \"On Axis\", \"dB\": 93.4593}, {\"Freq\": 49.0723, \"Measurements\": \"On Axis\", \"dB\": 95.17}, {\"Freq\": 50.5371, \"Measurements\": \"On Axis\", \"dB\": 96.7869}, {\"Freq\": 52.7344, \"Measurements\": \"On Axis\", \"dB\": 98.9853}, {\"Freq\": 54.1992, \"Measurements\": \"On Axis\", \"dB\": 100.254}, {\"Freq\": 56.3965, \"Measurements\": \"On Axis\", \"dB\": 101.818}, {\"Freq\": 58.5938, \"Measurements\": \"On Axis\", \"dB\": 102.978}, {\"Freq\": 60.0586, \"Measurements\": \"On Axis\", \"dB\": 103.485}, {\"Freq\": 62.2559, \"Measurements\": \"On Axis\", \"dB\": 103.964}, {\"Freq\": 64.4531, \"Measurements\": \"On Axis\", \"dB\": 104.197}, {\"Freq\": 66.6504, \"Measurements\": \"On Axis\", \"dB\": 104.246}, {\"Freq\": 69.5801, \"Measurements\": \"On Axis\", \"dB\": 104.144}, {\"Freq\": 71.7773, \"Measurements\": \"On Axis\", \"dB\": 104.066}, {\"Freq\": 73.9746, \"Measurements\": \"On Axis\", \"dB\": 103.949}, {\"Freq\": 76.9043, \"Measurements\": \"On Axis\", \"dB\": 103.842}, {\"Freq\": 79.834, \"Measurements\": \"On Axis\", \"dB\": 103.754}, {\"Freq\": 82.7637, \"Measurements\": \"On Axis\", \"dB\": 103.724}, {\"Freq\": 85.6934, \"Measurements\": \"On Axis\", \"dB\": 103.695}, {\"Freq\": 88.623, \"Measurements\": \"On Axis\", \"dB\": 103.632}, {\"Freq\": 91.5527, \"Measurements\": \"On Axis\", \"dB\": 103.687}, {\"Freq\": 94.4824, \"Measurements\": \"On Axis\", \"dB\": 103.756}, {\"Freq\": 98.1445, \"Measurements\": \"On Axis\", \"dB\": 103.866}, {\"Freq\": 101.807, \"Measurements\": \"On Axis\", \"dB\": 103.973}, {\"Freq\": 105.469, \"Measurements\": \"On Axis\", \"dB\": 104.094}, {\"Freq\": 109.131, \"Measurements\": \"On Axis\", \"dB\": 104.238}, {\"Freq\": 112.793, \"Measurements\": \"On Axis\", \"dB\": 104.35}, {\"Freq\": 116.455, \"Measurements\": \"On Axis\", \"dB\": 104.519}, {\"Freq\": 120.85, \"Measurements\": \"On Axis\", \"dB\": 104.75}, {\"Freq\": 125.244, \"Measurements\": \"On Axis\", \"dB\": 104.914}, {\"Freq\": 129.639, \"Measurements\": \"On Axis\", \"dB\": 105.033}, {\"Freq\": 134.033, \"Measurements\": \"On Axis\", \"dB\": 105.158}, {\"Freq\": 138.428, \"Measurements\": \"On Axis\", \"dB\": 105.304}, {\"Freq\": 143.555, \"Measurements\": \"On Axis\", \"dB\": 105.424}, {\"Freq\": 148.682, \"Measurements\": \"On Axis\", \"dB\": 105.501}, {\"Freq\": 153.809, \"Measurements\": \"On Axis\", \"dB\": 105.589}, {\"Freq\": 159.668, \"Measurements\": \"On Axis\", \"dB\": 105.759}, {\"Freq\": 164.795, \"Measurements\": \"On Axis\", \"dB\": 105.926}, {\"Freq\": 170.654, \"Measurements\": \"On Axis\", \"dB\": 105.971}, {\"Freq\": 176.514, \"Measurements\": \"On Axis\", \"dB\": 106.0}, {\"Freq\": 183.105, \"Measurements\": \"On Axis\", \"dB\": 106.054}, {\"Freq\": 189.697, \"Measurements\": \"On Axis\", \"dB\": 106.105}, {\"Freq\": 196.289, \"Measurements\": \"On Axis\", \"dB\": 106.223}, {\"Freq\": 202.881, \"Measurements\": \"On Axis\", \"dB\": 106.268}, {\"Freq\": 210.205, \"Measurements\": \"On Axis\", \"dB\": 106.264}, {\"Freq\": 217.529, \"Measurements\": \"On Axis\", \"dB\": 106.272}, {\"Freq\": 225.586, \"Measurements\": \"On Axis\", \"dB\": 106.333}, {\"Freq\": 232.91, \"Measurements\": \"On Axis\", \"dB\": 106.429}, {\"Freq\": 241.699, \"Measurements\": \"On Axis\", \"dB\": 106.338}, {\"Freq\": 249.756, \"Measurements\": \"On Axis\", \"dB\": 106.397}, {\"Freq\": 258.545, \"Measurements\": \"On Axis\", \"dB\": 106.439}, {\"Freq\": 268.066, \"Measurements\": \"On Axis\", \"dB\": 106.337}, {\"Freq\": 277.588, \"Measurements\": \"On Axis\", \"dB\": 106.037}, {\"Freq\": 287.109, \"Measurements\": \"On Axis\", \"dB\": 105.77}, {\"Freq\": 297.363, \"Measurements\": \"On Axis\", \"dB\": 105.922}, {\"Freq\": 307.617, \"Measurements\": \"On Axis\", \"dB\": 105.879}, {\"Freq\": 318.604, \"Measurements\": \"On Axis\", \"dB\": 105.874}, {\"Freq\": 329.59, \"Measurements\": \"On Axis\", \"dB\": 105.994}, {\"Freq\": 341.309, \"Measurements\": \"On Axis\", \"dB\": 105.794}, {\"Freq\": 353.76, \"Measurements\": \"On Axis\", \"dB\": 105.945}, {\"Freq\": 366.211, \"Measurements\": \"On Axis\", \"dB\": 105.948}, {\"Freq\": 378.662, \"Measurements\": \"On Axis\", \"dB\": 106.256}, {\"Freq\": 392.578, \"Measurements\": \"On Axis\", \"dB\": 106.092}, {\"Freq\": 405.762, \"Measurements\": \"On Axis\", \"dB\": 106.011}, {\"Freq\": 420.41, \"Measurements\": \"On Axis\", \"dB\": 105.992}, {\"Freq\": 435.059, \"Measurements\": \"On Axis\", \"dB\": 105.775}, {\"Freq\": 450.439, \"Measurements\": \"On Axis\", \"dB\": 105.755}, {\"Freq\": 466.553, \"Measurements\": \"On Axis\", \"dB\": 105.726}, {\"Freq\": 482.666, \"Measurements\": \"On Axis\", \"dB\": 105.567}, {\"Freq\": 500.244, \"Measurements\": \"On Axis\", \"dB\": 105.706}, {\"Freq\": 517.822, \"Measurements\": \"On Axis\", \"dB\": 105.498}, {\"Freq\": 536.133, \"Measurements\": \"On Axis\", \"dB\": 105.77}, {\"Freq\": 554.443, \"Measurements\": \"On Axis\", \"dB\": 105.361}, {\"Freq\": 574.219, \"Measurements\": \"On Axis\", \"dB\": 105.153}, {\"Freq\": 594.727, \"Measurements\": \"On Axis\", \"dB\": 106.466}, {\"Freq\": 615.234, \"Measurements\": \"On Axis\", \"dB\": 106.882}, {\"Freq\": 637.207, \"Measurements\": \"On Axis\", \"dB\": 106.487}, {\"Freq\": 659.912, \"Measurements\": \"On Axis\", \"dB\": 106.504}, {\"Freq\": 683.35, \"Measurements\": \"On Axis\", \"dB\": 106.486}, {\"Freq\": 706.787, \"Measurements\": \"On Axis\", \"dB\": 105.97}, {\"Freq\": 731.689, \"Measurements\": \"On Axis\", \"dB\": 106.191}, {\"Freq\": 758.057, \"Measurements\": \"On Axis\", \"dB\": 106.342}, {\"Freq\": 784.424, \"Measurements\": \"On Axis\", \"dB\": 106.533}, {\"Freq\": 812.256, \"Measurements\": \"On Axis\", \"dB\": 106.404}, {\"Freq\": 840.82, \"Measurements\": \"On Axis\", \"dB\": 105.491}, {\"Freq\": 870.85, \"Measurements\": \"On Axis\", \"dB\": 105.487}, {\"Freq\": 901.611, \"Measurements\": \"On Axis\", \"dB\": 105.607}, {\"Freq\": 933.105, \"Measurements\": \"On Axis\", \"dB\": 105.908}, {\"Freq\": 966.064, \"Measurements\": \"On Axis\", \"dB\": 105.75}, {\"Freq\": 999.756, \"Measurements\": \"On Axis\", \"dB\": 106.664}, {\"Freq\": 1034.91, \"Measurements\": \"On Axis\", \"dB\": 106.503}, {\"Freq\": 1071.53, \"Measurements\": \"On Axis\", \"dB\": 106.291}, {\"Freq\": 1109.62, \"Measurements\": \"On Axis\", \"dB\": 105.888}, {\"Freq\": 1148.44, \"Measurements\": \"On Axis\", \"dB\": 105.796}, {\"Freq\": 1189.45, \"Measurements\": \"On Axis\", \"dB\": 105.806}, {\"Freq\": 1231.2, \"Measurements\": \"On Axis\", \"dB\": 106.07}, {\"Freq\": 1274.41, \"Measurements\": \"On Axis\", \"dB\": 105.805}, {\"Freq\": 1319.82, \"Measurements\": \"On Axis\", \"dB\": 105.681}, {\"Freq\": 1365.97, \"Measurements\": \"On Axis\", \"dB\": 105.342}, {\"Freq\": 1414.31, \"Measurements\": \"On Axis\", \"dB\": 105.315}, {\"Freq\": 1464.11, \"Measurements\": \"On Axis\", \"dB\": 105.484}, {\"Freq\": 1515.38, \"Measurements\": \"On Axis\", \"dB\": 105.49}, {\"Freq\": 1568.85, \"Measurements\": \"On Axis\", \"dB\": 105.328}, {\"Freq\": 1624.51, \"Measurements\": \"On Axis\", \"dB\": 105.04}, {\"Freq\": 1681.64, \"Measurements\": \"On Axis\", \"dB\": 104.965}, {\"Freq\": 1740.97, \"Measurements\": \"On Axis\", \"dB\": 105.208}, {\"Freq\": 1802.49, \"Measurements\": \"On Axis\", \"dB\": 105.378}, {\"Freq\": 1866.21, \"Measurements\": \"On Axis\", \"dB\": 104.859}, {\"Freq\": 1932.13, \"Measurements\": \"On Axis\", \"dB\": 104.356}, {\"Freq\": 2000.24, \"Measurements\": \"On Axis\", \"dB\": 105.308}, {\"Freq\": 2070.56, \"Measurements\": \"On Axis\", \"dB\": 105.949}, {\"Freq\": 2143.8, \"Measurements\": \"On Axis\", \"dB\": 105.408}, {\"Freq\": 2219.24, \"Measurements\": \"On Axis\", \"dB\": 105.044}, {\"Freq\": 2297.61, \"Measurements\": \"On Axis\", \"dB\": 106.349}, {\"Freq\": 2378.17, \"Measurements\": \"On Axis\", \"dB\": 106.695}, {\"Freq\": 2462.4, \"Measurements\": \"On Axis\", \"dB\": 106.269}, {\"Freq\": 2548.83, \"Measurements\": \"On Axis\", \"dB\": 106.187}, {\"Freq\": 2638.92, \"Measurements\": \"On Axis\", \"dB\": 106.569}, {\"Freq\": 2731.93, \"Measurements\": \"On Axis\", \"dB\": 106.412}, {\"Freq\": 2828.61, \"Measurements\": \"On Axis\", \"dB\": 106.479}, {\"Freq\": 2928.22, \"Measurements\": \"On Axis\", \"dB\": 106.284}, {\"Freq\": 3031.49, \"Measurements\": \"On Axis\", \"dB\": 105.934}, {\"Freq\": 3138.43, \"Measurements\": \"On Axis\", \"dB\": 106.403}, {\"Freq\": 3249.02, \"Measurements\": \"On Axis\", \"dB\": 106.427}, {\"Freq\": 3363.28, \"Measurements\": \"On Axis\", \"dB\": 106.095}, {\"Freq\": 3481.93, \"Measurements\": \"On Axis\", \"dB\": 106.028}, {\"Freq\": 3604.98, \"Measurements\": \"On Axis\", \"dB\": 106.016}, {\"Freq\": 3732.42, \"Measurements\": \"On Axis\", \"dB\": 105.55}, {\"Freq\": 3863.53, \"Measurements\": \"On Axis\", \"dB\": 105.363}, {\"Freq\": 3999.76, \"Measurements\": \"On Axis\", \"dB\": 105.777}, {\"Freq\": 4141.11, \"Measurements\": \"On Axis\", \"dB\": 105.393}, {\"Freq\": 4286.87, \"Measurements\": \"On Axis\", \"dB\": 106.234}, {\"Freq\": 4438.48, \"Measurements\": \"On Axis\", \"dB\": 106.335}, {\"Freq\": 4594.48, \"Measurements\": \"On Axis\", \"dB\": 106.543}, {\"Freq\": 4757.08, \"Measurements\": \"On Axis\", \"dB\": 107.116}, {\"Freq\": 4924.8, \"Measurements\": \"On Axis\", \"dB\": 107.134}, {\"Freq\": 5098.39, \"Measurements\": \"On Axis\", \"dB\": 107.293}, {\"Freq\": 5277.83, \"Measurements\": \"On Axis\", \"dB\": 106.756}, {\"Freq\": 5463.87, \"Measurements\": \"On Axis\", \"dB\": 106.309}, {\"Freq\": 5656.49, \"Measurements\": \"On Axis\", \"dB\": 105.63}, {\"Freq\": 5856.45, \"Measurements\": \"On Axis\", \"dB\": 105.369}, {\"Freq\": 6062.99, \"Measurements\": \"On Axis\", \"dB\": 105.639}, {\"Freq\": 6276.86, \"Measurements\": \"On Axis\", \"dB\": 106.312}, {\"Freq\": 6498.05, \"Measurements\": \"On Axis\", \"dB\": 106.257}, {\"Freq\": 6727.29, \"Measurements\": \"On Axis\", \"dB\": 106.662}, {\"Freq\": 6964.6, \"Measurements\": \"On Axis\", \"dB\": 107.273}, {\"Freq\": 7209.96, \"Measurements\": \"On Axis\", \"dB\": 106.924}, {\"Freq\": 7464.11, \"Measurements\": \"On Axis\", \"dB\": 106.005}, {\"Freq\": 7727.78, \"Measurements\": \"On Axis\", \"dB\": 105.255}, {\"Freq\": 8000.24, \"Measurements\": \"On Axis\", \"dB\": 104.899}, {\"Freq\": 8282.23, \"Measurements\": \"On Axis\", \"dB\": 105.852}, {\"Freq\": 8574.46, \"Measurements\": \"On Axis\", \"dB\": 107.442}, {\"Freq\": 8876.22, \"Measurements\": \"On Axis\", \"dB\": 107.618}, {\"Freq\": 9189.7, \"Measurements\": \"On Axis\", \"dB\": 106.946}, {\"Freq\": 9513.43, \"Measurements\": \"On Axis\", \"dB\": 106.232}, {\"Freq\": 9848.88, \"Measurements\": \"On Axis\", \"dB\": 105.999}, {\"Freq\": 10196.8, \"Measurements\": \"On Axis\", \"dB\": 106.739}, {\"Freq\": 10556.4, \"Measurements\": \"On Axis\", \"dB\": 107.368}, {\"Freq\": 10928.5, \"Measurements\": \"On Axis\", \"dB\": 107.74}, {\"Freq\": 11313.7, \"Measurements\": \"On Axis\", \"dB\": 107.717}, {\"Freq\": 11712.9, \"Measurements\": \"On Axis\", \"dB\": 107.438}, {\"Freq\": 12126.0, \"Measurements\": \"On Axis\", \"dB\": 107.289}, {\"Freq\": 12553.7, \"Measurements\": \"On Axis\", \"dB\": 108.043}, {\"Freq\": 12996.1, \"Measurements\": \"On Axis\", \"dB\": 108.602}, {\"Freq\": 13454.6, \"Measurements\": \"On Axis\", \"dB\": 108.891}, {\"Freq\": 13928.5, \"Measurements\": \"On Axis\", \"dB\": 108.351}, {\"Freq\": 14419.9, \"Measurements\": \"On Axis\", \"dB\": 107.808}, {\"Freq\": 14928.2, \"Measurements\": \"On Axis\", \"dB\": 108.815}, {\"Freq\": 15454.8, \"Measurements\": \"On Axis\", \"dB\": 109.199}, {\"Freq\": 15999.8, \"Measurements\": \"On Axis\", \"dB\": 108.868}, {\"Freq\": 16564.5, \"Measurements\": \"On Axis\", \"dB\": 108.117}, {\"Freq\": 17148.2, \"Measurements\": \"On Axis\", \"dB\": 107.784}, {\"Freq\": 17753.2, \"Measurements\": \"On Axis\", \"dB\": 107.941}, {\"Freq\": 18379.4, \"Measurements\": \"On Axis\", \"dB\": 106.974}, {\"Freq\": 19027.6, \"Measurements\": \"On Axis\", \"dB\": 104.834}, {\"Freq\": 19698.5, \"Measurements\": \"On Axis\", \"dB\": 104.41}, {\"Freq\": 19999.5, \"Measurements\": \"On Axis\", \"dB\": 104.089}]}}, {\"mode\": \"vega-lite\"});\n",
       "</script>"
      ],
      "text/plain": [
       "alt.LayerChart(...)"
      ]
     },
     "execution_count": 36,
     "metadata": {},
     "output_type": "execute_result"
    }
   ],
   "source": [
    "def func1(x,a,b):\n",
    "    return x*a+b\n",
    "\n",
    "def func2(x,a):\n",
    "    return a\n",
    "\n",
    "xdata = np.array(onaxis.Freq)\n",
    "ydata = np.array(onaxis.dB)\n",
    "\n",
    "popt, pcov = curve_fit(func1, xdata, ydata)\n",
    "\n",
    "print(popt)\n",
    "print(pcov)\n",
    "\n",
    "popt, pcov = curve_fit(func2, xdata, ydata)\n",
    "\n",
    "print(popt)\n",
    "print(pcov)\n",
    "\n",
    "display_freq(onaxis)"
   ]
  }
 ],
 "metadata": {
  "kernelspec": {
   "display_name": "Python 3",
   "language": "python",
   "name": "python3"
  },
  "language_info": {
   "codemirror_mode": {
    "name": "ipython",
    "version": 3
   },
   "file_extension": ".py",
   "mimetype": "text/x-python",
   "name": "python",
   "nbconvert_exporter": "python",
   "pygments_lexer": "ipython3",
   "version": "3.7.6"
  }
 },
 "nbformat": 4,
 "nbformat_minor": 4
}
