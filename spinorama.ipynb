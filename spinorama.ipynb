{
 "cells": [
  {
   "cell_type": "markdown",
   "metadata": {},
   "source": [
    "Spinorama plot with Altair"
   ]
  },
  {
   "cell_type": "code",
   "execution_count": null,
   "metadata": {},
   "outputs": [],
   "source": [
    "import math\n",
    "import pandas as pd\n",
    "import altair as alt\n",
    "import numpy as np\n",
    "from src.spinorama.analysis import sound_power\n",
    "from src.spinorama.load import parse_all_speakers, parse_graphs_speaker, graph_melt\n",
    "from src.spinorama.graph import graph_params_default, graph_freq\n",
    "\n",
    "# df = parse_graphs_speaker('Adam', 'Adam S2V', 'klippel')\n",
    "# df = parse_graphs_speaker('Neumann', 'Neumann KH 80', 'klippel')\n",
    "df = parse_graphs_speaker('Genelec', 'Genelec 8341A', 'klippel')\n",
    "# df = parse_graphs_speaker('Genelec', 'Genelec 8030A', 'princeton')\n",
    "# print(df)"
   ]
  },
  {
   "cell_type": "code",
   "execution_count": null,
   "metadata": {},
   "outputs": [],
   "source": [
    "nearest = alt.selection(\n",
    "    type='single',\n",
    "    nearest=True,\n",
    "    on='mouseover',\n",
    "    fields=['Freq'],\n",
    "    empty='none')"
   ]
  },
  {
   "cell_type": "code",
   "execution_count": null,
   "metadata": {},
   "outputs": [],
   "source": [
    "def graph_spinorama(dfu, graph_params):\n",
    "    xmin = graph_params['xmin']\n",
    "    xmax = graph_params['xmax']\n",
    "    ymin = graph_params['ymin']\n",
    "    ymax = graph_params['ymax']\n",
    "    if xmax == xmin:\n",
    "        logging.error('Graph configuration is incorrect: xmin==xmax')\n",
    "    if ymax == ymin:\n",
    "        logging.error('Graph configuration is incorrect: ymin==ymax')\n",
    "    # add selectors                                                                                                                                      \n",
    "    selectorsMeasurements = alt.selection_multi(\n",
    "        fields=['Measurements'],\n",
    "        bind='legend')\n",
    "    scales = alt.selection_interval(\n",
    "        bind='scales'\n",
    "    )\n",
    "    # main charts                                                                                                                                        \n",
    "    xaxis =alt.X('Freq:Q', title='Freqency (Hz)',\n",
    "                scale=alt.Scale(type='log', base=10, nice=False, domain=[xmin, xmax]),\n",
    "                axis=alt.Axis(format='s'))\n",
    "    yaxis = alt.Y('dB:Q', scale=alt.Scale(zero=False, domain=[ymin, ymax]))\n",
    "    di_yaxis = alt.Y('dB:Q', scale=alt.Scale(zero=False, domain=[0,ymax-ymin]))\n",
    "    color = alt.Color('Measurements', type='nominal', sort=None)\n",
    "    opacity = alt.condition(selectorsMeasurements, alt.value(1), alt.value(0.2))\n",
    "\n",
    "    line=alt.Chart(dfu).mark_line().transform_filter(\n",
    "        alt.FieldOneOfPredicate(\n",
    "            field='Measurements',\n",
    "            oneOf=['On Axis', 'Listening Window', 'Early Reflections', 'Sound Power'])\n",
    "    ).encode(x=xaxis, y=yaxis, color=color, opacity=opacity\n",
    "    )\n",
    "\n",
    "    circle=alt.Chart(dfu).mark_circle(size=100).transform_filter(\n",
    "        alt.FieldOneOfPredicate(\n",
    "            field='Measurements',\n",
    "            oneOf=['On Axis', 'Listening Window', 'Early Reflections', 'Sound Power'])\n",
    "    ).encode(\n",
    "        x=xaxis, y=yaxis, color=color,\n",
    "        opacity=alt.condition(nearest, alt.value(1), alt.value(0)),\n",
    "        tooltip=['Measurements', 'Freq', 'dB']\n",
    "    ) #.transform_calculate(Freq=f'format(datum.Freq, \".0f\")', dB=f'format(datum.dB, \".1f\")')                                                            \n",
    "\n",
    "    di=alt.Chart(dfu).mark_line().transform_filter(\n",
    "        alt.FieldOneOfPredicate(\n",
    "            field='Measurements',\n",
    "            oneOf=['Early Reflections DI', 'Sound Power DI'])\n",
    "    ).encode(x=xaxis, y=di_yaxis, color=color, opacity=opacity)\n",
    "\n",
    "    circle_di = alt.Chart(dfu).mark_circle(size=100).transform_filter(\n",
    "        alt.FieldOneOfPredicate(\n",
    "            field='Measurements',\n",
    "            oneOf=['Early Reflections DI', 'Sound Power DI'])\n",
    "    ).encode(\n",
    "        x=xaxis, y=di_yaxis, color=color,\n",
    "        opacity=alt.condition(nearest, alt.value(1), alt.value(0)),\n",
    "        tooltip=['Measurements', 'Freq', 'dB']\n",
    "    ) #.transform_calculate(Freq=f'format(datum.Freq, \".0f\")', dB=f'format(datum.dB, \".1f\")')                                                            \n",
    "\n",
    "\n",
    "    # assemble elements together                                                                                                                         \n",
    "    spin = alt.layer(circle+line, circle_di+di).resolve_scale(y='independent'\n",
    "    ).add_selection(\n",
    "        selectorsMeasurements\n",
    "    ).add_selection(\n",
    "        scales\n",
    "    ).add_selection(\n",
    "        nearest\n",
    "    ).properties(\n",
    "        width=graph_params['width'],\n",
    "        height=graph_params['height']\n",
    "    ).interactive()\n",
    "    return spin\n",
    "\n",
    "\n",
    "\n",
    "dfu = df['CEA2034']\n",
    "params = graph_params_default\n",
    "params['ymin'] = -40\n",
    "params['ymax'] = 10\n",
    "params['width'] = 800\n",
    "params['height'] = 500\n",
    "graph_spinorama(dfu, params)"
   ]
  },
  {
   "cell_type": "markdown",
   "metadata": {},
   "source": [
    "Compare computed sound power wrt the version done by Klippel\n",
    "Matching is good for low frequency but error increases with frequency"
   ]
  },
  {
   "cell_type": "code",
   "execution_count": null,
   "metadata": {},
   "outputs": [],
   "source": [
    "#df = pd.DataFrame({'Freq': [200, 2000, 10000, 12000, 16000, 20000], '10°': [2,2,2,2,2,2], '-10°': [2,2,2,2,2,2]})\n",
    "sp = sound_power(df['SPL Horizontal_unmelted'], df['SPL Vertical_unmelted'])"
   ]
  },
  {
   "cell_type": "code",
   "execution_count": null,
   "metadata": {},
   "outputs": [],
   "source": [
    "dfu = df['CEA2034_unmelted']\n",
    "check = pd.DataFrame({\n",
    "    'Freq': dfu.Freq, \n",
    "    'Control': dfu['Sound Power'], \n",
    "    'Computed': sp.dB})\n",
    "mcheck = graph_melt(check)\n",
    "alt.Chart(mcheck).mark_line(clip=True).encode(\n",
    "    x=alt.X('Freq', scale=alt.Scale(type='log', nice=False)),\n",
    "    y=alt.Y('dB', scale=alt.Scale(domain=[50, 96])),\n",
    "    color=alt.Color('Measurements'))"
   ]
  },
  {
   "cell_type": "code",
   "execution_count": null,
   "metadata": {},
   "outputs": [],
   "source": [
    "onaxis = df['CEA2034']\n",
    "onaxis = onaxis.loc[onaxis['Measurements'] == 'On Axis']\n",
    "onaxis_graph = graph_freq(onaxis, graph_params_default)\n",
    "onaxis_reg = alt.Chart(onaxis).transform_filter(\n",
    "   'datum.Freq>80 & datum.Freq<10000',\n",
    ").transform_regression(method='log', on='Freq', regression='dB', extent=[20,20000]\n",
    ").mark_line().encode(\n",
    "   alt.X('Freq:Q'),\n",
    "   alt.Y('dB:Q'),\n",
    "   color=alt.value('red')\n",
    ")\n",
    "onaxis_graph + onaxis_reg\n"
   ]
  },
  {
   "cell_type": "code",
   "execution_count": null,
   "metadata": {},
   "outputs": [],
   "source": [
    "inroom = df['Estimated In-Room Response']\n",
    "inroom_graph = graph_freq(inroom, graph_params_default)\n",
    "inroom_reg = alt.Chart(inroom\n",
    ").transform_filter('datum.Freq>80 & datum.Freq<10000'\n",
    ").transform_regression(method='log', on='Freq', regression='dB', extent=[20,20000]\n",
    ").mark_line(\n",
    ").encode(alt.X('Freq:Q'), alt.Y('dB:Q'), color=alt.value('red'))\n",
    "inroom_graph + inroom_reg"
   ]
  },
  {
   "cell_type": "code",
   "execution_count": null,
   "metadata": {},
   "outputs": [],
   "source": []
  }
 ],
 "metadata": {
  "kernelspec": {
   "display_name": "Python 3",
   "language": "python",
   "name": "python3"
  },
  "language_info": {
   "codemirror_mode": {
    "name": "ipython",
    "version": 3
   },
   "file_extension": ".py",
   "mimetype": "text/x-python",
   "name": "python",
   "nbconvert_exporter": "python",
   "pygments_lexer": "ipython3",
   "version": "3.8.2"
  }
 },
 "nbformat": 4,
 "nbformat_minor": 4
}
