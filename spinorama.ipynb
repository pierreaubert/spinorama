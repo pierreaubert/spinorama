{
 "cells": [
  {
   "cell_type": "code",
   "execution_count": 1,
   "metadata": {},
   "outputs": [
    {
     "name": "stdout",
     "output_type": "stream",
     "text": [
      "Loaded 12 speakers\n"
     ]
    }
   ],
   "source": [
    "import altair as alt\n",
    "from src.spinorama.load import parse_all_speakers, parse_graphs_speaker, parse_graph_freq\n",
    "from src.spinorama.contour import compute_contour, compute_isoline\n",
    "from src.spinorama.graph import display_freq, display_contour, display_template1, display_vertical\n",
    "import numpy as np\n",
    "\n",
    "df = parse_all_speakers()"
   ]
  },
  {
   "cell_type": "code",
   "execution_count": 2,
   "metadata": {
    "jupyter": {
     "source_hidden": true
    }
   },
   "outputs": [],
   "source": [
    "#parse_graphs_speaker('Emotiva Airmotive 6s')"
   ]
  },
  {
   "cell_type": "code",
   "execution_count": 3,
   "metadata": {},
   "outputs": [
    {
     "name": "stdout",
     "output_type": "stream",
     "text": [
      "Emotiva Airmotive 6s\n",
      "Harbeth Monitor\n",
      "JBL 104\n",
      "KEF LS50\n",
      "Kali IN-8\n",
      "Micca RB42\n",
      "Neumann KH 80\n",
      "Pioneer SP-BS22-LR\n",
      "Realistic MC-1000\n",
      "Revel C52\n",
      "Selah Audio RC3R\n",
      "Yamaha HS5\n"
     ]
    }
   ],
   "source": [
    "for k in df.keys():\n",
    "  print(k)"
   ]
  },
  {
   "cell_type": "code",
   "execution_count": 4,
   "metadata": {
    "jupyter": {
     "source_hidden": true
    }
   },
   "outputs": [
    {
     "name": "stdout",
     "output_type": "stream",
     "text": [
      "CEA2034_unmelted\n",
      "CEA2034\n",
      "Early Reflections_unmelted\n",
      "Early Reflections\n",
      "Estimated In-Room Response_unmelted\n",
      "Estimated In-Room Response\n",
      "Horizontal Reflections_unmelted\n",
      "Horizontal Reflections\n",
      "Vertical Reflections_unmelted\n",
      "Vertical Reflections\n",
      "SPL Horizontal_unmelted\n",
      "SPL Horizontal\n",
      "SPL Vertical_unmelted\n",
      "SPL Vertical\n"
     ]
    }
   ],
   "source": [
    "neumann = df['Neumann KH 80']\n",
    "for k in neumann.keys():\n",
    "    print(k)"
   ]
  },
  {
   "cell_type": "code",
   "execution_count": 5,
   "metadata": {
    "jupyter": {
     "source_hidden": true
    }
   },
   "outputs": [
    {
     "name": "stdout",
     "output_type": "stream",
     "text": [
      "Freq\n",
      "On Axis\n",
      "Listening Window\n",
      "Early Reflections\n",
      "Sound Power\n",
      "Sound Power DI\n",
      "Early Reflections DI\n",
      "DI offset\n",
      "Freq\n",
      "Measurements\n",
      "dB\n"
     ]
    }
   ],
   "source": [
    "spinorama_u = neumann['CEA2034_unmelted']\n",
    "for m in spinorama_u.keys():\n",
    "    print(m)\n",
    "spinorama = neumann['CEA2034']\n",
    "for m in spinorama.keys():\n",
    "    print(m)"
   ]
  },
  {
   "cell_type": "code",
   "execution_count": 6,
   "metadata": {
    "jupyter": {
     "source_hidden": true
    }
   },
   "outputs": [
    {
     "name": "stdout",
     "output_type": "stream",
     "text": [
      "           Freq Measurements        dB\n",
      "200     20.5078      On Axis   55.7961\n",
      "201     21.2402      On Axis   51.9241\n",
      "202     21.9727      On Axis   53.8309\n",
      "203     22.7051      On Axis   55.0830\n",
      "204     23.4375      On Axis   41.6382\n",
      "..          ...          ...       ...\n",
      "395  17753.2000      On Axis  107.9410\n",
      "396  18379.4000      On Axis  106.9740\n",
      "397  19027.6000      On Axis  104.8340\n",
      "398  19698.5000      On Axis  104.4100\n",
      "399  19999.5000      On Axis  104.0890\n",
      "\n",
      "[200 rows x 3 columns]\n"
     ]
    }
   ],
   "source": [
    "onaxis = spinorama.loc[spinorama['Measurements']=='On Axis']\n",
    "print(onaxis)"
   ]
  },
  {
   "cell_type": "code",
   "execution_count": 7,
   "metadata": {
    "jupyter": {
     "source_hidden": true
    }
   },
   "outputs": [
    {
     "name": "stdout",
     "output_type": "stream",
     "text": [
      "Estimated -3dB point at 57Hz\n",
      "Estimated -6dB point at 54Hz\n",
      "Estimated +/-3.0dB from 80hz to 20kz\n"
     ]
    }
   ],
   "source": [
    "from src.spinorama.analysis import estimates\n",
    "\n",
    "e0, e3, e6, delta = estimates(onaxis)\n",
    "\n",
    "print('Estimated -3dB point at %1.fHz'% e3)\n",
    "print('Estimated -6dB point at %1.fHz'% e6)\n",
    "print('Estimated +/-%1.1fdB from 80hz to 20kz'%delta)\n"
   ]
  },
  {
   "cell_type": "code",
   "execution_count": 8,
   "metadata": {
    "jupyter": {
     "source_hidden": true
    }
   },
   "outputs": [
    {
     "data": {
      "text/html": [
       "\n",
       "<div id=\"altair-viz-3796d4f9e2494a8296e7eab7642d8562\"></div>\n",
       "<script type=\"text/javascript\">\n",
       "  (function(spec, embedOpt){\n",
       "    const outputDiv = document.getElementById(\"altair-viz-3796d4f9e2494a8296e7eab7642d8562\");\n",
       "    const paths = {\n",
       "      \"vega\": \"https://cdn.jsdelivr.net/npm//vega@5?noext\",\n",
       "      \"vega-lib\": \"https://cdn.jsdelivr.net/npm//vega-lib?noext\",\n",
       "      \"vega-lite\": \"https://cdn.jsdelivr.net/npm//vega-lite@4.0.2?noext\",\n",
       "      \"vega-embed\": \"https://cdn.jsdelivr.net/npm//vega-embed@6?noext\",\n",
       "    };\n",
       "\n",
       "    function loadScript(lib) {\n",
       "      return new Promise(function(resolve, reject) {\n",
       "        var s = document.createElement('script');\n",
       "        s.src = paths[lib];\n",
       "        s.async = true;\n",
       "        s.onload = () => resolve(paths[lib]);\n",
       "        s.onerror = () => reject(`Error loading script: ${paths[lib]}`);\n",
       "        document.getElementsByTagName(\"head\")[0].appendChild(s);\n",
       "      });\n",
       "    }\n",
       "\n",
       "    function showError(err) {\n",
       "      outputDiv.innerHTML = `<div class=\"error\" style=\"color:red;\">${err}</div>`;\n",
       "      throw err;\n",
       "    }\n",
       "\n",
       "    function displayChart(vegaEmbed) {\n",
       "      vegaEmbed(outputDiv, spec, embedOpt)\n",
       "        .catch(err => showError(`Javascript Error: ${err.message}<br>This usually means there's a typo in your chart specification. See the javascript console for the full traceback.`));\n",
       "    }\n",
       "\n",
       "    if(typeof define === \"function\" && define.amd) {\n",
       "      requirejs.config({paths});\n",
       "      require([\"vega-embed\"], displayChart, err => showError(`Error loading script: ${err.message}`));\n",
       "    } else if (typeof vegaEmbed === \"function\") {\n",
       "      displayChart(vegaEmbed);\n",
       "    } else {\n",
       "      loadScript(\"vega\")\n",
       "        .then(() => loadScript(\"vega-lite\"))\n",
       "        .then(() => loadScript(\"vega-embed\"))\n",
       "        .catch(showError)\n",
       "        .then(() => displayChart(vegaEmbed));\n",
       "    }\n",
       "  })({\"config\": {\"view\": {\"continuousWidth\": 400, \"continuousHeight\": 300}}, \"layer\": [{\"data\": {\"name\": \"data-b753f20eb1bc0598d5f9f860665291d8\"}, \"mark\": \"line\", \"encoding\": {\"color\": {\"type\": \"nominal\", \"field\": \"Freq\", \"sort\": null}, \"latitude\": {\"field\": \"x\", \"type\": \"quantitative\"}, \"longitude\": {\"field\": \"y\", \"type\": \"quantitative\"}, \"size\": {\"value\": 3}}, \"projection\": {\"rotate\": [0, 0, 90], \"type\": \"azimuthalEquidistant\"}}, {\"data\": {\"name\": \"data-7c7aef05102daf61004d9e58850b5b42\"}, \"mark\": \"line\", \"encoding\": {\"latitude\": {\"field\": \"x\", \"type\": \"quantitative\"}, \"longitude\": {\"field\": \"y\", \"type\": \"quantitative\"}, \"size\": {\"value\": 1}}, \"projection\": {\"rotate\": [0, 0, 90], \"type\": \"azimuthalEquidistant\"}}, {\"data\": {\"name\": \"data-fabb6ce13191712752ba44889226139d\"}, \"mark\": \"line\", \"encoding\": {\"latitude\": {\"field\": \"x\", \"type\": \"quantitative\"}, \"longitude\": {\"field\": \"y\", \"type\": \"quantitative\"}, \"size\": {\"value\": 1}}, \"projection\": {\"rotate\": [0, 0, 90], \"type\": \"azimuthalEquidistant\"}}, {\"data\": {\"name\": \"data-62c8714fe02494b52fbe86b14c9bbe93\"}, \"mark\": \"text\", \"encoding\": {\"latitude\": {\"field\": \"x\", \"type\": \"quantitative\"}, \"longitude\": {\"field\": \"y\", \"type\": \"quantitative\"}, \"text\": {\"type\": \"ordinal\", \"field\": \"text\"}}, \"projection\": {\"rotate\": [0, 0, 90], \"type\": \"azimuthalEquidistant\"}}], \"$schema\": \"https://vega.github.io/schema/vega-lite/v4.0.2.json\", \"datasets\": {\"data-b753f20eb1bc0598d5f9f860665291d8\": [{\"x\": -0.9565014152514885, \"y\": -0.16865700659466853, \"Freq\": \"100 Hz\"}, {\"x\": -0.9134225341219415, \"y\": -0.3324586137283914, \"Freq\": \"100 Hz\"}, {\"x\": -0.8425530882001782, \"y\": -0.4864482522789233, \"Freq\": \"100 Hz\"}, {\"x\": -0.7459709338355502, \"y\": -0.6259439354503815, \"Freq\": \"100 Hz\"}, {\"x\": -0.6265521625143257, \"y\": -0.7466957906241191, \"Freq\": \"100 Hz\"}, {\"x\": -0.48784418066498636, \"y\": -0.8449709070885674, \"Freq\": \"100 Hz\"}, {\"x\": -0.33401268271454393, \"y\": -0.9176923035696708, \"Freq\": \"100 Hz\"}, {\"x\": -0.1697225923353242, \"y\": -0.9625446522897123, \"Freq\": \"100 Hz\"}, {\"x\": 5.988824480451713e-17, \"y\": -0.9780492603453282, \"Freq\": \"100 Hz\"}, {\"x\": 0.1699161873019472, \"y\": -0.9636425839042905, \"Freq\": \"100 Hz\"}, {\"x\": 0.334749663883235, \"y\": -0.9197171426892123, \"Freq\": \"100 Hz\"}, {\"x\": 0.4893619014605722, \"y\": -0.8475996766182252, \"Freq\": \"100 Hz\"}, {\"x\": 0.628942916419136, \"y\": -0.7495449801791854, \"Freq\": \"100 Hz\"}, {\"x\": 0.7491574329852972, \"y\": -0.6286177257116807, \"Freq\": \"100 Hz\"}, {\"x\": 0.8463096323120042, \"y\": -0.4886170940331087, \"Freq\": \"100 Hz\"}, {\"x\": 0.9174369977676416, \"y\": -0.33391975900196985, \"Freq\": \"100 Hz\"}, {\"x\": 0.960441052221445, \"y\": -0.16935167088666855, \"Freq\": \"100 Hz\"}, {\"x\": 0.9740863227124106, \"y\": 0.0, \"Freq\": \"100 Hz\"}, {\"x\": 0.9580883416187777, \"y\": 0.16893682452961942, \"Freq\": \"100 Hz\"}, {\"x\": 0.9130439772430708, \"y\": 0.3323208302925056, \"Freq\": \"100 Hz\"}, {\"x\": 0.8404435817874897, \"y\": 0.4852303281837003, \"Freq\": \"100 Hz\"}, {\"x\": 0.7425834842889727, \"y\": 0.6231015277852163, \"Freq\": \"100 Hz\"}, {\"x\": 0.6224872786711342, \"y\": 0.7418514507005173, \"Freq\": \"100 Hz\"}, {\"x\": 0.4838156625038647, \"y\": 0.83799330895429, \"Freq\": \"100 Hz\"}, {\"x\": 0.33074433144469717, \"y\": 0.9087125822569206, \"Freq\": \"100 Hz\"}, {\"x\": 0.16785659715283274, \"y\": 0.9519620677357536, \"Freq\": \"100 Hz\"}, {\"x\": 5.917862222488585e-17, \"y\": 0.9664602441469379, \"Freq\": \"100 Hz\"}, {\"x\": -0.16782731388057034, \"y\": 0.9517959940461536, \"Freq\": \"100 Hz\"}, {\"x\": -0.33061616080666395, \"y\": 0.9083604363230875, \"Freq\": \"100 Hz\"}, {\"x\": -0.48349244418628595, \"y\": 0.8374334784063076, \"Freq\": \"100 Hz\"}, {\"x\": -0.6218489413564996, \"y\": 0.7410907099125148, \"Freq\": \"100 Hz\"}, {\"x\": -0.7414997875060632, \"y\": 0.6221921982143693, \"Freq\": \"100 Hz\"}, {\"x\": -0.8387803171159469, \"y\": 0.4842700418778515, \"Freq\": \"100 Hz\"}, {\"x\": -0.9107198140797707, \"y\": 0.33147490408148655, \"Freq\": \"100 Hz\"}, {\"x\": -0.955089788889888, \"y\": 0.16840809878043905, \"Freq\": \"100 Hz\"}, {\"x\": -0.9705168682487187, \"y\": 1.188540376219307e-16, \"Freq\": \"100 Hz\"}, {\"x\": -0.9565014152514885, \"y\": -0.16865700659466853, \"Freq\": \"100 Hz\"}, {\"x\": -0.9203204167088997, \"y\": -0.16227732036263648, \"Freq\": \"1 kHz\"}, {\"x\": -0.8534670477923124, \"y\": -0.3106366013234522, \"Freq\": \"1 kHz\"}, {\"x\": -0.7571610799631693, \"y\": -0.4371471533366435, \"Freq\": \"1 kHz\"}, {\"x\": -0.6707652478215931, \"y\": -0.5628388720536358, \"Freq\": \"1 kHz\"}, {\"x\": -0.5793519357372139, \"y\": -0.6904447507912347, \"Freq\": \"1 kHz\"}, {\"x\": -0.4586116602179145, \"y\": -0.7943386964409429, \"Freq\": \"1 kHz\"}, {\"x\": -0.31607135680265525, \"y\": -0.8683989157516806, \"Freq\": \"1 kHz\"}, {\"x\": -0.1612167778522039, \"y\": -0.9143057812505512, \"Freq\": \"1 kHz\"}, {\"x\": 5.728472733046812e-17, \"y\": -0.9355305933164073, \"Freq\": \"1 kHz\"}, {\"x\": 0.1643214554513905, \"y\": -0.9319132828745921, \"Freq\": \"1 kHz\"}, {\"x\": 0.32768746172760516, \"y\": -0.9003139017349957, \"Freq\": \"1 kHz\"}, {\"x\": 0.48446678346246463, \"y\": -0.839121083536458, \"Freq\": \"1 kHz\"}, {\"x\": 0.6288044092659607, \"y\": -0.7493799137817885, \"Freq\": \"1 kHz\"}, {\"x\": 0.755372541687281, \"y\": -0.6338328211312418, \"Freq\": \"1 kHz\"}, {\"x\": 0.8594453664740911, \"y\": -0.496201013687593, \"Freq\": \"1 kHz\"}, {\"x\": 0.9369018642602792, \"y\": -0.3410043910192555, \"Freq\": \"1 kHz\"}, {\"x\": 0.9843187582594968, \"y\": -0.1735619546986025, \"Freq\": \"1 kHz\"}, {\"x\": 0.9992973514835252, \"y\": 0.0, \"Freq\": \"1 kHz\"}, {\"x\": 0.9807943055135402, \"y\": 0.17294049858725827, \"Freq\": \"1 kHz\"}, {\"x\": 0.9294539777597042, \"y\": 0.3382935820248531, \"Freq\": \"1 kHz\"}, {\"x\": 0.8478106272594941, \"y\": 0.48948369387009427, \"Freq\": \"1 kHz\"}, {\"x\": 0.7403514995241727, \"y\": 0.6212286701922793, \"Freq\": \"1 kHz\"}, {\"x\": 0.613255475809486, \"y\": 0.7308494164740266, \"Freq\": \"1 kHz\"}, {\"x\": 0.4728683986171878, \"y\": 0.8190320916987017, \"Freq\": \"1 kHz\"}, {\"x\": 0.3227881390887857, \"y\": 0.8868531234142163, \"Freq\": \"1 kHz\"}, {\"x\": 0.16417666593853808, \"y\": 0.9310921407426808, \"Freq\": \"1 kHz\"}, {\"x\": 5.792057669769796e-17, \"y\": 0.9459148015252156, \"Freq\": \"1 kHz\"}, {\"x\": -0.16347061370732494, \"y\": 0.9270879195601017, \"Freq\": \"1 kHz\"}, {\"x\": -0.3177830756735888, \"y\": 0.8731018246980248, \"Freq\": \"1 kHz\"}, {\"x\": -0.45354556441413146, \"y\": 0.7855639611127792, \"Freq\": \"1 kHz\"}, {\"x\": -0.5666417967158214, \"y\": 0.6752973969501183, \"Freq\": \"1 kHz\"}, {\"x\": -0.6801252302339801, \"y\": 0.5706928298436956, \"Freq\": \"1 kHz\"}, {\"x\": -0.7943151673309551, \"y\": 0.45859807567992944, \"Freq\": \"1 kHz\"}, {\"x\": -0.8820199204723539, \"y\": 0.32102899708178, \"Freq\": \"1 kHz\"}, {\"x\": -0.9341091461037484, \"y\": 0.16470864538463623, \"Freq\": \"1 kHz\"}, {\"x\": -0.9473669417925968, \"y\": 1.1601898928843205e-16, \"Freq\": \"1 kHz\"}, {\"x\": -0.9203204167088997, \"y\": -0.16227732036263648, \"Freq\": \"1 kHz\"}, {\"x\": -0.7325805690373054, \"y\": -0.12917371986403714, \"Freq\": \"10 kHz\"}, {\"x\": -0.6570902266956496, \"y\": -0.2391612837444477, \"Freq\": \"10 kHz\"}, {\"x\": -0.590949012964344, \"y\": -0.34118457171230754, \"Freq\": \"10 kHz\"}, {\"x\": -0.5626718763262963, \"y\": -0.4721377638992236, \"Freq\": \"10 kHz\"}, {\"x\": -0.2398124894179376, \"y\": -0.2857973958127881, \"Freq\": \"10 kHz\"}, {\"x\": -0.24549227555064213, \"y\": -0.42520509411941126, \"Freq\": \"10 kHz\"}, {\"x\": -0.2747142166018845, \"y\": -0.7547711069168438, \"Freq\": \"10 kHz\"}, {\"x\": -0.14350218766682238, \"y\": -0.8138413479902186, \"Freq\": \"10 kHz\"}, {\"x\": 4.3820312937365503e-17, \"y\": -0.7156400191120397, \"Freq\": \"10 kHz\"}, {\"x\": 0.12324759898237896, \"y\": -0.6989718674202996, \"Freq\": \"10 kHz\"}, {\"x\": 0.28348909890823315, \"y\": -0.7788798979119084, \"Freq\": \"10 kHz\"}, {\"x\": 0.4346433824562719, \"y\": -0.752824421587854, \"Freq\": \"10 kHz\"}, {\"x\": 0.5790460155902005, \"y\": -0.6900801693569842, \"Freq\": \"10 kHz\"}, {\"x\": 0.7167749942159896, \"y\": -0.6014456332837337, \"Freq\": \"10 kHz\"}, {\"x\": 0.8267561305636227, \"y\": -0.4773278745350808, \"Freq\": \"10 kHz\"}, {\"x\": 0.910015522212104, \"y\": -0.33121856280541995, \"Freq\": \"10 kHz\"}, {\"x\": 0.9731825947402044, \"y\": -0.1715983486085699, \"Freq\": \"10 kHz\"}, {\"x\": 1.0, \"y\": 0.0, \"Freq\": \"10 kHz\"}, {\"x\": 0.9798809002207398, \"y\": 0.17277944058981567, \"Freq\": \"10 kHz\"}, {\"x\": 0.9239781084885957, \"y\": 0.33630052860343673, \"Freq\": \"10 kHz\"}, {\"x\": 0.8365328814378133, \"y\": 0.4829724842840948, \"Freq\": \"10 kHz\"}, {\"x\": 0.7180890662752657, \"y\": 0.6025482706640127, \"Freq\": \"10 kHz\"}, {\"x\": 0.5794001121383184, \"y\": 0.6905021651903291, \"Freq\": \"10 kHz\"}, {\"x\": 0.42946392602516426, \"y\": 0.7438533398935862, \"Freq\": \"10 kHz\"}, {\"x\": 0.28700578078926936, \"y\": 0.7885419019714606, \"Freq\": \"10 kHz\"}, {\"x\": 0.14118132565518995, \"y\": 0.8006790854578059, \"Freq\": \"10 kHz\"}, {\"x\": 4.7565995776043366e-17, \"y\": 0.7768116620916441, \"Freq\": \"10 kHz\"}, {\"x\": -0.13204966256988604, \"y\": 0.748890850619248, \"Freq\": \"10 kHz\"}, {\"x\": -0.25939558237075033, \"y\": 0.7126835052699182, \"Freq\": \"10 kHz\"}, {\"x\": -0.36979829303253714, \"y\": 0.6405094320845987, \"Freq\": \"10 kHz\"}, {\"x\": -0.464885408917956, \"y\": 0.5540288562226026, \"Freq\": \"10 kHz\"}, {\"x\": -0.5565220765032827, \"y\": 0.46697746913591875, \"Freq\": \"10 kHz\"}, {\"x\": -0.6200253134687733, \"y\": 0.3579717816355783, \"Freq\": \"10 kHz\"}, {\"x\": -0.7105354150735347, \"y\": 0.2586137414787479, \"Freq\": \"10 kHz\"}, {\"x\": -0.7276749367728418, \"y\": 0.12830872453837824, \"Freq\": \"10 kHz\"}, {\"x\": -0.7381641199561546, \"y\": 9.039903267497276e-17, \"Freq\": \"10 kHz\"}, {\"x\": -0.7325805690373054, \"y\": -0.12917371986403714, \"Freq\": \"10 kHz\"}], \"data-7c7aef05102daf61004d9e58850b5b42\": [{\"x\": -0.0, \"y\": -0.0}, {\"x\": -1.0, \"y\": -1.2246467991473532e-16}, {\"x\": -0.0, \"y\": -0.0}, {\"x\": -0.9848077530122081, \"y\": -0.17364817766693025}, {\"x\": -0.0, \"y\": -0.0}, {\"x\": -0.9396926207859083, \"y\": -0.3420201433256689}, {\"x\": -0.0, \"y\": -0.0}, {\"x\": -0.8660254037844387, \"y\": -0.49999999999999994}, {\"x\": -0.0, \"y\": -0.0}, {\"x\": -0.7660444431189779, \"y\": -0.6427876096865395}, {\"x\": -0.0, \"y\": -0.0}, {\"x\": -0.6427876096865393, \"y\": -0.7660444431189781}, {\"x\": -0.0, \"y\": -0.0}, {\"x\": -0.4999999999999998, \"y\": -0.8660254037844388}, {\"x\": -0.0, \"y\": -0.0}, {\"x\": -0.3420201433256687, \"y\": -0.9396926207859084}, {\"x\": -0.0, \"y\": -0.0}, {\"x\": -0.1736481776669303, \"y\": -0.984807753012208}, {\"x\": 0.0, \"y\": -0.0}, {\"x\": 6.123233995736766e-17, \"y\": -1.0}, {\"x\": 0.0, \"y\": -0.0}, {\"x\": 0.17364817766693041, \"y\": -0.984807753012208}, {\"x\": 0.0, \"y\": -0.0}, {\"x\": 0.3420201433256688, \"y\": -0.9396926207859083}, {\"x\": 0.0, \"y\": -0.0}, {\"x\": 0.5000000000000001, \"y\": -0.8660254037844386}, {\"x\": 0.0, \"y\": -0.0}, {\"x\": 0.6427876096865394, \"y\": -0.766044443118978}, {\"x\": 0.0, \"y\": -0.0}, {\"x\": 0.7660444431189781, \"y\": -0.6427876096865393}, {\"x\": 0.0, \"y\": -0.0}, {\"x\": 0.8660254037844387, \"y\": -0.49999999999999994}, {\"x\": 0.0, \"y\": -0.0}, {\"x\": 0.9396926207859084, \"y\": -0.3420201433256687}, {\"x\": 0.0, \"y\": -0.0}, {\"x\": 0.984807753012208, \"y\": -0.17364817766693033}, {\"x\": 0.0, \"y\": 0.0}, {\"x\": 1.0, \"y\": 0.0}, {\"x\": 0.0, \"y\": 0.0}, {\"x\": 0.984807753012208, \"y\": 0.17364817766693033}, {\"x\": 0.0, \"y\": 0.0}, {\"x\": 0.9396926207859084, \"y\": 0.3420201433256687}, {\"x\": 0.0, \"y\": 0.0}, {\"x\": 0.8660254037844387, \"y\": 0.49999999999999994}, {\"x\": 0.0, \"y\": 0.0}, {\"x\": 0.7660444431189781, \"y\": 0.6427876096865393}, {\"x\": 0.0, \"y\": 0.0}, {\"x\": 0.6427876096865394, \"y\": 0.766044443118978}, {\"x\": 0.0, \"y\": 0.0}, {\"x\": 0.5000000000000001, \"y\": 0.8660254037844386}, {\"x\": 0.0, \"y\": 0.0}, {\"x\": 0.3420201433256688, \"y\": 0.9396926207859083}, {\"x\": 0.0, \"y\": 0.0}, {\"x\": 0.17364817766693041, \"y\": 0.984807753012208}, {\"x\": 0.0, \"y\": 0.0}, {\"x\": 6.123233995736766e-17, \"y\": 1.0}, {\"x\": -0.0, \"y\": 0.0}, {\"x\": -0.1736481776669303, \"y\": 0.984807753012208}, {\"x\": -0.0, \"y\": 0.0}, {\"x\": -0.3420201433256687, \"y\": 0.9396926207859084}, {\"x\": -0.0, \"y\": 0.0}, {\"x\": -0.4999999999999998, \"y\": 0.8660254037844388}, {\"x\": -0.0, \"y\": 0.0}, {\"x\": -0.6427876096865393, \"y\": 0.7660444431189781}, {\"x\": -0.0, \"y\": 0.0}, {\"x\": -0.7660444431189779, \"y\": 0.6427876096865395}, {\"x\": -0.0, \"y\": 0.0}, {\"x\": -0.8660254037844387, \"y\": 0.49999999999999994}, {\"x\": -0.0, \"y\": 0.0}, {\"x\": -0.9396926207859083, \"y\": 0.3420201433256689}, {\"x\": -0.0, \"y\": 0.0}, {\"x\": -0.9848077530122081, \"y\": 0.17364817766693025}], \"data-fabb6ce13191712752ba44889226139d\": [{\"x\": -0.8, \"y\": -9.797174393178826e-17}, {\"x\": -0.7878462024097665, \"y\": -0.1389185421335442}, {\"x\": -0.7517540966287267, \"y\": -0.2736161146605351}, {\"x\": -0.692820323027551, \"y\": -0.39999999999999997}, {\"x\": -0.6128355544951823, \"y\": -0.5142300877492316}, {\"x\": -0.5142300877492314, \"y\": -0.6128355544951826}, {\"x\": -0.39999999999999986, \"y\": -0.6928203230275511}, {\"x\": -0.273616114660535, \"y\": -0.7517540966287268}, {\"x\": -0.13891854213354424, \"y\": -0.7878462024097664}, {\"x\": 4.898587196589413e-17, \"y\": -0.8}, {\"x\": 0.13891854213354435, \"y\": -0.7878462024097664}, {\"x\": 0.2736161146605351, \"y\": -0.7517540966287267}, {\"x\": 0.40000000000000013, \"y\": -0.6928203230275509}, {\"x\": 0.5142300877492315, \"y\": -0.6128355544951825}, {\"x\": 0.6128355544951826, \"y\": -0.5142300877492314}, {\"x\": 0.692820323027551, \"y\": -0.39999999999999997}, {\"x\": 0.7517540966287268, \"y\": -0.273616114660535}, {\"x\": 0.7878462024097664, \"y\": -0.13891854213354426}, {\"x\": 0.8, \"y\": 0.0}, {\"x\": 0.7878462024097664, \"y\": 0.13891854213354426}, {\"x\": 0.7517540966287268, \"y\": 0.273616114660535}, {\"x\": 0.692820323027551, \"y\": 0.39999999999999997}, {\"x\": 0.6128355544951826, \"y\": 0.5142300877492314}, {\"x\": 0.5142300877492315, \"y\": 0.6128355544951825}, {\"x\": 0.40000000000000013, \"y\": 0.6928203230275509}, {\"x\": 0.2736161146605351, \"y\": 0.7517540966287267}, {\"x\": 0.13891854213354435, \"y\": 0.7878462024097664}, {\"x\": 4.898587196589413e-17, \"y\": 0.8}, {\"x\": -0.13891854213354424, \"y\": 0.7878462024097664}, {\"x\": -0.273616114660535, \"y\": 0.7517540966287268}, {\"x\": -0.39999999999999986, \"y\": 0.6928203230275511}, {\"x\": -0.5142300877492314, \"y\": 0.6128355544951826}, {\"x\": -0.6128355544951823, \"y\": 0.5142300877492316}, {\"x\": -0.692820323027551, \"y\": 0.39999999999999997}, {\"x\": -0.7517540966287267, \"y\": 0.2736161146605351}, {\"x\": -0.7878462024097665, \"y\": 0.1389185421335442}, {\"x\": -0.8, \"y\": -9.797174393178826e-17}], \"data-62c8714fe02494b52fbe86b14c9bbe93\": [{\"x\": -1.1, \"y\": -1.3471114790620887e-16, \"text\": \"-180\\u00b0\"}, {\"x\": -1.083288528313429, \"y\": -0.1910129954336233, \"text\": \"\"}, {\"x\": -1.0336618828644992, \"y\": -0.3762221576582358, \"text\": \"\"}, {\"x\": -0.9526279441628827, \"y\": -0.5499999999999999, \"text\": \"-150\\u00b0\"}, {\"x\": -0.8426488874308757, \"y\": -0.7070663706551935, \"text\": \"\"}, {\"x\": -0.7070663706551933, \"y\": -0.842648887430876, \"text\": \"\"}, {\"x\": -0.5499999999999998, \"y\": -0.9526279441628828, \"text\": \"-120\\u00b0\"}, {\"x\": -0.37622215765823563, \"y\": -1.0336618828644994, \"text\": \"\"}, {\"x\": -0.19101299543362335, \"y\": -1.0832885283134288, \"text\": \"\"}, {\"x\": 6.735557395310444e-17, \"y\": -1.1, \"text\": \"-90\\u00b0\"}, {\"x\": 0.19101299543362346, \"y\": -1.0832885283134288, \"text\": \"\"}, {\"x\": 0.37622215765823575, \"y\": -1.0336618828644992, \"text\": \"\"}, {\"x\": 0.5500000000000002, \"y\": -0.9526279441628825, \"text\": \"-60\\u00b0\"}, {\"x\": 0.7070663706551934, \"y\": -0.8426488874308758, \"text\": \"\"}, {\"x\": 0.842648887430876, \"y\": -0.7070663706551933, \"text\": \"\"}, {\"x\": 0.9526279441628827, \"y\": -0.5499999999999999, \"text\": \"-30\\u00b0\"}, {\"x\": 1.0336618828644994, \"y\": -0.37622215765823563, \"text\": \"\"}, {\"x\": 1.0832885283134288, \"y\": -0.19101299543362338, \"text\": \"\"}, {\"x\": 1.1, \"y\": 0.0, \"text\": \"0\\u00b0\"}, {\"x\": 1.0832885283134288, \"y\": 0.19101299543362338, \"text\": \"\"}, {\"x\": 1.0336618828644994, \"y\": 0.37622215765823563, \"text\": \"\"}, {\"x\": 0.9526279441628827, \"y\": 0.5499999999999999, \"text\": \"30\\u00b0\"}, {\"x\": 0.842648887430876, \"y\": 0.7070663706551933, \"text\": \"\"}, {\"x\": 0.7070663706551934, \"y\": 0.8426488874308758, \"text\": \"\"}, {\"x\": 0.5500000000000002, \"y\": 0.9526279441628825, \"text\": \"60\\u00b0\"}, {\"x\": 0.37622215765823575, \"y\": 1.0336618828644992, \"text\": \"\"}, {\"x\": 0.19101299543362346, \"y\": 1.0832885283134288, \"text\": \"\"}, {\"x\": 6.735557395310444e-17, \"y\": 1.1, \"text\": \"90\\u00b0\"}, {\"x\": -0.19101299543362335, \"y\": 1.0832885283134288, \"text\": \"\"}, {\"x\": -0.37622215765823563, \"y\": 1.0336618828644994, \"text\": \"\"}, {\"x\": -0.5499999999999998, \"y\": 0.9526279441628828, \"text\": \"120\\u00b0\"}, {\"x\": -0.7070663706551933, \"y\": 0.842648887430876, \"text\": \"\"}, {\"x\": -0.8426488874308757, \"y\": 0.7070663706551935, \"text\": \"\"}, {\"x\": -0.9526279441628827, \"y\": 0.5499999999999999, \"text\": \"150\\u00b0\"}, {\"x\": -1.0336618828644992, \"y\": 0.3762221576582358, \"text\": \"\"}, {\"x\": -1.083288528313429, \"y\": 0.1910129954336233, \"text\": \"\"}, {\"x\": -1.1, \"y\": -1.3471114790620887e-16, \"text\": \"\"}]}}, {\"mode\": \"vega-lite\"});\n",
       "</script>"
      ],
      "text/plain": [
       "alt.LayerChart(...)"
      ]
     },
     "execution_count": 8,
     "metadata": {},
     "output_type": "execute_result"
    }
   ],
   "source": [
    "import math\n",
    "import pandas as pd\n",
    "import numpy as np\n",
    "\n",
    "spl = neumann['SPL Horizontal']\n",
    "\n",
    "radius=0\n",
    "anglelist = [a for a in range(-180,180,10)]\n",
    "grid0 = [(radius*math.cos(p*math.pi/180), radius*math.sin(p*math.pi/180)) for p in anglelist]\n",
    "radius=1\n",
    "gridC = [(radius*math.cos(p*math.pi/180), radius*math.sin(p*math.pi/180)) for p in anglelist]\n",
    "gridX = [(g0[0],gC[0]) for (g0, gC) in zip(grid0, gridC)] \n",
    "gridX = [s for s2 in gridX for s in s2]\n",
    "gridY = [(g0[1],gC[1]) for (g0, gC) in zip(grid0, gridC)] \n",
    "gridY = [s for s2 in gridY for s in s2]\n",
    "\n",
    "def build_circle(radius):\n",
    "    circleC = [radius for i in range(0, len(anglelist)+1)]\n",
    "    circleX = [circleC[i]*math.cos(anglelist[i]*math.pi/180) for i in range(0,len(anglelist))]\n",
    "    circleY = [circleC[i]*math.sin(anglelist[i]*math.pi/180) for i in range(0,len(anglelist))]\n",
    "    circleX.append(circleX[0])\n",
    "    circleY.append(circleY[0])\n",
    "    return circleX, circleY\n",
    "\n",
    "#for g in zip(gridX, gridY):\n",
    "#    print('line from %d, %d' % g)\n",
    "\n",
    "splu = neumann['SPL Vertical_unmelted']\n",
    "# 100hz 47\n",
    "#  1khz 113\n",
    "# 10khz 180\n",
    "def hzname(i):\n",
    "    if i == 47:\n",
    "        return '100 Hz'\n",
    "    elif i == 113:\n",
    "        return '1 kHz'\n",
    "    elif i == 180:\n",
    "        return '10 kHz'\n",
    "    else:\n",
    "        return 'error'\n",
    "\n",
    "def project(gridZ):\n",
    "    angles = []\n",
    "    values = {}\n",
    "    dbs = []\n",
    "    for a, z in zip(gridZ.index,gridZ):\n",
    "        angle = 0\n",
    "        if a != 'On-Axis':\n",
    "            angle = int(a[:-1])\n",
    "        angles.append(angle)\n",
    "        dbs.append(z)\n",
    "\n",
    "    # map in 2d\n",
    "    dbsX = [db*math.cos(a*math.pi/180) for a,db in zip(angles, dbs)]\n",
    "    dbsY = [db*math.sin(a*math.pi/180) for a,db in zip(angles, dbs)]\n",
    "    # join with first point (-180=180)\n",
    "    dbsX.append(dbsX[0])\n",
    "    dbsY.append(dbsY[0])\n",
    "    # \n",
    "    return dbsX, dbsY, [ihz for i in range(0,len(dbsX))]\n",
    "\n",
    "dbX = []\n",
    "dbY = []\n",
    "hzZ = []\n",
    "for ihz in [47, 113, 180]:\n",
    "    X, Y, Z = project(splu.loc[ihz][1:])\n",
    "    # add to global variable\n",
    "    dbX.append(X)\n",
    "    dbY.append(Y)\n",
    "    hzZ.append(Z)\n",
    "\n",
    "dbmax = max(np.array(dbX).max(), np.array(dbY).max())\n",
    "dbX = [v2/dbmax for v1 in dbX for v2 in v1]\n",
    "dbY = [v2/dbmax for v1 in dbY for v2 in v1]\n",
    "hzZ = [hzname(i2) for i1 in hzZ for i2 in i1]\n",
    "\n",
    "grid_df = pd.DataFrame({'x': gridX, 'y': gridY })\n",
    "grid = alt.Chart(grid_df).mark_line(\n",
    ").encode(\n",
    "   alt.Latitude('x:Q'), \n",
    "   alt.Longitude('y:Q'),\n",
    "   size=alt.value(1)\n",
    ").project(\n",
    "   type='azimuthalEquidistant',\n",
    "   rotate=[0, 0, 90]   \n",
    ")\n",
    "\n",
    "circleX, circleY = build_circle(0.8)\n",
    "circle_df = pd.DataFrame({'x': circleX, 'y': circleY })\n",
    "circle = alt.Chart(circle_df).mark_line(\n",
    ").encode(\n",
    "   alt.Latitude('x:Q'), \n",
    "   alt.Longitude('y:Q'),\n",
    "   size=alt.value(1)\n",
    ").project(\n",
    "   type='azimuthalEquidistant',\n",
    "   rotate=[0, 0, 90]   \n",
    ")\n",
    "\n",
    "def angle2str(a):\n",
    "    if a % 30 == 0:\n",
    "        return '{:d}°'.format(a)\n",
    "    else:\n",
    "        return ''\n",
    "\n",
    "textX, textY = build_circle(1.1)\n",
    "textT = [angle2str(a) for a in anglelist] + ['']\n",
    "text_df = pd.DataFrame({'x': textX, 'y': textY, 'text': textT })\n",
    "text = alt.Chart(text_df).mark_text(\n",
    ").encode(\n",
    "   alt.Latitude('x:Q'), \n",
    "   alt.Longitude('y:Q'),\n",
    "   text='text:O'\n",
    ").project(\n",
    "   type='azimuthalEquidistant',\n",
    "   rotate=[0, 0, 90]   \n",
    ")\n",
    "\n",
    "dbs_df = pd.DataFrame({'x': dbX, 'y': dbY, 'Freq': hzZ })\n",
    "dbs = alt.Chart(dbs_df).mark_line(\n",
    ").encode(\n",
    "   alt.Latitude('x:Q'), \n",
    "   alt.Longitude('y:Q'),\n",
    "   alt.Color('Freq:N', sort=None),\n",
    "   size=alt.value(3)\n",
    ").project(\n",
    "   type='azimuthalEquidistant',\n",
    "   rotate=[0, 0, 90]   \n",
    ")\n",
    "\n",
    "dbs+grid+circle+text"
   ]
  },
  {
   "cell_type": "code",
   "execution_count": 9,
   "metadata": {
    "jupyter": {
     "source_hidden": true
    }
   },
   "outputs": [
    {
     "name": "stdout",
     "output_type": "stream",
     "text": [
      "8\n",
      "Index(['Freq', 'On Axis', 'Listening Window', 'Early Reflections',\n",
      "       'Sound Power', 'Sound Power DI', 'Early Reflections DI', 'DI offset'],\n",
      "      dtype='object')\n",
      "37\n",
      "Index(['Freq', '-170°', '-160°', '-150°', '-140°', '-130°', '-120°', '-110°',\n",
      "       '-100°', '-90°', '-80°', '-70°', '-60°', '-50°', '-40°', '-30°', '-20°',\n",
      "       '-10°', 'On-Axis', '10°', '20°', '30°', '40°', '50°', '60°', '70°',\n",
      "       '80°', '90°', '100°', '110°', '120°', '130°', '140°', '150°', '160°',\n",
      "       '170°', '180°'],\n",
      "      dtype='object')\n",
      "-170°\n"
     ]
    },
    {
     "data": {
      "text/html": [
       "<div>\n",
       "<style scoped>\n",
       "    .dataframe tbody tr th:only-of-type {\n",
       "        vertical-align: middle;\n",
       "    }\n",
       "\n",
       "    .dataframe tbody tr th {\n",
       "        vertical-align: top;\n",
       "    }\n",
       "\n",
       "    .dataframe thead th {\n",
       "        text-align: right;\n",
       "    }\n",
       "</style>\n",
       "<table border=\"1\" class=\"dataframe\">\n",
       "  <thead>\n",
       "    <tr style=\"text-align: right;\">\n",
       "      <th></th>\n",
       "      <th>Freq</th>\n",
       "      <th>Measurements</th>\n",
       "      <th>dB</th>\n",
       "    </tr>\n",
       "  </thead>\n",
       "  <tbody>\n",
       "    <tr>\n",
       "      <th>0</th>\n",
       "      <td>20.5078</td>\n",
       "      <td>index</td>\n",
       "      <td>1.000</td>\n",
       "    </tr>\n",
       "    <tr>\n",
       "      <th>1</th>\n",
       "      <td>21.2402</td>\n",
       "      <td>index</td>\n",
       "      <td>2.000</td>\n",
       "    </tr>\n",
       "    <tr>\n",
       "      <th>2</th>\n",
       "      <td>21.9727</td>\n",
       "      <td>index</td>\n",
       "      <td>3.000</td>\n",
       "    </tr>\n",
       "    <tr>\n",
       "      <th>3</th>\n",
       "      <td>22.7051</td>\n",
       "      <td>index</td>\n",
       "      <td>4.000</td>\n",
       "    </tr>\n",
       "    <tr>\n",
       "      <th>4</th>\n",
       "      <td>23.4375</td>\n",
       "      <td>index</td>\n",
       "      <td>5.000</td>\n",
       "    </tr>\n",
       "    <tr>\n",
       "      <th>...</th>\n",
       "      <td>...</td>\n",
       "      <td>...</td>\n",
       "      <td>...</td>\n",
       "    </tr>\n",
       "    <tr>\n",
       "      <th>395</th>\n",
       "      <td>17753.2000</td>\n",
       "      <td>On-Axis</td>\n",
       "      <td>107.941</td>\n",
       "    </tr>\n",
       "    <tr>\n",
       "      <th>396</th>\n",
       "      <td>18379.4000</td>\n",
       "      <td>On-Axis</td>\n",
       "      <td>106.974</td>\n",
       "    </tr>\n",
       "    <tr>\n",
       "      <th>397</th>\n",
       "      <td>19027.6000</td>\n",
       "      <td>On-Axis</td>\n",
       "      <td>104.834</td>\n",
       "    </tr>\n",
       "    <tr>\n",
       "      <th>398</th>\n",
       "      <td>19698.5000</td>\n",
       "      <td>On-Axis</td>\n",
       "      <td>104.410</td>\n",
       "    </tr>\n",
       "    <tr>\n",
       "      <th>399</th>\n",
       "      <td>19999.5000</td>\n",
       "      <td>On-Axis</td>\n",
       "      <td>104.089</td>\n",
       "    </tr>\n",
       "  </tbody>\n",
       "</table>\n",
       "<p>400 rows × 3 columns</p>\n",
       "</div>"
      ],
      "text/plain": [
       "           Freq Measurements       dB\n",
       "0       20.5078        index    1.000\n",
       "1       21.2402        index    2.000\n",
       "2       21.9727        index    3.000\n",
       "3       22.7051        index    4.000\n",
       "4       23.4375        index    5.000\n",
       "..          ...          ...      ...\n",
       "395  17753.2000      On-Axis  107.941\n",
       "396  18379.4000      On-Axis  106.974\n",
       "397  19027.6000      On-Axis  104.834\n",
       "398  19698.5000      On-Axis  104.410\n",
       "399  19999.5000      On-Axis  104.089\n",
       "\n",
       "[400 rows x 3 columns]"
      ]
     },
     "execution_count": 9,
     "metadata": {},
     "output_type": "execute_result"
    }
   ],
   "source": [
    "import math\n",
    "import locale\n",
    "from locale import atof\n",
    "locale.setlocale(locale.LC_ALL, 'en_US.UTF-8')\n",
    "import pandas as pd\n",
    "import numpy as np\n",
    "from src.spinorama.load import graph_melt\n",
    "\n",
    "title, df = parse_graph_freq('./datas/Neumann KH 80/CEA2034.txt')\n",
    "print(len(df.columns))\n",
    "print(df.columns)\n",
    "#print(df)\n",
    "#print(df.reset_index().melt(id_vars='Freq', var_name='Measurements', value_name='dB'))\n",
    "title2, df2 = parse_graph_freq('./datas/Neumann KH 80/SPL Vertical.txt')\n",
    "print(len(df2.columns))\n",
    "print(df2.columns)\n",
    "print(df2.columns[1])\n",
    "df2[['Freq', 'On-Axis']].reset_index().melt(id_vars='Freq', var_name='Measurements', value_name='dB')\n"
   ]
  },
  {
   "cell_type": "code",
   "execution_count": 10,
   "metadata": {},
   "outputs": [],
   "source": [
    "from src.spinorama.graph import *\n",
    "# print(df)\n",
    "speaker = 'Neumann KH 80'\n",
    "width=400 \n",
    "heigth=200\n",
    "spinorama = display_spinorama(df, speaker, width, heigth)\n",
    "onaxis    = display_onaxis(df, speaker, width, heigth)\n",
    "inroom    = display_inroom(df, speaker, width, heigth)\n",
    "ereflex   = display_reflection_early(df, speaker, width, heigth)\n",
    "hreflex   = display_reflection_horizontal(df, speaker, width, heigth)\n",
    "vreflex   = display_reflection_vertical(df, speaker, width, heigth)\n",
    "hspl      = display_spl_horizontal(df, speaker, width, heigth)\n",
    "vspl      = display_spl_vertical(df, speaker, width, heigth)\n",
    "hcontour  = display_contour_horizontal(df,speaker, width, heigth)\n",
    "vcontour  = display_contour_vertical(df,speaker, width, heigth)\n",
    "hradar    = display_radar_horizontal(df,speaker, width, heigth)\n",
    "vradar    = display_radar_vertical(df,speaker, width, heigth)\n"
   ]
  },
  {
   "cell_type": "code",
   "execution_count": 11,
   "metadata": {},
   "outputs": [],
   "source": [
    "spinorama"
   ]
  }
 ],
 "metadata": {
  "kernelspec": {
   "display_name": "Python 3",
   "language": "python",
   "name": "python3"
  },
  "language_info": {
   "codemirror_mode": {
    "name": "ipython",
    "version": 3
   },
   "file_extension": ".py",
   "mimetype": "text/x-python",
   "name": "python",
   "nbconvert_exporter": "python",
   "pygments_lexer": "ipython3",
   "version": "3.7.6"
  }
 },
 "nbformat": 4,
 "nbformat_minor": 4
}
