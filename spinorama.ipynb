{
 "cells": [
  {
   "cell_type": "code",
   "execution_count": 2,
   "metadata": {},
   "outputs": [
    {
     "name": "stdout",
     "output_type": "stream",
     "text": [
      "Loaded 16 speakers\n"
     ]
    }
   ],
   "source": [
    "import altair as alt\n",
    "from src.spinorama.load import parse_all_speakers, parse_graphs_speaker, parse_graph_freq\n",
    "from src.spinorama.contour import compute_contour, compute_contour_smoothed, compute_isoline, reshape\n",
    "from src.spinorama.graph import graph_freq, graph_contour\n",
    "import numpy as np\n",
    "\n",
    "df = parse_all_speakers()"
   ]
  },
  {
   "cell_type": "code",
   "execution_count": null,
   "metadata": {},
   "outputs": [],
   "source": [
    "#parse_graphs_speaker('Emotiva Airmotive 6s')"
   ]
  },
  {
   "cell_type": "code",
   "execution_count": null,
   "metadata": {},
   "outputs": [],
   "source": [
    "for k in df.keys():\n",
    "  print(k)"
   ]
  },
  {
   "cell_type": "code",
   "execution_count": null,
   "metadata": {},
   "outputs": [],
   "source": [
    "neumann = df['Neumann KH 80']\n",
    "for k in neumann.keys():\n",
    "    print(k)"
   ]
  },
  {
   "cell_type": "code",
   "execution_count": null,
   "metadata": {},
   "outputs": [],
   "source": [
    "spinorama_u = neumann['CEA2034_unmelted']\n",
    "for m in spinorama_u.keys():\n",
    "    print(m)\n",
    "spinorama = neumann['CEA2034']\n",
    "for m in spinorama.keys():\n",
    "    print(m)"
   ]
  },
  {
   "cell_type": "code",
   "execution_count": null,
   "metadata": {},
   "outputs": [],
   "source": [
    "onaxis = spinorama.loc[spinorama['Measurements']=='On Axis']\n",
    "print(onaxis)"
   ]
  },
  {
   "cell_type": "code",
   "execution_count": null,
   "metadata": {},
   "outputs": [],
   "source": [
    "from src.spinorama.analysis import estimates\n",
    "\n",
    "e0, e3, e6, delta = estimates(onaxis)\n",
    "\n",
    "print('Estimated -3dB point at %1.fHz'% e3)\n",
    "print('Estimated -6dB point at %1.fHz'% e6)\n",
    "print('Estimated +/-%1.1fdB from 80hz to 20kz'%delta)\n"
   ]
  },
  {
   "cell_type": "code",
   "execution_count": null,
   "metadata": {},
   "outputs": [],
   "source": [
    "import math\n",
    "import locale\n",
    "from locale import atof\n",
    "locale.setlocale(locale.LC_ALL, 'en_US.UTF-8')\n",
    "import pandas as pd\n",
    "import numpy as np\n",
    "from src.spinorama.load import graph_melt\n",
    "\n",
    "title, df1 = parse_graph_freq('./datas/Neumann KH 80/CEA2034.txt')\n",
    "print(len(df1.columns))\n",
    "print(df1.columns)\n",
    "#print(df1)\n",
    "#print(df1.reset_index().melt(id_vars='Freq', var_name='Measurements', value_name='dB'))\n",
    "title2, df2 = parse_graph_freq('./datas/Neumann KH 80/SPL Vertical.txt')\n",
    "print(len(df2.columns))\n",
    "print(df2.columns)\n",
    "print(df2.columns[1])\n",
    "df2[['Freq', 'On-Axis']].reset_index().melt(id_vars='Freq', var_name='Measurements', value_name='dB')\n"
   ]
  },
  {
   "cell_type": "code",
   "execution_count": null,
   "metadata": {},
   "outputs": [],
   "source": [
    "from src.spinorama.display import *\n",
    "# print(df)\n",
    "speaker = 'Adam S2V'\n",
    "width=400 \n",
    "heigth=150\n",
    "spinorama = display_spinorama(df, speaker, width, heigth)\n",
    "onaxis    = display_onaxis(df, speaker, width, heigth)\n",
    "inroom    = display_inroom(df, speaker, width, heigth)\n",
    "ereflex   = display_reflection_early(df, speaker, width, heigth)\n",
    "hreflex   = display_reflection_horizontal(df, speaker, width, heigth)\n",
    "vreflex   = display_reflection_vertical(df, speaker, width, heigth)\n",
    "hspl      = display_spl_horizontal(df, speaker, width, heigth)\n",
    "vspl      = display_spl_vertical(df, speaker, width, heigth)\n",
    "hcontour  = display_contour_horizontal(df,speaker, width, heigth)\n",
    "vcontour  = display_contour_vertical(df,speaker, width, heigth)\n",
    "hradar    = display_radar_horizontal(df,speaker, width, heigth)\n",
    "vradar    = display_radar_vertical(df,speaker, width, heigth)\n"
   ]
  },
  {
   "cell_type": "code",
   "execution_count": 1,
   "metadata": {},
   "outputs": [
    {
     "ename": "NameError",
     "evalue": "name 'alt' is not defined",
     "output_type": "error",
     "traceback": [
      "\u001b[0;31m---------------------------------------------------------------------------\u001b[0m",
      "\u001b[0;31mNameError\u001b[0m                                 Traceback (most recent call last)",
      "\u001b[0;32m<ipython-input-1-5823a8b774cf>\u001b[0m in \u001b[0;36m<module>\u001b[0;34m\u001b[0m\n\u001b[0;32m----> 1\u001b[0;31m alt.vconcat(\n\u001b[0m\u001b[1;32m      2\u001b[0m     \u001b[0malt\u001b[0m\u001b[0;34m.\u001b[0m\u001b[0mhconcat\u001b[0m\u001b[0;34m(\u001b[0m\u001b[0mspinorama\u001b[0m\u001b[0;34m,\u001b[0m\u001b[0monaxis\u001b[0m\u001b[0;34m,\u001b[0m \u001b[0minroom\u001b[0m\u001b[0;34m)\u001b[0m\u001b[0;34m,\u001b[0m\u001b[0;34m\u001b[0m\u001b[0;34m\u001b[0m\u001b[0m\n\u001b[1;32m      3\u001b[0m     \u001b[0malt\u001b[0m\u001b[0;34m.\u001b[0m\u001b[0mhconcat\u001b[0m\u001b[0;34m(\u001b[0m\u001b[0mereflex\u001b[0m\u001b[0;34m,\u001b[0m \u001b[0mhreflex\u001b[0m\u001b[0;34m,\u001b[0m \u001b[0mvreflex\u001b[0m\u001b[0;34m)\u001b[0m\u001b[0;34m,\u001b[0m\u001b[0;34m\u001b[0m\u001b[0;34m\u001b[0m\u001b[0m\n\u001b[1;32m      4\u001b[0m     \u001b[0malt\u001b[0m\u001b[0;34m.\u001b[0m\u001b[0mhconcat\u001b[0m\u001b[0;34m(\u001b[0m\u001b[0mhcontour\u001b[0m\u001b[0;34m,\u001b[0m\u001b[0mhradar\u001b[0m\u001b[0;34m,\u001b[0m\u001b[0mhspl\u001b[0m\u001b[0;34m)\u001b[0m\u001b[0;34m,\u001b[0m\u001b[0;34m\u001b[0m\u001b[0;34m\u001b[0m\u001b[0m\n\u001b[1;32m      5\u001b[0m     \u001b[0malt\u001b[0m\u001b[0;34m.\u001b[0m\u001b[0mhconcat\u001b[0m\u001b[0;34m(\u001b[0m\u001b[0mvcontour\u001b[0m\u001b[0;34m,\u001b[0m\u001b[0mvradar\u001b[0m\u001b[0;34m,\u001b[0m\u001b[0mvspl\u001b[0m\u001b[0;34m)\u001b[0m\u001b[0;34m\u001b[0m\u001b[0;34m\u001b[0m\u001b[0m\n",
      "\u001b[0;31mNameError\u001b[0m: name 'alt' is not defined"
     ]
    }
   ],
   "source": [
    "alt.vconcat(\n",
    "    alt.hconcat(spinorama,onaxis, inroom),\n",
    "    alt.hconcat(ereflex, hreflex, vreflex),\n",
    "    alt.hconcat(hcontour,hradar,hspl),\n",
    "    alt.hconcat(vcontour,vradar,vspl)\n",
    ")"
   ]
  },
  {
   "cell_type": "code",
   "execution_count": null,
   "metadata": {},
   "outputs": [],
   "source": [
    "# display_spinorama(df, speaker, width, heigth)\n",
    "nearest = alt.selection(\n",
    "    type='single',\n",
    "    nearest=True,\n",
    "    on='mouseover',\n",
    "    fields=['Freq'],\n",
    "    empty='none')\n",
    "\n",
    "dfu = df['Neumann KH 80']['CEA2034']\n",
    "\n",
    "def display_graph(dfu, width, height):\n",
    "    # add selectors                                                                                                                          \n",
    "    selectorsMeasurements = alt.selection_multi(\n",
    "        fields=['Measurements'], \n",
    "        bind='legend')\n",
    "    scales = alt.selection_interval(\n",
    "        bind='scales'\n",
    "    )\n",
    "    \n",
    "    # main charts\n",
    "    line=alt.Chart(dfu).mark_line(\n",
    "    ).encode(\n",
    "        alt.X('Freq:Q', scale=alt.Scale(type=\"log\", domain=[20,20000])),\n",
    "        alt.Y('dB:Q',   scale=alt.Scale(zero=False)),\n",
    "        alt.Color('Measurements', type='nominal', sort=None),\n",
    "        opacity=alt.condition(selectorsMeasurements, \n",
    "                              alt.value(1), alt.value(0.2))\n",
    "    ).properties(\n",
    "        width=width,\n",
    "        height=height\n",
    "    )\n",
    "    \n",
    "    circle=alt.Chart(dfu).mark_circle(\n",
    "        size=100\n",
    "    ).encode(\n",
    "        alt.X('Freq:Q', scale=alt.Scale(type=\"log\", domain=[20,20000])),\n",
    "        alt.Y('dB:Q',   scale=alt.Scale(zero=False)),\n",
    "        alt.Color('Measurements', type='nominal', sort=None),\n",
    "        opacity=alt.condition(nearest, alt.value(1), alt.value(0)),\n",
    "        tooltip=['Measurements', 'Freq', 'dB']\n",
    "    ).transform_calculate(Freq=f'format(datum.Freq, \".0f\")',\n",
    "                          dB=f'format(datum.dB, \".1f\")'\n",
    "    )    \n",
    "\n",
    "    \n",
    "    # assemble elements together\n",
    "    line = (circle+line).add_selection(selectorsMeasurements).add_selection(scales).add_selection(nearest)\n",
    "    return line\n",
    "\n",
    "display_graph(dfu, 700, 700)\n"
   ]
  },
  {
   "cell_type": "code",
   "execution_count": null,
   "metadata": {},
   "outputs": [],
   "source": [
    "# print(df.keys())\n",
    "speaker1 = 'Neumann KH 80'\n",
    "speaker2 = 'Kali IN-8'\n",
    "\n",
    "def augment(dfa, name):\n",
    "    namearray = [name for i in range(0,len(dfa))]\n",
    "    dfa['Speaker'] = name\n",
    "    return dfa\n",
    "\n",
    "dfu = pd.concat([augment(df[k]['CEA2034'],k) for k in df.keys()])\n",
    "\n",
    "input_dropdown1 = alt.binding_select(options=[s for s in df.keys()])\n",
    "selection1 = alt.selection_single(\n",
    "    fields=['Speaker'], \n",
    "    bind=input_dropdown1, \n",
    "    name='Select right ', \n",
    "    init={'Speaker': speaker1})\n",
    "input_dropdown2 = alt.binding_select(options=[s for s in df.keys()])\n",
    "selection2 = alt.selection_single(\n",
    "    fields=['Speaker'], \n",
    "    bind=input_dropdown2, \n",
    "    name='Select left ', \n",
    "    init={'Speaker': speaker2})\n",
    "\n",
    "line = alt.Chart(dfu).mark_line().encode(\n",
    "    alt.X('Freq:Q', scale=alt.Scale(type=\"log\", domain=[20,20000])),\n",
    "    alt.Y('dB:Q',   scale=alt.Scale(zero=False)),\n",
    "    alt.Color('Measurements', type='nominal', sort=None)\n",
    ").properties(\n",
    "    width=400,\n",
    "    height=200\n",
    ")\n",
    "\n",
    "line1 = line.add_selection(selection1).transform_filter(selection1)\n",
    "line2 = line.add_selection(selection2).transform_filter(selection2)\n",
    "\n",
    "#selectors = alt.Chart(df).mark_point().encode(x='Freq:Q', opacity=alt.value(0)).add_selection(nearest)\n",
    "#points = line.mark_point().encode(opacity=alt.condition(nearest, alt.value(1), alt.value(0)))\n",
    "#text = line.mark_text(align='left', dx=5, dy=-5).encode(text=alt.condition(nearest, 'dB:Q', alt.value(' ')))\n",
    "#rules = alt.Chart(df).mark_rule(color='gray').encode(x='Freq:Q').transform_filter(nearest)\n",
    "line2|line1 #+selectors+points+rules+text"
   ]
  },
  {
   "cell_type": "code",
   "execution_count": null,
   "metadata": {},
   "outputs": [],
   "source": [
    "from scipy import ndimage, signal\n",
    "import pandas as pd\n",
    "from astropy.convolution import Gaussian2DKernel\n",
    "\n",
    "\n",
    "dfu = df['Adam S2V']['SPL Horizontal_unmelted']\n",
    "x,y,z = compute_contour(dfu)\n",
    "\n",
    "def reshape2(x, y, z, nscale):\n",
    "    nx, ny = x.shape\n",
    "    # increase the size of the grid by nscale*nscale  \n",
    "    x_min = np.min(x)\n",
    "    x_max = np.max(x)\n",
    "    y_min = np.min(y)\n",
    "    y_max = np.max(y)\n",
    "    # print('x min=',x_min, 'max=',x_max, 'y min=', y_min, 'max=',y_max, 'nscale=', nscale)\n",
    "    lx = np.linspace(np.min(y), np.max(y), nx*nscale)\n",
    "    lyi = [np.linspace(x[0][i],x[0][i+1],nscale, endpoint=False) for i in range(0, len(x[0])-1)]\n",
    "    ly = [i for j in lyi for i in j] + [x[0][len(x[0])-1] for i in range(0,nscale)]\n",
    "    rx, ry = np.meshgrid(ly, lx)\n",
    "    # copy paste the values of z into rz                                                                                                                                             \n",
    "    rz = np.repeat(np.repeat(z, nscale, axis=1), nscale, axis=0)\n",
    "    return rx, ry, rz\n",
    "\n",
    "nscale=2\n",
    "rx, ry, rz = reshape2(x, y, z, nscale)\n",
    "\n",
    "print('u: ', x.shape, y.shape, z.shape)\n",
    "print('r: ', rx.shape, ry.shape, rz.shape)\n",
    "\n",
    "kernel = Gaussian2DKernel(x_stddev=1, y_stddev=1) #, mode='oversample', factor=10)\n",
    "#kernel = gkern(9,1)\n",
    "zs = ndimage.convolve(z, kernel.array, mode='mirror')\n",
    "rzs = ndimage.convolve(rz, kernel.array, mode='mirror')\n",
    "unsmoothed = pd.DataFrame({'x': x.ravel(), 'y': y.ravel(), 'z': z.ravel()})\n",
    "smoothed = pd.DataFrame({'x': x.ravel(), 'y': y.ravel(), 'z': zs.ravel()})\n",
    "smoothed_large = pd.DataFrame({'x': rx.ravel(), 'y': ry.ravel(), 'z': rzs.ravel()})\n",
    "# value are between -60 and 0\n",
    "speaker_scale = [-12, -9, -8, -7, -6, -5, -4, -3, -2.5, -2, -1.5, -1, -0.5, 0]\n",
    "width=800\n",
    "height=360\n",
    "mheight=12\n",
    "msize=8\n",
    "alt_x = alt.X('x:O', scale=alt.Scale(type=\"log\"), title='Frequency 200-20k Hz')\n",
    "alt_y = alt.Y('y:O', title='Angle')\n",
    "alt_color = alt.Color('z:Q', scale=alt.Scale(domain=speaker_scale))\n",
    "chart_unsmoothed = alt.Chart(unsmoothed).transform_filter('datum.x>200').mark_rect(size=msize, height=mheight).encode(alt_x, alt_y, alt_color).properties(width=width, height=height)\n",
    "chart_smoothed = alt.Chart(smoothed).transform_filter('datum.x>200').mark_rect(size=msize, height=mheight).encode(alt_x, alt_y, alt_color).properties(width=width, height=height)\n",
    "chart_smoothed_large = alt.Chart(smoothed_large).transform_filter('datum.x>200').mark_rect(size=msize*nscale, height=mheight*nscale).encode(alt_x, alt_y, alt_color).properties(width=width, height=height)\n",
    "print('  z min=',np.min(z), ', max=', np.max(z))\n",
    "print(' rz min=',np.min(rz), ', max=', np.max(rz))\n",
    "print('rzs min=',np.min(rzs), ', max=', np.max(rzs))\n",
    "alt.vconcat(chart_unsmoothed, chart_smoothed, chart_smoothed_large)\n"
   ]
  },
  {
   "cell_type": "code",
   "execution_count": null,
   "metadata": {},
   "outputs": [],
   "source": []
  }
 ],
 "metadata": {
  "kernelspec": {
   "display_name": "Python 3",
   "language": "python",
   "name": "python3"
  },
  "language_info": {
   "codemirror_mode": {
    "name": "ipython",
    "version": 3
   },
   "file_extension": ".py",
   "mimetype": "text/x-python",
   "name": "python",
   "nbconvert_exporter": "python",
   "pygments_lexer": "ipython3",
   "version": "3.7.6"
  }
 },
 "nbformat": 4,
 "nbformat_minor": 4
}
