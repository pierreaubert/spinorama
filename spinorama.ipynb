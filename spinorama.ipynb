{
 "cells": [
  {
   "cell_type": "markdown",
   "metadata": {},
   "source": [
    "Spinorama plot with Altair"
   ]
  },
  {
   "cell_type": "code",
   "execution_count": null,
   "metadata": {},
   "outputs": [],
   "source": [
    "import math\n",
    "import pandas as pd\n",
    "import altair as alt\n",
    "import numpy as np\n",
    "from src.spinorama.analysis import sound_power\n",
    "from src.spinorama.load import parse_all_speakers, parse_graphs_speaker, graph_melt\n",
    "from src.spinorama.graph import graph_params_default\n",
    "\n",
    "# df = parse_graphs_speaker('Adam', 'Adam S2V', 'klippel')\n",
    "df = parse_graphs_speaker('Neumann', 'Neumann KH 80', 'klippel')\n",
    "# df = parse_graphs_speaker('Genelec', 'Genelec 8030A', 'princeton')\n",
    "# print(df)"
   ]
  },
  {
   "cell_type": "code",
   "execution_count": null,
   "metadata": {},
   "outputs": [],
   "source": [
    "nearest = alt.selection(\n",
    "    type='single',\n",
    "    nearest=True,\n",
    "    on='mouseover',\n",
    "    fields=['Freq'],\n",
    "    empty='none')"
   ]
  },
  {
   "cell_type": "code",
   "execution_count": null,
   "metadata": {},
   "outputs": [],
   "source": [
    "def graph_spinorama(dfu, graph_params):\n",
    "    xmin = graph_params['xmin']\n",
    "    xmax = graph_params['xmax']\n",
    "    ymin = graph_params['ymin']\n",
    "    ymax = graph_params['ymax']\n",
    "    if xmax == xmin:\n",
    "        logging.error('Graph configuration is incorrect: xmin==xmax')\n",
    "    if ymax == ymin:\n",
    "        logging.error('Graph configuration is incorrect: ymin==ymax')\n",
    "    # add selectors                                                                                                                          \n",
    "    selectorsMeasurements = alt.selection_multi(\n",
    "        fields=['Measurements'], \n",
    "        bind='legend')\n",
    "    scales = alt.selection_interval(\n",
    "        bind='scales'\n",
    "    )\n",
    "    # main charts\n",
    "    line=alt.Chart(dfu, title=f'CEA2034').mark_line(clip=True).transform_filter(\n",
    "        alt.FieldOneOfPredicate(\n",
    "            field='Measurements', \n",
    "            oneOf=['On Axis', 'Listening Window', 'Early Reflections', 'Sound Power'])\n",
    "    ).encode(\n",
    "        alt.X('Freq:Q', title='Freqency (Hz)',\n",
    "              scale=alt.Scale(type='log', base=10, nice=False, domain=[xmin, xmax]), \n",
    "              axis=alt.Axis(format='s')),\n",
    "        alt.Y('dB:Q', scale=alt.Scale(zero=False, domain=[ymin, ymax]), axis=alt.Axis(title='Sound Pressure (dB)')),\n",
    "        alt.Color('Measurements', type='nominal', sort=None),\n",
    "        opacity=alt.condition(selectorsMeasurements, alt.value(1), alt.value(0.2))\n",
    "    ).properties(\n",
    "        width=graph_params['width'],\n",
    "        height=graph_params['height']\n",
    "    )\n",
    "    \n",
    "    di=alt.Chart(dfu).mark_line(clip=True).transform_filter(\n",
    "        alt.FieldOneOfPredicate(field='Measurements', oneOf=['Early Reflections DI', 'Sound Power DI'])\n",
    "    ).encode(\n",
    "        alt.X('Freq:Q', scale=alt.Scale(type=\"log\", domain=[xmin, xmax])),\n",
    "        alt.Y('dB:Q',   scale=alt.Scale(zero=False, domain=[60, 100])),\n",
    "        alt.Color('Measurements', type='nominal', sort=None),\n",
    "        opacity=alt.condition(selectorsMeasurements, alt.value(1), alt.value(0.2))\n",
    "    )\n",
    "    circle=alt.Chart(dfu).mark_circle(size=100).encode(\n",
    "        alt.X('Freq:Q', scale=alt.Scale(type=\"log\", domain=[xmin, xmax])),\n",
    "        alt.Y('dB:Q',   scale=alt.Scale(zero=False)),\n",
    "        alt.Color('Measurements', type='nominal', sort=None),\n",
    "        opacity=alt.condition(nearest, alt.value(1), alt.value(0)),\n",
    "        tooltip=['Measurements', 'Freq', 'dB']\n",
    "    ).transform_calculate(Freq=f'format(datum.Freq, \".0f\")', dB=f'format(datum.dB, \".1f\")')\n",
    "    \n",
    "    # assemble elements together\n",
    "    spin = (circle + (line + di) #.resolve_scale(y='independent')).resolve_scale(y='independent'\n",
    "    ).add_selection(\n",
    "        selectorsMeasurements\n",
    "    ).add_selection(\n",
    "        scales\n",
    "    ).add_selection(\n",
    "        nearest\n",
    "    ).configure_legend(\n",
    "        orient='top'\n",
    "    ).configure_title(\n",
    "        orient='top',\n",
    "        anchor='middle',\n",
    "        fontSize=18\n",
    "    )\n",
    "    return spin\n",
    "\n",
    "\n",
    "\n",
    "\n",
    "dfu = df['CEA2034']\n",
    "params = graph_params_default\n",
    "params['width'] = 800\n",
    "params['height'] = 500\n",
    "graph_spinorama(dfu, params)"
   ]
  },
  {
   "cell_type": "markdown",
   "metadata": {},
   "source": [
    "Compare computed sound power wrt the version done by Klippel\n",
    "Matching is good for low frequency but error increases with frequency"
   ]
  },
  {
   "cell_type": "code",
   "execution_count": null,
   "metadata": {},
   "outputs": [],
   "source": [
    "#df = pd.DataFrame({'Freq': [200, 2000, 10000, 12000, 16000, 20000], '10°': [2,2,2,2,2,2], '-10°': [2,2,2,2,2,2]})\n",
    "sp = sound_power(df['SPL Horizontal_unmelted'], df['SPL Vertical_unmelted'])"
   ]
  },
  {
   "cell_type": "code",
   "execution_count": null,
   "metadata": {},
   "outputs": [],
   "source": [
    "dfu = df['CEA2034_unmelted']\n",
    "check = pd.DataFrame({\n",
    "    'Freq': dfu.Freq, \n",
    "    'Control': dfu['Sound Power'], \n",
    "    'Computed': sp.dB})\n",
    "check\n",
    "mcheck = graph_melt(check)\n",
    "alt.Chart(mcheck).mark_line(clip=True).encode(\n",
    "    x=alt.X('Freq', scale=alt.Scale(type='log', nice=False)),\n",
    "    y=alt.Y('dB', scale=alt.Scale(domain=[90, 106])),\n",
    "    color=alt.Color('Measurements'))"
   ]
  }
 ],
 "metadata": {
  "kernelspec": {
   "display_name": "Python 3",
   "language": "python",
   "name": "python3"
  },
  "language_info": {
   "codemirror_mode": {
    "name": "ipython",
    "version": 3
   },
   "file_extension": ".py",
   "mimetype": "text/x-python",
   "name": "python",
   "nbconvert_exporter": "python",
   "pygments_lexer": "ipython3",
   "version": "3.7.6"
  }
 },
 "nbformat": 4,
 "nbformat_minor": 4
}
