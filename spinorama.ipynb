{
 "cells": [
  {
   "cell_type": "code",
   "execution_count": 1,
   "metadata": {},
   "outputs": [
    {
     "name": "stdout",
     "output_type": "stream",
     "text": [
      "Loading speaker: \n",
      "  Emotiva Airmotive 6s, \n",
      "  Harbeth Monitor, \n",
      "  JBL 104, \n",
      "  KEF LS50, \n",
      "  Kali IN-8, \n",
      "  Micca RB42, \n",
      "  Neumann KH 80, \n",
      "  Pioneer SP-BS22-LR, \n",
      "  Realistic MC-1000, \n",
      "  Revel C52, \n",
      "  Selah Audio RC3R, \n",
      "  Yamaha HS5, \n"
     ]
    }
   ],
   "source": [
    "import altair as alt\n",
    "from src.spinorama.load import parse_all_speakers\n",
    "from src.spinorama.contour import compute_contour, compute_isoline\n",
    "from src.spinorama.graph import display_freq, display_contour, display_template1, display_vertical\n",
    "\n",
    "df = parse_all_speakers()"
   ]
  },
  {
   "cell_type": "code",
   "execution_count": 2,
   "metadata": {},
   "outputs": [
    {
     "name": "stdout",
     "output_type": "stream",
     "text": [
      "Emotiva Airmotive 6s\n",
      "Harbeth Monitor\n",
      "JBL 104\n",
      "KEF LS50\n",
      "Kali IN-8\n",
      "Micca RB42\n",
      "Neumann KH 80\n",
      "Pioneer SP-BS22-LR\n",
      "Realistic MC-1000\n",
      "Revel C52\n",
      "Selah Audio RC3R\n",
      "Yamaha HS5\n"
     ]
    }
   ],
   "source": [
    "for k in df.keys():\n",
    "  print(k)"
   ]
  },
  {
   "cell_type": "code",
   "execution_count": 3,
   "metadata": {},
   "outputs": [
    {
     "name": "stdout",
     "output_type": "stream",
     "text": [
      "CEA2034\n",
      "CEA2034_unmelted\n",
      "Early Reflections\n",
      "Early Reflections_unmelted\n",
      "Estimated In-Room Response\n",
      "Estimated In-Room Response_unmelted\n",
      "Horizontal Reflections\n",
      "Horizontal Reflections_unmelted\n",
      "Vertical Reflections\n",
      "Vertical Reflections_unmelted\n",
      "SPL Horizontal\n",
      "SPL Horizontal_unmelted\n",
      "SPL Vertical\n",
      "SPL Vertical_unmelted\n"
     ]
    }
   ],
   "source": [
    "neumann = df['Neumann KH 80']\n",
    "for k in neumann.keys():\n",
    "    print(k)"
   ]
  },
  {
   "cell_type": "code",
   "execution_count": 4,
   "metadata": {},
   "outputs": [
    {
     "name": "stdout",
     "output_type": "stream",
     "text": [
      "Freq\n",
      "On Axis\n",
      "Listening Window\n",
      "Early Reflections\n",
      "Sound Power\n",
      "Sound Power DI\n",
      "Early Reflections DI\n",
      "DI offset\n",
      "Freq\n",
      "Measurements\n",
      "dB\n"
     ]
    }
   ],
   "source": [
    "spinorama_u = neumann['CEA2034_unmelted']\n",
    "for m in spinorama_u.keys():\n",
    "    print(m)\n",
    "spinorama = neumann['CEA2034']\n",
    "for m in spinorama.keys():\n",
    "    print(m)"
   ]
  },
  {
   "cell_type": "code",
   "execution_count": 5,
   "metadata": {},
   "outputs": [
    {
     "name": "stdout",
     "output_type": "stream",
     "text": [
      "           Freq Measurements        dB\n",
      "200     20.5078      On Axis   55.7961\n",
      "201     21.2402      On Axis   51.9241\n",
      "202     21.9727      On Axis   53.8309\n",
      "203     22.7051      On Axis   55.0830\n",
      "204     23.4375      On Axis   41.6382\n",
      "..          ...          ...       ...\n",
      "395  17753.2000      On Axis  107.9410\n",
      "396  18379.4000      On Axis  106.9740\n",
      "397  19027.6000      On Axis  104.8340\n",
      "398  19698.5000      On Axis  104.4100\n",
      "399  19999.5000      On Axis  104.0890\n",
      "\n",
      "[200 rows x 3 columns]\n"
     ]
    }
   ],
   "source": [
    "onaxis = spinorama.loc[spinorama['Measurements']=='On Axis']\n",
    "print(onaxis)"
   ]
  },
  {
   "cell_type": "code",
   "execution_count": 7,
   "metadata": {},
   "outputs": [
    {
     "name": "stdout",
     "output_type": "stream",
     "text": [
      "Estimated -3dB point at 58Hz\n",
      "Estimated -6dB point at 55Hz\n",
      "Estimated +/-3.1dB from 80hz to 20kz\n"
     ]
    }
   ],
   "source": [
    "from src.spinorama.analysis import estimates\n",
    "\n",
    "e0, e3, e6, delta = estimates(onaxis)\n",
    "\n",
    "print('Estimated -3dB point at %1.fHz'% e3)\n",
    "print('Estimated -6dB point at %1.fHz'% e6)\n",
    "print('Estimated +/-%1.1fdB from 80hz to 20kz'%delta)\n"
   ]
  },
  {
   "cell_type": "code",
   "execution_count": 56,
   "metadata": {},
   "outputs": [
    {
     "data": {
      "text/html": [
       "\n",
       "<div id=\"altair-viz-c3c2b3b4608e43d2be48e479a776f2e4\"></div>\n",
       "<script type=\"text/javascript\">\n",
       "  (function(spec, embedOpt){\n",
       "    const outputDiv = document.getElementById(\"altair-viz-c3c2b3b4608e43d2be48e479a776f2e4\");\n",
       "    const paths = {\n",
       "      \"vega\": \"https://cdn.jsdelivr.net/npm//vega@5?noext\",\n",
       "      \"vega-lib\": \"https://cdn.jsdelivr.net/npm//vega-lib?noext\",\n",
       "      \"vega-lite\": \"https://cdn.jsdelivr.net/npm//vega-lite@4.0.2?noext\",\n",
       "      \"vega-embed\": \"https://cdn.jsdelivr.net/npm//vega-embed@6?noext\",\n",
       "    };\n",
       "\n",
       "    function loadScript(lib) {\n",
       "      return new Promise(function(resolve, reject) {\n",
       "        var s = document.createElement('script');\n",
       "        s.src = paths[lib];\n",
       "        s.async = true;\n",
       "        s.onload = () => resolve(paths[lib]);\n",
       "        s.onerror = () => reject(`Error loading script: ${paths[lib]}`);\n",
       "        document.getElementsByTagName(\"head\")[0].appendChild(s);\n",
       "      });\n",
       "    }\n",
       "\n",
       "    function showError(err) {\n",
       "      outputDiv.innerHTML = `<div class=\"error\" style=\"color:red;\">${err}</div>`;\n",
       "      throw err;\n",
       "    }\n",
       "\n",
       "    function displayChart(vegaEmbed) {\n",
       "      vegaEmbed(outputDiv, spec, embedOpt)\n",
       "        .catch(err => showError(`Javascript Error: ${err.message}<br>This usually means there's a typo in your chart specification. See the javascript console for the full traceback.`));\n",
       "    }\n",
       "\n",
       "    if(typeof define === \"function\" && define.amd) {\n",
       "      requirejs.config({paths});\n",
       "      require([\"vega-embed\"], displayChart, err => showError(`Error loading script: ${err.message}`));\n",
       "    } else if (typeof vegaEmbed === \"function\") {\n",
       "      displayChart(vegaEmbed);\n",
       "    } else {\n",
       "      loadScript(\"vega\")\n",
       "        .then(() => loadScript(\"vega-lite\"))\n",
       "        .then(() => loadScript(\"vega-embed\"))\n",
       "        .catch(showError)\n",
       "        .then(() => displayChart(vegaEmbed));\n",
       "    }\n",
       "  })({\"config\": {\"view\": {\"continuousWidth\": 400, \"continuousHeight\": 300}}, \"data\": {\"name\": \"data-edc51cdc026169f88d8533fd445a60ba\"}, \"mark\": \"circle\", \"encoding\": {\"latitude\": {\"field\": \"x\", \"type\": \"quantitative\"}, \"longitude\": {\"field\": \"y\", \"type\": \"quantitative\"}}, \"projection\": {\"rotate\": [0, 90, 0], \"type\": \"azimuthalEquidistant\"}, \"$schema\": \"https://vega.github.io/schema/vega-lite/v4.0.2.json\", \"datasets\": {\"data-edc51cdc026169f88d8533fd445a60ba\": [{\"x\": 0.0, \"y\": 0.0}, {\"x\": -400.0, \"y\": -4.898587196589413e-14}, {\"x\": 0.0, \"y\": 0.0}, {\"x\": -393.92310120488327, \"y\": -69.4592710667721}, {\"x\": 0.0, \"y\": 0.0}, {\"x\": -375.8770483143633, \"y\": -136.80805733026756}, {\"x\": 0.0, \"y\": 0.0}, {\"x\": -346.4101615137755, \"y\": -199.99999999999997}, {\"x\": 0.0, \"y\": 0.0}, {\"x\": -306.4177772475912, \"y\": -257.11504387461576}, {\"x\": 0.0, \"y\": 0.0}, {\"x\": -257.1150438746157, \"y\": -306.41777724759123}, {\"x\": 0.0, \"y\": 0.0}, {\"x\": -199.99999999999991, \"y\": -346.4101615137755}, {\"x\": 0.0, \"y\": 0.0}, {\"x\": -136.80805733026747, \"y\": -375.8770483143634}, {\"x\": 0.0, \"y\": 0.0}, {\"x\": -69.45927106677212, \"y\": -393.9231012048832}, {\"x\": 0.0, \"y\": 0.0}, {\"x\": 2.4492935982947064e-14, \"y\": -400.0}, {\"x\": 0.0, \"y\": 0.0}, {\"x\": 69.45927106677216, \"y\": -393.9231012048832}, {\"x\": 0.0, \"y\": 0.0}, {\"x\": 136.80805733026753, \"y\": -375.8770483143633}, {\"x\": 0.0, \"y\": 0.0}, {\"x\": 200.00000000000006, \"y\": -346.41016151377545}, {\"x\": 0.0, \"y\": 0.0}, {\"x\": 257.11504387461576, \"y\": -306.41777724759123}, {\"x\": 0.0, \"y\": 0.0}, {\"x\": 306.41777724759123, \"y\": -257.1150438746157}, {\"x\": 0.0, \"y\": 0.0}, {\"x\": 346.4101615137755, \"y\": -199.99999999999997}, {\"x\": 0.0, \"y\": 0.0}, {\"x\": 375.8770483143634, \"y\": -136.80805733026747}, {\"x\": 0.0, \"y\": 0.0}, {\"x\": 393.9231012048832, \"y\": -69.45927106677213}, {\"x\": 0.0, \"y\": 0.0}, {\"x\": 400.0, \"y\": 0.0}, {\"x\": 0.0, \"y\": 0.0}, {\"x\": 393.9231012048832, \"y\": 69.45927106677213}, {\"x\": 0.0, \"y\": 0.0}, {\"x\": 375.8770483143634, \"y\": 136.80805733026747}, {\"x\": 0.0, \"y\": 0.0}, {\"x\": 346.4101615137755, \"y\": 199.99999999999997}, {\"x\": 0.0, \"y\": 0.0}, {\"x\": 306.41777724759123, \"y\": 257.1150438746157}, {\"x\": 0.0, \"y\": 0.0}, {\"x\": 257.11504387461576, \"y\": 306.41777724759123}, {\"x\": 0.0, \"y\": 0.0}, {\"x\": 200.00000000000006, \"y\": 346.41016151377545}, {\"x\": 0.0, \"y\": 0.0}, {\"x\": 136.80805733026753, \"y\": 375.8770483143633}, {\"x\": 0.0, \"y\": 0.0}, {\"x\": 69.45927106677216, \"y\": 393.9231012048832}, {\"x\": 0.0, \"y\": 0.0}, {\"x\": 2.4492935982947064e-14, \"y\": 400.0}, {\"x\": 0.0, \"y\": 0.0}, {\"x\": -69.45927106677212, \"y\": 393.9231012048832}, {\"x\": 0.0, \"y\": 0.0}, {\"x\": -136.80805733026747, \"y\": 375.8770483143634}, {\"x\": 0.0, \"y\": 0.0}, {\"x\": -199.99999999999991, \"y\": 346.4101615137755}, {\"x\": 0.0, \"y\": 0.0}, {\"x\": -257.1150438746157, \"y\": 306.41777724759123}, {\"x\": 0.0, \"y\": 0.0}, {\"x\": -306.4177772475912, \"y\": 257.11504387461576}, {\"x\": 0.0, \"y\": 0.0}, {\"x\": -346.4101615137755, \"y\": 199.99999999999997}, {\"x\": 0.0, \"y\": 0.0}, {\"x\": -375.8770483143633, \"y\": 136.80805733026756}, {\"x\": 0.0, \"y\": 0.0}, {\"x\": -393.92310120488327, \"y\": 69.4592710667721}]}}, {\"mode\": \"vega-lite\"});\n",
       "</script>"
      ],
      "text/plain": [
       "alt.Chart(...)"
      ]
     },
     "execution_count": 56,
     "metadata": {},
     "output_type": "execute_result"
    }
   ],
   "source": [
    "import math\n",
    "import pandas as pd\n",
    "\n",
    "spl = neumann['SPL Horizontal']\n",
    "# print(spl)\n",
    "radius=400\n",
    "grid = [(radius*math.cos(p*math.pi/180), radius*math.sin(p*math.pi/180)) for p in range(-180,180,10)]\n",
    "gridX = [(0,g[0]) for g in grid] \n",
    "gridX = [s for s2 in gridX for s in s2]\n",
    "gridY = [(0,g[1]) for g in grid] \n",
    "gridY = [s for s2 in gridY for s in s2]\n",
    "df = pd.DataFrame({'x': gridX, 'y': gridY })\n",
    "#for g in zip(gridX, gridY):\n",
    "#    print('line from %d, %d' % g)\n",
    "alt.Chart(df).mark_(\n",
    ").encode(\n",
    "   alt.Latitude('x:Q'), \n",
    "   alt.Longitude('y:Q')\n",
    ").project(\n",
    "   type='azimuthalEquidistant',\n",
    "   rotate=[0,90,0]   \n",
    ")"
   ]
  }
 ],
 "metadata": {
  "kernelspec": {
   "display_name": "Python 3",
   "language": "python",
   "name": "python3"
  },
  "language_info": {
   "codemirror_mode": {
    "name": "ipython",
    "version": 3
   },
   "file_extension": ".py",
   "mimetype": "text/x-python",
   "name": "python",
   "nbconvert_exporter": "python",
   "pygments_lexer": "ipython3",
   "version": "3.7.6"
  }
 },
 "nbformat": 4,
 "nbformat_minor": 4
}
