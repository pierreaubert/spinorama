{
 "cells": [
  {
   "cell_type": "code",
   "execution_count": 1,
   "metadata": {},
   "outputs": [
    {
     "name": "stdout",
     "output_type": "stream",
     "text": [
      "Loaded 12 speakers\n"
     ]
    }
   ],
   "source": [
    "import altair as alt\n",
    "from src.spinorama.load import parse_all_speakers, parse_graphs_speaker, parse_graph_freq\n",
    "from src.spinorama.contour import compute_contour, compute_isoline\n",
    "from src.spinorama.graph import display_freq, display_contour, display_template1, display_vertical\n",
    "import numpy as np\n",
    "\n",
    "df = parse_all_speakers()"
   ]
  },
  {
   "cell_type": "code",
   "execution_count": 2,
   "metadata": {},
   "outputs": [],
   "source": [
    "#parse_graphs_speaker('Emotiva Airmotive 6s')"
   ]
  },
  {
   "cell_type": "code",
   "execution_count": 3,
   "metadata": {},
   "outputs": [
    {
     "name": "stdout",
     "output_type": "stream",
     "text": [
      "Emotiva Airmotive 6s\n",
      "Harbeth Monitor\n",
      "JBL 104\n",
      "KEF LS50\n",
      "Kali IN-8\n",
      "Micca RB42\n",
      "Neumann KH 80\n",
      "Pioneer SP-BS22-LR\n",
      "Realistic MC-1000\n",
      "Revel C52\n",
      "Selah Audio RC3R\n",
      "Yamaha HS5\n"
     ]
    }
   ],
   "source": [
    "for k in df.keys():\n",
    "  print(k)"
   ]
  },
  {
   "cell_type": "code",
   "execution_count": 4,
   "metadata": {},
   "outputs": [
    {
     "name": "stdout",
     "output_type": "stream",
     "text": [
      "CEA2034_unmelted\n",
      "CEA2034\n",
      "Early Reflections_unmelted\n",
      "Early Reflections\n",
      "Estimated In-Room Response_unmelted\n",
      "Estimated In-Room Response\n",
      "Horizontal Reflections_unmelted\n",
      "Horizontal Reflections\n",
      "Vertical Reflections_unmelted\n",
      "Vertical Reflections\n",
      "SPL Horizontal_unmelted\n",
      "SPL Horizontal\n",
      "SPL Vertical_unmelted\n",
      "SPL Vertical\n"
     ]
    }
   ],
   "source": [
    "neumann = df['Neumann KH 80']\n",
    "for k in neumann.keys():\n",
    "    print(k)"
   ]
  },
  {
   "cell_type": "code",
   "execution_count": 5,
   "metadata": {},
   "outputs": [
    {
     "name": "stdout",
     "output_type": "stream",
     "text": [
      "Freq\n",
      "On Axis\n",
      "Listening Window\n",
      "Early Reflections\n",
      "Sound Power\n",
      "Sound Power DI\n",
      "Early Reflections DI\n",
      "DI offset\n",
      "Freq\n",
      "Measurements\n",
      "dB\n"
     ]
    }
   ],
   "source": [
    "spinorama_u = neumann['CEA2034_unmelted']\n",
    "for m in spinorama_u.keys():\n",
    "    print(m)\n",
    "spinorama = neumann['CEA2034']\n",
    "for m in spinorama.keys():\n",
    "    print(m)"
   ]
  },
  {
   "cell_type": "code",
   "execution_count": 6,
   "metadata": {},
   "outputs": [
    {
     "name": "stdout",
     "output_type": "stream",
     "text": [
      "           Freq Measurements        dB\n",
      "200     20.5078      On Axis   55.7961\n",
      "201     21.2402      On Axis   51.9241\n",
      "202     21.9727      On Axis   53.8309\n",
      "203     22.7051      On Axis   55.0830\n",
      "204     23.4375      On Axis   41.6382\n",
      "..          ...          ...       ...\n",
      "395  17753.2000      On Axis  107.9410\n",
      "396  18379.4000      On Axis  106.9740\n",
      "397  19027.6000      On Axis  104.8340\n",
      "398  19698.5000      On Axis  104.4100\n",
      "399  19999.5000      On Axis  104.0890\n",
      "\n",
      "[200 rows x 3 columns]\n"
     ]
    }
   ],
   "source": [
    "onaxis = spinorama.loc[spinorama['Measurements']=='On Axis']\n",
    "print(onaxis)"
   ]
  },
  {
   "cell_type": "code",
   "execution_count": 7,
   "metadata": {},
   "outputs": [
    {
     "name": "stdout",
     "output_type": "stream",
     "text": [
      "Estimated -3dB point at 57Hz\n",
      "Estimated -6dB point at 54Hz\n",
      "Estimated +/-3.0dB from 80hz to 20kz\n"
     ]
    }
   ],
   "source": [
    "from src.spinorama.analysis import estimates\n",
    "\n",
    "e0, e3, e6, delta = estimates(onaxis)\n",
    "\n",
    "print('Estimated -3dB point at %1.fHz'% e3)\n",
    "print('Estimated -6dB point at %1.fHz'% e6)\n",
    "print('Estimated +/-%1.1fdB from 80hz to 20kz'%delta)\n"
   ]
  },
  {
   "cell_type": "code",
   "execution_count": 8,
   "metadata": {},
   "outputs": [
    {
     "data": {
      "text/html": [
       "\n",
       "<div id=\"altair-viz-3a08fe99598f449bb9abf00a86b799ce\"></div>\n",
       "<script type=\"text/javascript\">\n",
       "  (function(spec, embedOpt){\n",
       "    const outputDiv = document.getElementById(\"altair-viz-3a08fe99598f449bb9abf00a86b799ce\");\n",
       "    const paths = {\n",
       "      \"vega\": \"https://cdn.jsdelivr.net/npm//vega@5?noext\",\n",
       "      \"vega-lib\": \"https://cdn.jsdelivr.net/npm//vega-lib?noext\",\n",
       "      \"vega-lite\": \"https://cdn.jsdelivr.net/npm//vega-lite@4.0.2?noext\",\n",
       "      \"vega-embed\": \"https://cdn.jsdelivr.net/npm//vega-embed@6?noext\",\n",
       "    };\n",
       "\n",
       "    function loadScript(lib) {\n",
       "      return new Promise(function(resolve, reject) {\n",
       "        var s = document.createElement('script');\n",
       "        s.src = paths[lib];\n",
       "        s.async = true;\n",
       "        s.onload = () => resolve(paths[lib]);\n",
       "        s.onerror = () => reject(`Error loading script: ${paths[lib]}`);\n",
       "        document.getElementsByTagName(\"head\")[0].appendChild(s);\n",
       "      });\n",
       "    }\n",
       "\n",
       "    function showError(err) {\n",
       "      outputDiv.innerHTML = `<div class=\"error\" style=\"color:red;\">${err}</div>`;\n",
       "      throw err;\n",
       "    }\n",
       "\n",
       "    function displayChart(vegaEmbed) {\n",
       "      vegaEmbed(outputDiv, spec, embedOpt)\n",
       "        .catch(err => showError(`Javascript Error: ${err.message}<br>This usually means there's a typo in your chart specification. See the javascript console for the full traceback.`));\n",
       "    }\n",
       "\n",
       "    if(typeof define === \"function\" && define.amd) {\n",
       "      requirejs.config({paths});\n",
       "      require([\"vega-embed\"], displayChart, err => showError(`Error loading script: ${err.message}`));\n",
       "    } else if (typeof vegaEmbed === \"function\") {\n",
       "      displayChart(vegaEmbed);\n",
       "    } else {\n",
       "      loadScript(\"vega\")\n",
       "        .then(() => loadScript(\"vega-lite\"))\n",
       "        .then(() => loadScript(\"vega-embed\"))\n",
       "        .catch(showError)\n",
       "        .then(() => displayChart(vegaEmbed));\n",
       "    }\n",
       "  })({\"config\": {\"view\": {\"continuousWidth\": 400, \"continuousHeight\": 300}}, \"layer\": [{\"data\": {\"name\": \"data-9f001d5bd5966843fd43e476bc86a25b\"}, \"mark\": \"line\", \"encoding\": {\"latitude\": {\"field\": \"x\", \"type\": \"quantitative\"}, \"longitude\": {\"field\": \"y\", \"type\": \"quantitative\"}, \"size\": {\"value\": 1}}, \"projection\": {\"rotate\": [0, 0, 90], \"type\": \"azimuthalEquidistant\"}}, {\"data\": {\"name\": \"data-c34f443952013642ecd4a37be0840a32\"}, \"mark\": \"line\", \"encoding\": {\"color\": {\"type\": \"nominal\", \"field\": \"hz\", \"sort\": null}, \"latitude\": {\"field\": \"x\", \"type\": \"quantitative\"}, \"longitude\": {\"field\": \"y\", \"type\": \"quantitative\"}, \"size\": {\"value\": 3}}, \"projection\": {\"rotate\": [0, 0, 90], \"type\": \"azimuthalEquidistant\"}}], \"$schema\": \"https://vega.github.io/schema/vega-lite/v4.0.2.json\", \"datasets\": {\"data-9f001d5bd5966843fd43e476bc86a25b\": [{\"x\": 0.0, \"y\": 0.0}, {\"x\": -0.9848077530122081, \"y\": -0.17364817766693025}, {\"x\": 0.0, \"y\": 0.0}, {\"x\": -0.9396926207859083, \"y\": -0.3420201433256689}, {\"x\": 0.0, \"y\": 0.0}, {\"x\": -0.8660254037844387, \"y\": -0.49999999999999994}, {\"x\": 0.0, \"y\": 0.0}, {\"x\": -0.7660444431189779, \"y\": -0.6427876096865395}, {\"x\": 0.0, \"y\": 0.0}, {\"x\": -0.6427876096865393, \"y\": -0.7660444431189781}, {\"x\": 0.0, \"y\": 0.0}, {\"x\": -0.4999999999999998, \"y\": -0.8660254037844388}, {\"x\": 0.0, \"y\": 0.0}, {\"x\": -0.3420201433256687, \"y\": -0.9396926207859084}, {\"x\": 0.0, \"y\": 0.0}, {\"x\": -0.1736481776669303, \"y\": -0.984807753012208}, {\"x\": 0.0, \"y\": 0.0}, {\"x\": 6.123233995736766e-17, \"y\": -1.0}, {\"x\": 0.0, \"y\": 0.0}, {\"x\": 0.17364817766693041, \"y\": -0.984807753012208}, {\"x\": 0.0, \"y\": 0.0}, {\"x\": 0.3420201433256688, \"y\": -0.9396926207859083}, {\"x\": 0.0, \"y\": 0.0}, {\"x\": 0.5000000000000001, \"y\": -0.8660254037844386}, {\"x\": 0.0, \"y\": 0.0}, {\"x\": 0.6427876096865394, \"y\": -0.766044443118978}, {\"x\": 0.0, \"y\": 0.0}, {\"x\": 0.7660444431189781, \"y\": -0.6427876096865393}, {\"x\": 0.0, \"y\": 0.0}, {\"x\": 0.8660254037844387, \"y\": -0.49999999999999994}, {\"x\": 0.0, \"y\": 0.0}, {\"x\": 0.9396926207859084, \"y\": -0.3420201433256687}, {\"x\": 0.0, \"y\": 0.0}, {\"x\": 0.984807753012208, \"y\": -0.17364817766693033}, {\"x\": 0.0, \"y\": 0.0}, {\"x\": 1.0, \"y\": 0.0}, {\"x\": 0.0, \"y\": 0.0}, {\"x\": 0.984807753012208, \"y\": 0.17364817766693033}, {\"x\": 0.0, \"y\": 0.0}, {\"x\": 0.9396926207859084, \"y\": 0.3420201433256687}, {\"x\": 0.0, \"y\": 0.0}, {\"x\": 0.8660254037844387, \"y\": 0.49999999999999994}, {\"x\": 0.0, \"y\": 0.0}, {\"x\": 0.7660444431189781, \"y\": 0.6427876096865393}, {\"x\": 0.0, \"y\": 0.0}, {\"x\": 0.6427876096865394, \"y\": 0.766044443118978}, {\"x\": 0.0, \"y\": 0.0}, {\"x\": 0.5000000000000001, \"y\": 0.8660254037844386}, {\"x\": 0.0, \"y\": 0.0}, {\"x\": 0.3420201433256688, \"y\": 0.9396926207859083}, {\"x\": 0.0, \"y\": 0.0}, {\"x\": 0.17364817766693041, \"y\": 0.984807753012208}, {\"x\": 0.0, \"y\": 0.0}, {\"x\": 6.123233995736766e-17, \"y\": 1.0}, {\"x\": 0.0, \"y\": 0.0}, {\"x\": -0.1736481776669303, \"y\": 0.984807753012208}, {\"x\": 0.0, \"y\": 0.0}, {\"x\": -0.3420201433256687, \"y\": 0.9396926207859084}, {\"x\": 0.0, \"y\": 0.0}, {\"x\": -0.4999999999999998, \"y\": 0.8660254037844388}, {\"x\": 0.0, \"y\": 0.0}, {\"x\": -0.6427876096865393, \"y\": 0.7660444431189781}, {\"x\": 0.0, \"y\": 0.0}, {\"x\": -0.7660444431189779, \"y\": 0.6427876096865395}, {\"x\": 0.0, \"y\": 0.0}, {\"x\": -0.8660254037844387, \"y\": 0.49999999999999994}, {\"x\": 0.0, \"y\": 0.0}, {\"x\": -0.9396926207859083, \"y\": 0.3420201433256689}, {\"x\": 0.0, \"y\": 0.0}, {\"x\": -0.9848077530122081, \"y\": 0.17364817766693025}], \"data-c34f443952013642ecd4a37be0840a32\": [{\"x\": 0.9855933002107835, \"y\": 0.0, \"hz\": \"100 Hz\"}, {\"x\": -0.9707323471271044, \"y\": -0.17116630384496376, \"hz\": \"100 Hz\"}, {\"x\": -0.9263782377744049, \"y\": -0.337174104221862, \"hz\": \"100 Hz\"}, {\"x\": -0.8538783817744948, \"y\": -0.4929869135727065, \"hz\": \"100 Hz\"}, {\"x\": -0.7554309465901741, \"y\": -0.6338818286637188, \"hz\": \"100 Hz\"}, {\"x\": -0.6340163575630212, \"y\": -0.7555912718892258, \"hz\": \"100 Hz\"}, {\"x\": -0.49330560488045866, \"y\": -0.8544303713114524, \"hz\": \"100 Hz\"}, {\"x\": -0.3375417719735995, \"y\": -0.9273883966201659, \"hz\": \"100 Hz\"}, {\"x\": -0.1714306150799703, \"y\": -0.9722313306289172, \"hz\": \"100 Hz\"}, {\"x\": 6.047192941612194e-17, \"y\": -0.9875815534442233, \"hz\": \"100 Hz\"}, {\"x\": 0.17155285902616088, \"y\": -0.9729246104985056, \"hz\": \"100 Hz\"}, {\"x\": 0.33801030432979634, \"y\": -0.9286756786891, \"hz\": \"100 Hz\"}, {\"x\": 0.49429497491049607, \"y\": -0.8561440104709623, \"hz\": \"100 Hz\"}, {\"x\": 0.6356245894046836, \"y\": -0.7575078879642512, \"hz\": \"100 Hz\"}, {\"x\": 0.7576536382361163, \"y\": -0.6357468884040494, \"hz\": \"100 Hz\"}, {\"x\": 0.8566383294592825, \"y\": -0.494580370111468, \"hz\": \"100 Hz\"}, {\"x\": 0.9295249272762443, \"y\": -0.3383194055370093, \"hz\": \"100 Hz\"}, {\"x\": 0.9740863227124105, \"y\": -0.1717577002332908, \"hz\": \"100 Hz\"}, {\"x\": 0.9739270557153429, \"y\": 0.17172961716457136, \"hz\": \"100 Hz\"}, {\"x\": 0.9290779543356421, \"y\": 0.3381567206911077, \"hz\": \"100 Hz\"}, {\"x\": 0.855962760175245, \"y\": 0.4941903300034727, \"hz\": \"100 Hz\"}, {\"x\": 0.7568520117408585, \"y\": 0.6350742439075365, \"hz\": \"100 Hz\"}, {\"x\": 0.6347990711589634, \"y\": 0.7565240736291621, \"hz\": \"100 Hz\"}, {\"x\": 0.4935672171480169, \"y\": 0.8548834970507458, \"hz\": \"100 Hz\"}, {\"x\": 0.3374701906414029, \"y\": 0.9271917285263008, \"hz\": \"100 Hz\"}, {\"x\": 0.17126707250331014, \"y\": 0.9713038345871704, \"hz\": \"100 Hz\"}, {\"x\": 6.037057200350678e-17, \"y\": 0.9859262612785846, \"hz\": \"100 Hz\"}, {\"x\": -0.1711530882832135, \"y\": 0.9706573979520137, \"hz\": \"100 Hz\"}, {\"x\": -0.33703094155746843, \"y\": 0.9259849015866751, \"hz\": \"100 Hz\"}, {\"x\": -0.49263492615817406, \"y\": 0.8532687216889001, \"hz\": \"100 Hz\"}, {\"x\": -0.6332703336668889, \"y\": 0.7547021952308489, \"hz\": \"100 Hz\"}, {\"x\": -0.7546949077172554, \"y\": 0.6332642187169207, \"hz\": \"100 Hz\"}, {\"x\": -0.8532275284398733, \"y\": 0.4926111432247598, \"hz\": \"100 Hz\"}, {\"x\": -0.9258776280809304, \"y\": 0.3369918971944522, \"hz\": \"100 Hz\"}, {\"x\": -0.9704138131329693, \"y\": 0.1711101377075249, \"hz\": \"100 Hz\"}, {\"x\": -0.9854886553037605, \"y\": 1.2068755273137795e-16, \"hz\": \"100 Hz\"}, {\"x\": 0.9855933002107835, \"y\": 0.0, \"hz\": \"100 Hz\"}, {\"x\": 0.9517549425488457, \"y\": 0.0, \"hz\": \"1 kHz\"}, {\"x\": -0.9097602563261787, \"y\": -0.16041527916655418, \"hz\": \"1 kHz\"}, {\"x\": -0.8160644220879114, \"y\": -0.29702315888365033, \"hz\": \"1 kHz\"}, {\"x\": -0.7529442114143754, \"y\": -0.43471254314485996, \"hz\": \"1 kHz\"}, {\"x\": -0.7103066624207529, \"y\": -0.5960180584600188, \"hz\": \"1 kHz\"}, {\"x\": -0.6161729335555282, \"y\": -0.7343263072241142, \"hz\": \"1 kHz\"}, {\"x\": -0.4871125290193618, \"y\": -0.8437036492649043, \"hz\": \"1 kHz\"}, {\"x\": -0.33514379734500965, \"y\": -0.9208000154756901, \"hz\": \"1 kHz\"}, {\"x\": -0.17000003052049784, \"y\": -0.9641180824253552, \"hz\": \"1 kHz\"}, {\"x\": 5.971058379377702e-17, \"y\": -0.9751478358552008, \"hz\": \"1 kHz\"}, {\"x\": 0.16900555949878612, \"y\": -0.9584781569997846, \"hz\": \"1 kHz\"}, {\"x\": 0.3342490306925508, \"y\": -0.9183416643023781, \"hz\": \"1 kHz\"}, {\"x\": 0.4931153414131442, \"y\": -0.8541008253192389, \"hz\": \"1 kHz\"}, {\"x\": 0.6404064802798923, \"y\": -0.7632067235941747, \"hz\": \"1 kHz\"}, {\"x\": 0.7697217607465429, \"y\": -0.6458732455515506, \"hz\": \"1 kHz\"}, {\"x\": 0.8753483031672018, \"y\": -0.5053825784682661, \"hz\": \"1 kHz\"}, {\"x\": 0.9528926726109248, \"y\": -0.3468245692807459, \"hz\": \"1 kHz\"}, {\"x\": 0.9992973514835252, \"y\": -0.17620308481705566, \"hz\": \"1 kHz\"}, {\"x\": 0.9973955161656001, \"y\": 0.17586773993764124, \"hz\": \"1 kHz\"}, {\"x\": 0.9473859659827063, \"y\": 0.344820291979238, \"hz\": \"1 kHz\"}, {\"x\": 0.8667883460194572, \"y\": 0.500440484904764, \"hz\": \"1 kHz\"}, {\"x\": 0.7593297663625644, \"y\": 0.6371533268967579, \"hz\": \"1 kHz\"}, {\"x\": 0.6305124912311866, \"y\": 0.7514155266002918, \"hz\": \"1 kHz\"}, {\"x\": 0.4867415152580983, \"y\": 0.8430610345800879, \"hz\": \"1 kHz\"}, {\"x\": 0.33257663047668223, \"y\": 0.9137467824729879, \"hz\": \"1 kHz\"}, {\"x\": 0.16951105473573597, \"y\": 0.9613449629470016, \"hz\": \"1 kHz\"}, {\"x\": 5.999019044926711e-17, \"y\": 0.9797141590707562, \"hz\": \"1 kHz\"}, {\"x\": -0.16992734493087103, \"y\": 0.9637058619623566, \"hz\": \"1 kHz\"}, {\"x\": -0.33161353618894446, \"y\": 0.9111007026646233, \"hz\": \"1 kHz\"}, {\"x\": -0.47449615850171717, \"y\": 0.8218514545212298, \"hz\": \"1 kHz\"}, {\"x\": -0.5849163667925739, \"y\": 0.6970761814922027, \"hz\": \"1 kHz\"}, {\"x\": -0.6578985084148757, \"y\": 0.5520423957630052, \"hz\": \"1 kHz\"}, {\"x\": -0.7781355309241529, \"y\": 0.4492567582450719, \"hz\": \"1 kHz\"}, {\"x\": -0.882366600205073, \"y\": 0.3211551781853131, \"hz\": \"1 kHz\"}, {\"x\": -0.9435445338629741, \"y\": 0.16637235882003412, \"hz\": \"1 kHz\"}, {\"x\": -0.9619816039170164, \"y\": 1.178087692075611e-16, \"hz\": \"1 kHz\"}, {\"x\": 0.9517549425488457, \"y\": 0.0, \"hz\": \"1 kHz\"}, {\"x\": 0.7683495219134036, \"y\": 0.0, \"hz\": \"10 kHz\"}, {\"x\": -0.6732075436344729, \"y\": -0.11870465355922873, \"hz\": \"10 kHz\"}, {\"x\": -0.6492407114669688, \"y\": -0.23630429384778862, \"hz\": \"10 kHz\"}, {\"x\": -0.6231591133009476, \"y\": -0.3597810818122706, \"hz\": \"10 kHz\"}, {\"x\": -0.5491105054947987, \"y\": -0.4607584226362555, \"hz\": \"10 kHz\"}, {\"x\": -0.4896515612364624, \"y\": -0.583544007222918, \"hz\": \"10 kHz\"}, {\"x\": -0.39627789577126454, \"y\": -0.6863734493923147, \"hz\": \"10 kHz\"}, {\"x\": -0.25523072345029113, \"y\": -0.7012406494307424, \"hz\": \"10 kHz\"}, {\"x\": -0.1379987129366127, \"y\": -0.782629591808055, \"hz\": \"10 kHz\"}, {\"x\": 5.2460324965532094e-17, \"y\": -0.8567421235585152, \"hz\": \"10 kHz\"}, {\"x\": 0.15326566025962962, \"y\": -0.8692127526021416, \"hz\": \"10 kHz\"}, {\"x\": 0.31144419436375353, \"y\": -0.855685891434649, \"hz\": \"10 kHz\"}, {\"x\": 0.4702685042579825, \"y\": -0.8145289425742464, \"hz\": \"10 kHz\"}, {\"x\": 0.6214256755782961, \"y\": -0.7405862814007181, \"hz\": \"10 kHz\"}, {\"x\": 0.7606925314045028, \"y\": -0.6382968225408295, \"hz\": \"10 kHz\"}, {\"x\": 0.8753647804668125, \"y\": -0.5053920916416318, \"hz\": \"10 kHz\"}, {\"x\": 0.9551096583963116, \"y\": -0.347631486116418, \"hz\": \"10 kHz\"}, {\"x\": 1.0, \"y\": -0.17632698070846495, \"hz\": \"10 kHz\"}, {\"x\": 0.9967397108835571, \"y\": 0.17575210377232592, \"hz\": \"10 kHz\"}, {\"x\": 0.9435241197759038, \"y\": 0.343414694910648, \"hz\": \"10 kHz\"}, {\"x\": 0.8486056458990794, \"y\": 0.48994269809566965, \"hz\": \"10 kHz\"}, {\"x\": 0.7284773488141696, \"y\": 0.6112650747109724, \"hz\": \"10 kHz\"}, {\"x\": 0.59078671876214, \"y\": 0.7040721945417253, \"hz\": \"10 kHz\"}, {\"x\": 0.44258136449433216, \"y\": 0.7665734097873435, \"hz\": \"10 kHz\"}, {\"x\": 0.2912270231938674, \"y\": 0.8001396701601379, \"hz\": \"10 kHz\"}, {\"x\": 0.1417040260623596, \"y\": 0.8036434667740937, \"hz\": \"10 kHz\"}, {\"x\": 4.8410746823237e-17, \"y\": 0.7906074936372258, \"hz\": \"10 kHz\"}, {\"x\": -0.13356505716390127, \"y\": 0.7574850804298334, \"hz\": \"10 kHz\"}, {\"x\": -0.2658657571965719, \"y\": 0.7304601645037866, \"hz\": \"10 kHz\"}, {\"x\": -0.3680366136590599, \"y\": 0.6374581139030899, \"hz\": \"10 kHz\"}, {\"x\": -0.4840887912503019, \"y\": 0.576914556107136, \"hz\": \"10 kHz\"}, {\"x\": -0.5164289220344973, \"y\": 0.4333353180084271, \"hz\": \"10 kHz\"}, {\"x\": -0.6551547336849527, \"y\": 0.37825376185386494, \"hz\": \"10 kHz\"}, {\"x\": -0.6265666681361026, \"y\": 0.22805161698489126, \"hz\": \"10 kHz\"}, {\"x\": -0.5907831251932284, \"y\": 0.10417100471883296, \"hz\": \"10 kHz\"}, {\"x\": -0.7495514913427007, \"y\": 9.179358346689635e-17, \"hz\": \"10 kHz\"}, {\"x\": 0.7683495219134036, \"y\": 0.0, \"hz\": \"10 kHz\"}]}}, {\"mode\": \"vega-lite\"});\n",
       "</script>"
      ],
      "text/plain": [
       "alt.LayerChart(...)"
      ]
     },
     "execution_count": 8,
     "metadata": {},
     "output_type": "execute_result"
    }
   ],
   "source": [
    "import math\n",
    "import pandas as pd\n",
    "import numpy as np\n",
    "\n",
    "spl = neumann['SPL Horizontal']\n",
    "\n",
    "radius=1\n",
    "anglelist = [a for a in range(-170,180,10)]\n",
    "gridC = [(radius*math.cos(p*math.pi/180), \n",
    "          radius*math.sin(p*math.pi/180)) for p in anglelist]\n",
    "gridX = [(0,g[0]) for g in gridC] \n",
    "gridX = [s for s2 in gridX for s in s2]\n",
    "gridY = [(0,g[1]) for g in gridC] \n",
    "gridY = [s for s2 in gridY for s in s2]\n",
    "\n",
    "#for g in zip(gridX, gridY):\n",
    "#    print('line from %d, %d' % g)\n",
    "\n",
    "splu = neumann['SPL Horizontal_unmelted']\n",
    "# 100hz 47\n",
    "#  1khz 113\n",
    "# 10khz 180\n",
    "def hzname(i):\n",
    "    if i == 47:\n",
    "        return '100 Hz'\n",
    "    elif i == 113:\n",
    "        return '1 kHz'\n",
    "    elif i == 180:\n",
    "        return '10 kHz'\n",
    "    else:\n",
    "        return 'error'\n",
    "\n",
    "dbX = []\n",
    "dbY = []\n",
    "hz  = []\n",
    "for ihz in [47, 113, 180]:\n",
    "    gridZ = splu.loc[ihz][1:]\n",
    "    angles = [0]\n",
    "    values = {}\n",
    "    dbs = []\n",
    "    for a, z in zip(gridZ.index,gridZ):\n",
    "        angle = 0\n",
    "        if a != 'On-Axis':\n",
    "            angle = int(a[:-1])\n",
    "            angles.append(angle)\n",
    "        dbs.append(z)\n",
    "\n",
    "    anglemin = np.array(angles).min()/10\n",
    "    # print(angles)\n",
    "    # print(perm)\n",
    "    # print(sorted_angles)\n",
    "        \n",
    "    # map in 2d\n",
    "    dbsX = [db*math.cos(a*math.pi/180) for a,db in zip(angles, dbs)]\n",
    "    dbsY = [db*math.sin(a*math.pi/180) for a,db in zip(angles, dbs)]\n",
    "\n",
    "    dbsX.append(dbsX[0])\n",
    "    dbsY.append(dbsY[0])\n",
    "    # add to global variable\n",
    "    dbX.append(dbsX)\n",
    "    dbY.append(dbsY)\n",
    "    hz.append([ihz for i in range(0,len(dbsX))])\n",
    "\n",
    "dbmax = max(np.array(dbX).max(), np.array(dbY).max())\n",
    "dbX = [v2/dbmax for v1 in dbX for v2 in v1]\n",
    "dbY = [v2/dbmax for v1 in dbY for v2 in v1]\n",
    "hz  = [hzname(i2) for i1 in hz for i2 in i1]\n",
    "\n",
    "grid_df = pd.DataFrame({'x': gridX, 'y': gridY })\n",
    "grid = alt.Chart(grid_df).mark_line(\n",
    ").encode(\n",
    "   alt.Latitude('x:Q'), \n",
    "   alt.Longitude('y:Q'),\n",
    "   size=alt.value(1)\n",
    ").project(\n",
    "   type='azimuthalEquidistant',\n",
    "   rotate=[0, 0, 90]   \n",
    ")\n",
    "\n",
    "dbs_df = pd.DataFrame({'x': dbX, 'y': dbY, 'hz': hz })\n",
    "dbs = alt.Chart(dbs_df).mark_line(\n",
    ").encode(\n",
    "   alt.Latitude('x:Q'), \n",
    "   alt.Longitude('y:Q'),\n",
    "   alt.Color('hz:N', sort=None),\n",
    "   size=alt.value(3)\n",
    ").project(\n",
    "   type='azimuthalEquidistant',\n",
    "   rotate=[0, 0, 90]   \n",
    ")\n",
    "\n",
    "grid+dbs"
   ]
  },
  {
   "cell_type": "code",
   "execution_count": 9,
   "metadata": {},
   "outputs": [
    {
     "name": "stdout",
     "output_type": "stream",
     "text": [
      "8\n",
      "Index(['Freq', 'On Axis', 'Listening Window', 'Early Reflections',\n",
      "       'Sound Power', 'Sound Power DI', 'Early Reflections DI', 'DI offset'],\n",
      "      dtype='object')\n",
      "37\n",
      "Index(['Freq', '-170°', '-160°', '-150°', '-140°', '-130°', '-120°', '-110°',\n",
      "       '-100°', '-90°', '-80°', '-70°', '-60°', '-50°', '-40°', '-30°', '-20°',\n",
      "       '-10°', 'On-Axis', '10°', '20°', '30°', '40°', '50°', '60°', '70°',\n",
      "       '80°', '90°', '100°', '110°', '120°', '130°', '140°', '150°', '160°',\n",
      "       '170°', '180°'],\n",
      "      dtype='object')\n",
      "-170°\n"
     ]
    },
    {
     "data": {
      "text/html": [
       "<div>\n",
       "<style scoped>\n",
       "    .dataframe tbody tr th:only-of-type {\n",
       "        vertical-align: middle;\n",
       "    }\n",
       "\n",
       "    .dataframe tbody tr th {\n",
       "        vertical-align: top;\n",
       "    }\n",
       "\n",
       "    .dataframe thead th {\n",
       "        text-align: right;\n",
       "    }\n",
       "</style>\n",
       "<table border=\"1\" class=\"dataframe\">\n",
       "  <thead>\n",
       "    <tr style=\"text-align: right;\">\n",
       "      <th></th>\n",
       "      <th>Freq</th>\n",
       "      <th>Measurements</th>\n",
       "      <th>dB</th>\n",
       "    </tr>\n",
       "  </thead>\n",
       "  <tbody>\n",
       "    <tr>\n",
       "      <th>0</th>\n",
       "      <td>20.5078</td>\n",
       "      <td>index</td>\n",
       "      <td>1.000</td>\n",
       "    </tr>\n",
       "    <tr>\n",
       "      <th>1</th>\n",
       "      <td>21.2402</td>\n",
       "      <td>index</td>\n",
       "      <td>2.000</td>\n",
       "    </tr>\n",
       "    <tr>\n",
       "      <th>2</th>\n",
       "      <td>21.9727</td>\n",
       "      <td>index</td>\n",
       "      <td>3.000</td>\n",
       "    </tr>\n",
       "    <tr>\n",
       "      <th>3</th>\n",
       "      <td>22.7051</td>\n",
       "      <td>index</td>\n",
       "      <td>4.000</td>\n",
       "    </tr>\n",
       "    <tr>\n",
       "      <th>4</th>\n",
       "      <td>23.4375</td>\n",
       "      <td>index</td>\n",
       "      <td>5.000</td>\n",
       "    </tr>\n",
       "    <tr>\n",
       "      <th>...</th>\n",
       "      <td>...</td>\n",
       "      <td>...</td>\n",
       "      <td>...</td>\n",
       "    </tr>\n",
       "    <tr>\n",
       "      <th>395</th>\n",
       "      <td>17753.2000</td>\n",
       "      <td>On-Axis</td>\n",
       "      <td>107.941</td>\n",
       "    </tr>\n",
       "    <tr>\n",
       "      <th>396</th>\n",
       "      <td>18379.4000</td>\n",
       "      <td>On-Axis</td>\n",
       "      <td>106.974</td>\n",
       "    </tr>\n",
       "    <tr>\n",
       "      <th>397</th>\n",
       "      <td>19027.6000</td>\n",
       "      <td>On-Axis</td>\n",
       "      <td>104.834</td>\n",
       "    </tr>\n",
       "    <tr>\n",
       "      <th>398</th>\n",
       "      <td>19698.5000</td>\n",
       "      <td>On-Axis</td>\n",
       "      <td>104.410</td>\n",
       "    </tr>\n",
       "    <tr>\n",
       "      <th>399</th>\n",
       "      <td>19999.5000</td>\n",
       "      <td>On-Axis</td>\n",
       "      <td>104.089</td>\n",
       "    </tr>\n",
       "  </tbody>\n",
       "</table>\n",
       "<p>400 rows × 3 columns</p>\n",
       "</div>"
      ],
      "text/plain": [
       "           Freq Measurements       dB\n",
       "0       20.5078        index    1.000\n",
       "1       21.2402        index    2.000\n",
       "2       21.9727        index    3.000\n",
       "3       22.7051        index    4.000\n",
       "4       23.4375        index    5.000\n",
       "..          ...          ...      ...\n",
       "395  17753.2000      On-Axis  107.941\n",
       "396  18379.4000      On-Axis  106.974\n",
       "397  19027.6000      On-Axis  104.834\n",
       "398  19698.5000      On-Axis  104.410\n",
       "399  19999.5000      On-Axis  104.089\n",
       "\n",
       "[400 rows x 3 columns]"
      ]
     },
     "execution_count": 9,
     "metadata": {},
     "output_type": "execute_result"
    }
   ],
   "source": [
    "import math\n",
    "import locale\n",
    "from locale import atof\n",
    "locale.setlocale(locale.LC_ALL, 'en_US.UTF-8')\n",
    "import pandas as pd\n",
    "import numpy as np\n",
    "from src.spinorama.load import graph_melt\n",
    "\n",
    "title, df = parse_graph_freq('./datas/Neumann KH 80/CEA2034.txt')\n",
    "print(len(df.columns))\n",
    "print(df.columns)\n",
    "#print(df)\n",
    "#print(df.reset_index().melt(id_vars='Freq', var_name='Measurements', value_name='dB'))\n",
    "title2, df2 = parse_graph_freq('./datas/Neumann KH 80/SPL Vertical.txt')\n",
    "print(len(df2.columns))\n",
    "print(df2.columns)\n",
    "print(df2.columns[1])\n",
    "df2[['Freq', 'On-Axis']].reset_index().melt(id_vars='Freq', var_name='Measurements', value_name='dB')\n"
   ]
  },
  {
   "cell_type": "code",
   "execution_count": 10,
   "metadata": {},
   "outputs": [],
   "source": [
    "from src.spinorama.graph import *\n",
    "# print(df)\n",
    "speaker = 'Neumann KH 80'\n",
    "width=400 \n",
    "heigth=200\n",
    "spinorama = display_spinorama(df, speaker, width, heigth)\n",
    "onaxis    = display_onaxis(df, speaker, width, heigth)\n",
    "inroom    = display_inroom(df, speaker, width, heigth)\n",
    "ereflex   = display_reflection_early(df, speaker, width, heigth)\n",
    "hreflex   = display_reflection_horizontal(df, speaker, width, heigth)\n",
    "vreflex   = display_reflection_vertical(df, speaker, width, heigth)\n",
    "hspl      = display_spl_horizontal(df, speaker, width, heigth)\n",
    "vspl      = display_spl_vertical(df, speaker, width, heigth)\n",
    "hcontour  = display_contour_horizontal(df,speaker, width, heigth)\n",
    "vcontour  = display_contour_vertical(df,speaker, width, heigth)\n",
    "\n",
    "vcontour"
   ]
  }
 ],
 "metadata": {
  "kernelspec": {
   "display_name": "Python 3",
   "language": "python",
   "name": "python3"
  },
  "language_info": {
   "codemirror_mode": {
    "name": "ipython",
    "version": 3
   },
   "file_extension": ".py",
   "mimetype": "text/x-python",
   "name": "python",
   "nbconvert_exporter": "python",
   "pygments_lexer": "ipython3",
   "version": "3.7.6"
  }
 },
 "nbformat": 4,
 "nbformat_minor": 4
}
