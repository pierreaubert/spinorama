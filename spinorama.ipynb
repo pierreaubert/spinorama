{
 "cells": [
  {
   "cell_type": "code",
   "execution_count": null,
   "metadata": {},
   "outputs": [],
   "source": [
    "import altair as alt\n",
    "from src.spinorama.load import parse_all_speakers, parse_graphs_speaker, parse_graph_freq\n",
    "from src.spinorama.contour import compute_contour, compute_isoline\n",
    "from src.spinorama.graph import display_freq, display_contour, display_template1, display_vertical\n",
    "import numpy as np\n",
    "\n",
    "df = parse_all_speakers()"
   ]
  },
  {
   "cell_type": "code",
   "execution_count": null,
   "metadata": {},
   "outputs": [],
   "source": [
    "#parse_graphs_speaker('Emotiva Airmotive 6s')"
   ]
  },
  {
   "cell_type": "code",
   "execution_count": null,
   "metadata": {},
   "outputs": [],
   "source": [
    "for k in df.keys():\n",
    "  print(k)"
   ]
  },
  {
   "cell_type": "code",
   "execution_count": null,
   "metadata": {},
   "outputs": [],
   "source": [
    "neumann = df['Neumann KH 80']\n",
    "for k in neumann.keys():\n",
    "    print(k)"
   ]
  },
  {
   "cell_type": "code",
   "execution_count": null,
   "metadata": {},
   "outputs": [],
   "source": [
    "spinorama_u = neumann['CEA2034_unmelted']\n",
    "for m in spinorama_u.keys():\n",
    "    print(m)\n",
    "spinorama = neumann['CEA2034']\n",
    "for m in spinorama.keys():\n",
    "    print(m)"
   ]
  },
  {
   "cell_type": "code",
   "execution_count": null,
   "metadata": {},
   "outputs": [],
   "source": [
    "onaxis = spinorama.loc[spinorama['Measurements']=='On Axis']\n",
    "print(onaxis)"
   ]
  },
  {
   "cell_type": "code",
   "execution_count": null,
   "metadata": {},
   "outputs": [],
   "source": [
    "from src.spinorama.analysis import estimates\n",
    "\n",
    "e0, e3, e6, delta = estimates(onaxis)\n",
    "\n",
    "print('Estimated -3dB point at %1.fHz'% e3)\n",
    "print('Estimated -6dB point at %1.fHz'% e6)\n",
    "print('Estimated +/-%1.1fdB from 80hz to 20kz'%delta)\n"
   ]
  },
  {
   "cell_type": "code",
   "execution_count": null,
   "metadata": {},
   "outputs": [],
   "source": [
    "import math\n",
    "import pandas as pd\n",
    "import numpy as np\n",
    "\n",
    "spl = neumann['SPL Horizontal']\n",
    "\n",
    "radius=1\n",
    "anglelist = [a for a in range(-170,180,10)]\n",
    "gridC = [(radius*math.cos(p*math.pi/180), \n",
    "          radius*math.sin(p*math.pi/180)) for p in anglelist]\n",
    "gridX = [(0,g[0]) for g in gridC] \n",
    "gridX = [s for s2 in gridX for s in s2]\n",
    "gridY = [(0,g[1]) for g in gridC] \n",
    "gridY = [s for s2 in gridY for s in s2]\n",
    "\n",
    "#for g in zip(gridX, gridY):\n",
    "#    print('line from %d, %d' % g)\n",
    "\n",
    "splu = neumann['SPL Horizontal_unmelted']\n",
    "# 100hz 47\n",
    "#  1khz 113\n",
    "# 10khz 180\n",
    "def hzname(i):\n",
    "    if i == 47:\n",
    "        return '100 Hz'\n",
    "    elif i == 113:\n",
    "        return '1 kHz'\n",
    "    elif i == 180:\n",
    "        return '10 kHz'\n",
    "    else:\n",
    "        return 'error'\n",
    "\n",
    "dbX = []\n",
    "dbY = []\n",
    "hz  = []\n",
    "for ihz in [47, 113, 180]:\n",
    "    gridZ = splu.loc[ihz][1:]\n",
    "    angles = [0]\n",
    "    values = {}\n",
    "    dbs = []\n",
    "    for a, z in zip(gridZ.index,gridZ):\n",
    "        angle = 0\n",
    "        if a != 'On-Axis':\n",
    "            angle = int(a[:-1])\n",
    "            angles.append(angle)\n",
    "        dbs.append(z)\n",
    "\n",
    "    anglemin = np.array(angles).min()/10\n",
    "    # print(angles)\n",
    "    # print(perm)\n",
    "    # print(sorted_angles)\n",
    "        \n",
    "    # map in 2d\n",
    "    dbsX = [db*math.cos(a*math.pi/180) for a,db in zip(angles, dbs)]\n",
    "    dbsY = [db*math.sin(a*math.pi/180) for a,db in zip(angles, dbs)]\n",
    "\n",
    "    dbsX.append(dbsX[0])\n",
    "    dbsY.append(dbsY[0])\n",
    "    # add to global variable\n",
    "    dbX.append(dbsX)\n",
    "    dbY.append(dbsY)\n",
    "    hz.append([ihz for i in range(0,len(dbsX))])\n",
    "\n",
    "dbmax = max(np.array(dbX).max(), np.array(dbY).max())\n",
    "dbX = [v2/dbmax for v1 in dbX for v2 in v1]\n",
    "dbY = [v2/dbmax for v1 in dbY for v2 in v1]\n",
    "hz  = [hzname(i2) for i1 in hz for i2 in i1]\n",
    "\n",
    "grid_df = pd.DataFrame({'x': gridX, 'y': gridY })\n",
    "grid = alt.Chart(grid_df).mark_line(\n",
    ").encode(\n",
    "   alt.Latitude('x:Q'), \n",
    "   alt.Longitude('y:Q'),\n",
    "   size=alt.value(1)\n",
    ").project(\n",
    "   type='azimuthalEquidistant',\n",
    "   rotate=[0, 0, 90]   \n",
    ")\n",
    "\n",
    "dbs_df = pd.DataFrame({'x': dbX, 'y': dbY, 'hz': hz })\n",
    "dbs = alt.Chart(dbs_df).mark_line(\n",
    ").encode(\n",
    "   alt.Latitude('x:Q'), \n",
    "   alt.Longitude('y:Q'),\n",
    "   alt.Color('hz:N', sort=None),\n",
    "   size=alt.value(3)\n",
    ").project(\n",
    "   type='azimuthalEquidistant',\n",
    "   rotate=[0, 0, 90]   \n",
    ")\n",
    "\n",
    "grid+dbs"
   ]
  },
  {
   "cell_type": "code",
   "execution_count": null,
   "metadata": {},
   "outputs": [],
   "source": [
    "import math\n",
    "import locale\n",
    "from locale import atof\n",
    "locale.setlocale(locale.LC_ALL, 'en_US.UTF-8')\n",
    "import pandas as pd\n",
    "import numpy as np\n",
    "from src.spinorama.load import graph_melt\n",
    "\n",
    "title, df = parse_graph_freq('./datas/Neumann KH 80/CEA2034.txt')\n",
    "print(len(df.columns))\n",
    "print(df.columns)\n",
    "#print(df)\n",
    "#print(df.reset_index().melt(id_vars='Freq', var_name='Measurements', value_name='dB'))\n",
    "title2, df2 = parse_graph_freq('./datas/Neumann KH 80/SPL Vertical.txt')\n",
    "print(len(df2.columns))\n",
    "print(df2.columns)\n",
    "print(df2.columns[1])\n",
    "df2[['Freq', 'On-Axis']].reset_index().melt(id_vars='Freq', var_name='Measurements', value_name='dB')\n"
   ]
  },
  {
   "cell_type": "code",
   "execution_count": null,
   "metadata": {},
   "outputs": [],
   "source": [
    "from src.spinorama.graph import *\n",
    "# print(df)\n",
    "speaker = 'Neumann KH 80'\n",
    "width=400 \n",
    "heigth=200\n",
    "spinorama = display_spinorama(df, speaker, width, heigth)\n",
    "onaxis    = display_onaxis(df, speaker, width, heigth)\n",
    "inroom    = display_inroom(df, speaker, width, heigth)\n",
    "ereflex   = display_reflection_early(df, speaker, width, heigth)\n",
    "hreflex   = display_reflection_horizontal(df, speaker, width, heigth)\n",
    "vreflex   = display_reflection_vertical(df, speaker, width, heigth)\n",
    "hspl      = display_spl_horizontal(df, speaker, width, heigth)\n",
    "vspl      = display_spl_vertical(df, speaker, width, heigth)\n",
    "hcontour  = display_contour_horizontal(df,speaker, width, heigth)\n",
    "vcontour  = display_contour_vertical(df,speaker, width, heigth)\n",
    "\n",
    "vcontour"
   ]
  }
 ],
 "metadata": {
  "kernelspec": {
   "display_name": "Python 3",
   "language": "python",
   "name": "python3"
  },
  "language_info": {
   "codemirror_mode": {
    "name": "ipython",
    "version": 3
   },
   "file_extension": ".py",
   "mimetype": "text/x-python",
   "name": "python",
   "nbconvert_exporter": "python",
   "pygments_lexer": "ipython3",
   "version": "3.7.6"
  }
 },
 "nbformat": 4,
 "nbformat_minor": 4
}
