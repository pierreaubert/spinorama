{
 "cells": [
  {
   "cell_type": "markdown",
   "metadata": {},
   "source": [
    "Compute some values from Spinorama following Olive&al"
   ]
  },
  {
   "cell_type": "code",
   "execution_count": 5,
   "metadata": {},
   "outputs": [
    {
     "name": "stderr",
     "output_type": "stream",
     "text": [
      "WARNING:root:Speaker: Neumann KH 80 (ASR) Not found: datas/ASR/Neumann KH 80/Directivity Index.txt\n"
     ]
    }
   ],
   "source": [
    "import math\n",
    "import pandas as pd\n",
    "import altair as alt\n",
    "import numpy as np\n",
    "from src.spinorama.load import parse_all_speakers, parse_graphs_speaker\n",
    "from src.spinorama.graph import graph_params_default\n",
    "\n",
    "# df = parse_graphs_speaker('Adam', 'Adam S2V', 'klippel')\n",
    "df = parse_graphs_speaker('Neumann', 'Neumann KH 80', 'klippel')\n",
    "# df = parse_graphs_speaker('Genelec', 'Genelec 8030A', 'princeton')\n",
    "# print(df)"
   ]
  },
  {
   "cell_type": "code",
   "execution_count": 81,
   "metadata": {},
   "outputs": [],
   "source": [
    "def octave(N):\n",
    "    \"\"\"compute 1/N octave band\"\"\"\n",
    "    p = pow(2,1/N)\n",
    "    p_band= pow(2,1/(2*N))\n",
    "    iter = int((N*10+1)/2)\n",
    "    center = [1000 / p**i for i in range(iter,0,-1)]+[1000*p**i for i in range(0,iter,1)]\n",
    "    return [(c/p_band,c*p_band) for c in center]\n",
    "\n",
    "octave20 = octave(20)\n",
    "\n",
    "\n"
   ]
  },
  {
   "cell_type": "code",
   "execution_count": 116,
   "metadata": {},
   "outputs": [
    {
     "name": "stdout",
     "output_type": "stream",
     "text": [
      "aad=0.6374662068965525\n",
      "nbd=0.32108885482643135\n",
      "lfx=52.7344\n"
     ]
    }
   ],
   "source": [
    "def aad(dfu):\n",
    "    # mean betwenn 200hz and 400hz\n",
    "    y_ref = np.mean(dfu.loc[(dfu.Freq>=200) & (dfu.Freq<=400)].dB)\n",
    "    #print(y_ref)\n",
    "    sum = 0\n",
    "    n = 0\n",
    "    # 1/20 octave\n",
    "    for (omin, omax) in octave(20):\n",
    "        # 100hz to 16k hz\n",
    "        if omin < 100:\n",
    "            continue\n",
    "        if omax > 16000:\n",
    "            break\n",
    "        sum += abs(y_ref-np.mean(dfu.loc[(dfu.Freq>=omin) & (dfu.Freq<omax)].dB))\n",
    "        n += 1\n",
    "    return sum/n\n",
    "\n",
    "def nbd(dfu):\n",
    "    sum = 0\n",
    "    n = 0\n",
    "    # 1/2 octave\n",
    "    for (omin, omax) in octave(2):\n",
    "        # 100hz to 12k hz\n",
    "        if omin < 100:\n",
    "            continue\n",
    "        if omax > 12000:\n",
    "            break\n",
    "        y = dfu.loc[(dfu.Freq>=omin) & (dfu.Freq<omax)].dB\n",
    "        y_avg = np.mean(y)\n",
    "        # don't sample, take all points in this octave\n",
    "        sum += np.mean(np.abs(y_avg-y))\n",
    "        n += 1\n",
    "    return sum/n\n",
    "\n",
    "def lfx(dfu):\n",
    "    y_ref = np.mean(dfu.loc[(dfu.Freq>=300) & (dfu.Freq<=10000)].dB)-6\n",
    "    # find first freq such that y[freq]<y_ref-6dB\n",
    "    y = dfu.loc[(dfu.Freq<300)&(dfu.dB<y_ref)].Freq.max()\n",
    "    return y\n",
    "\n",
    "    \n",
    "df_onaxis = df['CEA2034'].loc[lambda df: df.Measurements == 'On Axis']\n",
    "df_lw = df['CEA2034'].loc[lambda df: df.Measurements == 'Listening Window']\n",
    "\n",
    "print('aad={0}'.format(aad(df_onaxis)))\n",
    "print('nbd={0}'.format(nbd(df_onaxis)))\n",
    "print('lfx={0}'.format(lfx(df_lw)))"
   ]
  },
  {
   "cell_type": "code",
   "execution_count": 96,
   "metadata": {},
   "outputs": [
    {
     "data": {
      "text/plain": [
       "0.20390000000000086"
      ]
     },
     "execution_count": 96,
     "metadata": {},
     "output_type": "execute_result"
    }
   ],
   "source": [
    "t = dfu.loc[(dfu.Freq>=200) & (dfu.Freq<=400)].dB\n",
    "m = np.mean(t)\n",
    "np.mean(np.abs(t-m))\n"
   ]
  },
  {
   "cell_type": "code",
   "execution_count": 109,
   "metadata": {},
   "outputs": [
    {
     "data": {
      "text/html": [
       "<div>\n",
       "<style scoped>\n",
       "    .dataframe tbody tr th:only-of-type {\n",
       "        vertical-align: middle;\n",
       "    }\n",
       "\n",
       "    .dataframe tbody tr th {\n",
       "        vertical-align: top;\n",
       "    }\n",
       "\n",
       "    .dataframe thead th {\n",
       "        text-align: right;\n",
       "    }\n",
       "</style>\n",
       "<table border=\"1\" class=\"dataframe\">\n",
       "  <thead>\n",
       "    <tr style=\"text-align: right;\">\n",
       "      <th></th>\n",
       "      <th>Freq</th>\n",
       "      <th>Measurements</th>\n",
       "      <th>dB</th>\n",
       "    </tr>\n",
       "  </thead>\n",
       "  <tbody>\n",
       "    <tr>\n",
       "      <th>200</th>\n",
       "      <td>20.5078</td>\n",
       "      <td>On Axis</td>\n",
       "      <td>55.7961</td>\n",
       "    </tr>\n",
       "    <tr>\n",
       "      <th>201</th>\n",
       "      <td>21.2402</td>\n",
       "      <td>On Axis</td>\n",
       "      <td>51.9241</td>\n",
       "    </tr>\n",
       "    <tr>\n",
       "      <th>202</th>\n",
       "      <td>21.9727</td>\n",
       "      <td>On Axis</td>\n",
       "      <td>53.8309</td>\n",
       "    </tr>\n",
       "    <tr>\n",
       "      <th>203</th>\n",
       "      <td>22.7051</td>\n",
       "      <td>On Axis</td>\n",
       "      <td>55.0830</td>\n",
       "    </tr>\n",
       "    <tr>\n",
       "      <th>204</th>\n",
       "      <td>23.4375</td>\n",
       "      <td>On Axis</td>\n",
       "      <td>41.6382</td>\n",
       "    </tr>\n",
       "    <tr>\n",
       "      <th>205</th>\n",
       "      <td>24.1699</td>\n",
       "      <td>On Axis</td>\n",
       "      <td>43.5598</td>\n",
       "    </tr>\n",
       "    <tr>\n",
       "      <th>206</th>\n",
       "      <td>25.6348</td>\n",
       "      <td>On Axis</td>\n",
       "      <td>51.0286</td>\n",
       "    </tr>\n",
       "    <tr>\n",
       "      <th>207</th>\n",
       "      <td>26.3672</td>\n",
       "      <td>On Axis</td>\n",
       "      <td>53.8528</td>\n",
       "    </tr>\n",
       "    <tr>\n",
       "      <th>208</th>\n",
       "      <td>27.0996</td>\n",
       "      <td>On Axis</td>\n",
       "      <td>56.2727</td>\n",
       "    </tr>\n",
       "    <tr>\n",
       "      <th>209</th>\n",
       "      <td>27.8320</td>\n",
       "      <td>On Axis</td>\n",
       "      <td>58.5374</td>\n",
       "    </tr>\n",
       "    <tr>\n",
       "      <th>210</th>\n",
       "      <td>29.2969</td>\n",
       "      <td>On Axis</td>\n",
       "      <td>62.8715</td>\n",
       "    </tr>\n",
       "    <tr>\n",
       "      <th>211</th>\n",
       "      <td>30.0293</td>\n",
       "      <td>On Axis</td>\n",
       "      <td>64.8173</td>\n",
       "    </tr>\n",
       "    <tr>\n",
       "      <th>212</th>\n",
       "      <td>31.4941</td>\n",
       "      <td>On Axis</td>\n",
       "      <td>67.5426</td>\n",
       "    </tr>\n",
       "    <tr>\n",
       "      <th>213</th>\n",
       "      <td>32.2266</td>\n",
       "      <td>On Axis</td>\n",
       "      <td>68.6791</td>\n",
       "    </tr>\n",
       "  </tbody>\n",
       "</table>\n",
       "</div>"
      ],
      "text/plain": [
       "        Freq Measurements       dB\n",
       "200  20.5078      On Axis  55.7961\n",
       "201  21.2402      On Axis  51.9241\n",
       "202  21.9727      On Axis  53.8309\n",
       "203  22.7051      On Axis  55.0830\n",
       "204  23.4375      On Axis  41.6382\n",
       "205  24.1699      On Axis  43.5598\n",
       "206  25.6348      On Axis  51.0286\n",
       "207  26.3672      On Axis  53.8528\n",
       "208  27.0996      On Axis  56.2727\n",
       "209  27.8320      On Axis  58.5374\n",
       "210  29.2969      On Axis  62.8715\n",
       "211  30.0293      On Axis  64.8173\n",
       "212  31.4941      On Axis  67.5426\n",
       "213  32.2266      On Axis  68.6791"
      ]
     },
     "execution_count": 109,
     "metadata": {},
     "output_type": "execute_result"
    }
   ],
   "source": [
    "dfu.loc[(dfu.Freq<300) & (dfu.dB<70)]"
   ]
  }
 ],
 "metadata": {
  "kernelspec": {
   "display_name": "Python 3",
   "language": "python",
   "name": "python3"
  },
  "language_info": {
   "codemirror_mode": {
    "name": "ipython",
    "version": 3
   },
   "file_extension": ".py",
   "mimetype": "text/x-python",
   "name": "python",
   "nbconvert_exporter": "python",
   "pygments_lexer": "ipython3",
   "version": "3.7.6"
  }
 },
 "nbformat": 4,
 "nbformat_minor": 4
}
