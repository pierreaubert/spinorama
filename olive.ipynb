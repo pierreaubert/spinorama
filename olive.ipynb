{
 "cells": [
  {
   "cell_type": "markdown",
   "metadata": {},
   "source": [
    "Compute some values from Spinorama following Olive&al"
   ]
  },
  {
   "cell_type": "code",
   "execution_count": 4,
   "metadata": {},
   "outputs": [
    {
     "name": "stderr",
     "output_type": "stream",
     "text": [
      "WARNING:root:Speaker: Neumann KH 80 (ASR) Not found: datas/ASR/Neumann KH 80/Directivity Index.txt\n"
     ]
    }
   ],
   "source": [
    "import math\n",
    "import pandas as pd\n",
    "import altair as alt\n",
    "import numpy as np\n",
    "from src.spinorama.load import parse_all_speakers, parse_graphs_speaker\n",
    "from src.spinorama.graph import graph_params_default\n",
    "\n",
    "# df = parse_graphs_speaker('Adam', 'Adam S2V', 'klippel')\n",
    "df = parse_graphs_speaker('Neumann', 'Neumann KH 80', 'klippel')\n",
    "# df = parse_graphs_speaker('Genelec', 'Genelec 8030A', 'princeton')\n",
    "# print(df)"
   ]
  },
  {
   "cell_type": "code",
   "execution_count": 5,
   "metadata": {},
   "outputs": [],
   "source": [
    "def octave(N):\n",
    "    \"\"\"compute 1/N octave band\"\"\"\n",
    "    p = pow(2,1/N)\n",
    "    p_band= pow(2,1/(2*N))\n",
    "    iter = int((N*10+1)/2)\n",
    "    center = [1000 / p**i for i in range(iter,0,-1)]+[1000*p**i for i in range(0,iter,1)]\n",
    "    return [(c/p_band,c*p_band) for c in center]\n",
    "\n",
    "octave20 = octave(20)\n",
    "\n",
    "\n"
   ]
  },
  {
   "cell_type": "code",
   "execution_count": 16,
   "metadata": {},
   "outputs": [
    {
     "name": "stdout",
     "output_type": "stream",
     "text": [
      "aad=0.6374662068965525\n",
      "nbd=0.32108885482643135\n",
      "lfx=1.722094009070862\n",
      "lfq=0.3184897959183667\n"
     ]
    }
   ],
   "source": [
    "def aad(dfu):\n",
    "    # mean betwenn 200hz and 400hz\n",
    "    y_ref = np.mean(dfu.loc[(dfu.Freq>=200) & (dfu.Freq<=400)].dB)\n",
    "    #print(y_ref)\n",
    "    sum = 0\n",
    "    n = 0\n",
    "    # 1/20 octave\n",
    "    for (omin, omax) in octave(20):\n",
    "        # 100hz to 16k hz\n",
    "        if omin < 100:\n",
    "            continue\n",
    "        if omax > 16000:\n",
    "            break\n",
    "        sum += abs(y_ref-np.mean(dfu.loc[(dfu.Freq>=omin) & (dfu.Freq<omax)].dB))\n",
    "        n += 1\n",
    "    return sum/n\n",
    "\n",
    "def nbd(dfu):\n",
    "    sum = 0\n",
    "    n = 0\n",
    "    # 1/2 octave\n",
    "    for (omin, omax) in octave(2):\n",
    "        # 100hz to 12k hz\n",
    "        if omin < 100:\n",
    "            continue\n",
    "        if omax > 12000:\n",
    "            break\n",
    "        y = dfu.loc[(dfu.Freq>=omin) & (dfu.Freq<omax)].dB\n",
    "        y_avg = np.mean(y)\n",
    "        # don't sample, take all points in this octave\n",
    "        sum += np.mean(np.abs(y_avg-y))\n",
    "        n += 1\n",
    "    return sum/n\n",
    "\n",
    "def lfx(lw, sp):\n",
    "    y_ref = np.mean(lw.loc[(lw.Freq>=300) & (lw.Freq<=10000)].dB)-6\n",
    "    # find first freq such that y[freq]<y_ref-6dB\n",
    "    y = math.log10(sp.loc[(sp.Freq<300)&(sp.dB<y_ref)].Freq.max())\n",
    "    return y\n",
    "\n",
    "def lfq(lw, sp, lfx_log):\n",
    "    lfx = pow(10,lfx_log)\n",
    "    sum = 0\n",
    "    n = 0\n",
    "    for (omin, omax) in octave(20):\n",
    "        # 100hz to 12k hz\n",
    "        if omin < lfx:\n",
    "            continue\n",
    "        if omax > 300:\n",
    "            break\n",
    "        y_lw = np.mean(lw.loc[(lw.Freq>=omin) & (lw.Freq<omax)].dB)\n",
    "        y_sp = np.mean(sp.loc[(sp.Freq>=omin) & (sp.Freq<omax)].dB)\n",
    "        sum += abs(y_lw-y_sp)\n",
    "        n += 1\n",
    "    return sum/n\n",
    "    \n",
    "df_onaxis = df['CEA2034'].loc[lambda df: df.Measurements == 'On Axis']\n",
    "df_lw = df['CEA2034'].loc[lambda df: df.Measurements == 'Listening Window']\n",
    "df_sp = df['CEA2034'].loc[lambda df: df.Measurements == 'Sound Power']\n",
    "\n",
    "print('aad={0}'.format(aad(df_onaxis)))\n",
    "print('nbd={0}'.format(nbd(df_onaxis)))\n",
    "lfx_value = lfx(df_lw, df_sp)\n",
    "print('lfx={0}'.format(lfx_value))\n",
    "print('lfq={0}'.format(lfq(df_lw, df_sp, lfx_value)))"
   ]
  }
 ],
 "metadata": {
  "kernelspec": {
   "display_name": "Python 3",
   "language": "python",
   "name": "python3"
  },
  "language_info": {
   "codemirror_mode": {
    "name": "ipython",
    "version": 3
   },
   "file_extension": ".py",
   "mimetype": "text/x-python",
   "name": "python",
   "nbconvert_exporter": "python",
   "pygments_lexer": "ipython3",
   "version": "3.7.6"
  }
 },
 "nbformat": 4,
 "nbformat_minor": 4
}
