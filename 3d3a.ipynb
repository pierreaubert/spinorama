{
 "cells": [
  {
   "cell_type": "code",
   "execution_count": null,
   "metadata": {},
   "outputs": [],
   "source": [
    "import pandas as pd\n",
    "from scipy.io import loadmat\n",
    "import altair as alt\n",
    "import numpy as np\n",
    "import math\n",
    "from scipy.interpolate import InterpolatedUnivariateSpline\n",
    "from src.spinorama.load import graph_melt, parse_graph_freq_princeton_mat\n",
    "from src.spinorama.graph import graph_freq, graph_params_default\n",
    "from src.spinorama.analysis import compute_cea2034\n",
    "\n",
    "\n",
    "alt.data_transformers.disable_max_rows()"
   ]
  },
  {
   "cell_type": "code",
   "execution_count": null,
   "metadata": {},
   "outputs": [],
   "source": [
    "#h_mat = loadmat(\"datas/Princeton/Genelec 8351A/Genelec8351A_H_IR.mat\")\n",
    "#v_mat = loadmat(\"datas/Princeton/Genelec 8351A/Genelec8351A_V_IR.mat\")\n",
    "# h_mat = loadmat(\"datas/Princeton/Genelec 8030A/Genelec_H_IR.mat\")\n",
    "# v_mat = loadmat(\"datas/Princeton/Genelec 8030A/Genelec_V_IR.mat\")\n",
    "#h_mat = loadmat(\"datas/Princeton/KEF LS50/KEF50_H_IR.mat\")\n",
    "#v_mat = loadmat(\"datas/Princeton/KEF LS50/KEF50_V_IR.mat\")\n",
    "h_mat = loadmat(\"datas/Princeton/Avantgarde Acoustic Solo/Avantgarde_H_IR.mat\")\n",
    "v_mat = loadmat(\"datas/Princeton/Avantgarde Acoustic Solo/Avantgarde_V_IR.mat\")\n",
    "\n",
    "h_spl = parse_graph_freq_princeton_mat(h_mat, 'H')\n",
    "v_spl = parse_graph_freq_princeton_mat(v_mat, 'V')"
   ]
  },
  {
   "cell_type": "code",
   "execution_count": null,
   "metadata": {},
   "outputs": [],
   "source": [
    "v_spl"
   ]
  },
  {
   "cell_type": "code",
   "execution_count": null,
   "metadata": {},
   "outputs": [],
   "source": [
    "cea2034_unmelted = compute_cea2034(h_spl, v_spl)\n",
    "cea2034 = graph_melt(cea2034_unmelted)\n",
    "\n",
    "params = graph_params_default\n",
    "params['xmin'] = 500\n",
    "chart_cea2034 = graph_freq(cea2034, graph_params=params)\n",
    "\n",
    "chart_cea2034\n"
   ]
  },
  {
   "cell_type": "code",
   "execution_count": null,
   "metadata": {},
   "outputs": [],
   "source": [
    "chart_early_reflections = alt.Chart(early_reflections).transform_filter(\n",
    "    'datum.Freq>500 && datum.Freq<20000'\n",
    ").mark_line(\n",
    ").encode(\n",
    "    alt.X('Freq:Q', scale=alt.Scale(type=\"log\")), \n",
    "    alt.Y('dB:Q', scale=alt.Scale(domain=[60,105])),\n",
    "    alt.Color('Measurements:N')\n",
    ").properties(\n",
    "    width=900,\n",
    "    height=400\n",
    ")\n",
    "\n",
    "chart_vertical_reflections = alt.Chart(vertical_reflections).transform_filter(\n",
    "    'datum.Freq>500 && datum.Freq<20000'\n",
    ").mark_line(\n",
    ").encode(\n",
    "    alt.X('Freq:Q', scale=alt.Scale(type=\"log\")), \n",
    "    alt.Y('dB:Q', scale=alt.Scale(domain=[60,105])),\n",
    "    alt.Color('Measurements:N')\n",
    ").properties(\n",
    "    width=900,\n",
    "    height=400\n",
    ")\n",
    "\n",
    "chart_horizontal_reflections = alt.Chart(horizontal_reflections).transform_filter(\n",
    "    'datum.Freq>500 && datum.Freq<20000'\n",
    ").mark_line(\n",
    ").encode(\n",
    "    alt.X('Freq:Q', scale=alt.Scale(type=\"log\")), \n",
    "    alt.Y('dB:Q', scale=alt.Scale(domain=[60,95])),\n",
    "    alt.Color('Measurements:N')\n",
    ").properties(\n",
    "    width=900,\n",
    "    height=400\n",
    ")\n",
    "\n",
    "\n",
    "chart_cea2034 \n",
    "# chart_early_reflections\n",
    "# chart_vertical_reflections\n",
    "# chart_horizontal_reflections\n"
   ]
  },
  {
   "cell_type": "code",
   "execution_count": null,
   "metadata": {},
   "outputs": [],
   "source": []
  },
  {
   "cell_type": "code",
   "execution_count": null,
   "metadata": {},
   "outputs": [],
   "source": [
    "v_mat"
   ]
  }
 ],
 "metadata": {
  "kernelspec": {
   "display_name": "Python 3",
   "language": "python",
   "name": "python3"
  },
  "language_info": {
   "codemirror_mode": {
    "name": "ipython",
    "version": 3
   },
   "file_extension": ".py",
   "mimetype": "text/x-python",
   "name": "python",
   "nbconvert_exporter": "python",
   "pygments_lexer": "ipython3",
   "version": "3.7.6"
  }
 },
 "nbformat": 4,
 "nbformat_minor": 4
}
