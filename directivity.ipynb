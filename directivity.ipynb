{
 "cells": [
  {
   "cell_type": "code",
   "execution_count": null,
   "metadata": {},
   "outputs": [],
   "source": [
    "import math\n",
    "import pandas as pd\n",
    "import altair as alt\n",
    "import numpy as np\n",
    "from src.spinorama.load import parse_all_speakers, parse_graphs_speaker\n",
    "from src.spinorama.graph import radar_params_default\n",
    "\n",
    "df1 = parse_graphs_speaker('Adam', 'Adam S2V', 'klippel')\n",
    "df2 = parse_graphs_speaker('Klipsch', 'Klipsch R41M', 'klippel')\n",
    "df3 = parse_graphs_speaker('JBL', 'JBL 104', 'klippel')\n",
    "df4 = parse_graphs_speaker('Genelec', 'Genelec 8341A', 'klippel')\n",
    "df5 = parse_graphs_speaker('Sanders\\ Sound\\ Systems', 'Sanders\\ Sound\\ Systems\\ Model\\ 11', 'princeton')"
   ]
  },
  {
   "cell_type": "code",
   "execution_count": null,
   "metadata": {},
   "outputs": [],
   "source": [
    "def normalize1(df):\n",
    "    for k in df.keys():\n",
    "        if k == 'Freq' or k == 'On Axis':\n",
    "            continue\n",
    "        df[k] -= df['On Axis']\n",
    "    df['On Axis'] = 0\n",
    "    return df\n",
    "\n",
    "def normalize2(df):\n",
    "    return df-df.mean()\n",
    "\n",
    "def directivity(df):    \n",
    "    r = np.floor(np.logspace(1.0+math.log10(2), 4.0+math.log10(2), 200))\n",
    "    x, y = np.meshgrid(r, r)\n",
    "    \n",
    "    splV = df['SPL Vertical_unmelted'].set_index('Freq')\n",
    "    splH = df['SPL Horizontal_unmelted'].set_index('Freq')\n",
    "    \n",
    "    z = splV.dot(splH.T)/np.sqrt(splV.dot(splV.T) * splH.dot(splH.T))-1\n",
    "\n",
    "    source = pd.DataFrame({'x': x.ravel(), 'y': y.ravel(),'z': z.melt().value})\n",
    "\n",
    "    return alt.Chart(source).mark_rect().encode(\n",
    "        x=alt.X('x:O', scale=alt.Scale(type='log')),\n",
    "        y=alt.Y('y:O', scale=alt.Scale(type='log')),\n",
    "        color=alt.Color('z:Q', scale=alt.Scale(scheme='spectral', nice=True))\n",
    "    ).properties(width=200, height=200)\n",
    "\n",
    "g1 = directivity(df1).properties(title='Adam S2V')\n",
    "g2 = directivity(df2).properties(title='Klipsch R41M')\n",
    "g3 = directivity(df3).properties(title='JBL 104')\n",
    "g4 = directivity(df4).properties(title='Genelec 8341A')\n",
    "#g5 = directivity(df5)\n",
    "(g1 | g2) & (g3 | g4)\n",
    "#g3"
   ]
  },
  {
   "cell_type": "code",
   "execution_count": null,
   "metadata": {},
   "outputs": [],
   "source": [
    "a = [[1,2], [3,4], [5,6]]\n",
    "at = np.transpose(a)\n",
    "ad = np.dot(a, at)\n",
    "a2 = np.linalg.norm(a2)\n",
    "ad / a2"
   ]
  }
 ],
 "metadata": {
  "kernelspec": {
   "display_name": "Python 3",
   "language": "python",
   "name": "python3"
  },
  "language_info": {
   "codemirror_mode": {
    "name": "ipython",
    "version": 3
   },
   "file_extension": ".py",
   "mimetype": "text/x-python",
   "name": "python",
   "nbconvert_exporter": "python",
   "pygments_lexer": "ipython3",
   "version": "3.7.6"
  }
 },
 "nbformat": 4,
 "nbformat_minor": 4
}
