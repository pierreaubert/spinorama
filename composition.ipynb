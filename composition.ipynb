{
 "cells": [
  {
   "cell_type": "code",
   "execution_count": null,
   "metadata": {},
   "outputs": [],
   "source": [
    "import numpy as np\n",
    "import pandas as pd\n",
    "import altair as alt\n",
    "import math"
   ]
  },
  {
   "cell_type": "code",
   "execution_count": null,
   "metadata": {},
   "outputs": [],
   "source": [
    "x = np.linspace(0,10,20)"
   ]
  },
  {
   "cell_type": "code",
   "execution_count": null,
   "metadata": {},
   "outputs": [],
   "source": [
    "y1 = [x*x for x in x]\n",
    "y2 = [math.cos(x)*x for x in x]"
   ]
  },
  {
   "cell_type": "code",
   "execution_count": null,
   "metadata": {},
   "outputs": [],
   "source": [
    "df1 = pd.DataFrame({'x': x, 'y': y1})\n",
    "df2 = pd.DataFrame({'x': x, 'y': y2})"
   ]
  },
  {
   "cell_type": "code",
   "execution_count": null,
   "metadata": {},
   "outputs": [],
   "source": [
    "w = 800\n",
    "h = 100\n",
    "spacing=20\n",
    "w2 = (w-spacing*3)/2\n",
    "w3 = (w-spacing*6)/3\n",
    "p1 = alt.Chart(df1).mark_line().encode(\n",
    "    alt.X('x'), alt.Y('y'), \n",
    ").properties(width=w, height=h, title='I am p1')\n",
    "p2 = alt.Chart(df2).mark_line().encode(\n",
    "    alt.X('x'), alt.Y('y')\n",
    ").properties(width=w2, height=h, title='I am p2')\n",
    "p3 = alt.Chart(df2).mark_line().encode(\n",
    "    alt.X('x'), alt.Y('y')\n",
    ").properties(width=w3, height=h, title='I am p3')\n",
    "\n",
    "alt.vconcat(alt.hconcat(p3,p3,p3), alt.hconcat(p2,p2), p1).properties(title='composition')"
   ]
  }
 ],
 "metadata": {
  "kernelspec": {
   "display_name": "Python 3",
   "language": "python",
   "name": "python3"
  },
  "language_info": {
   "codemirror_mode": {
    "name": "ipython",
    "version": 3
   },
   "file_extension": ".py",
   "mimetype": "text/x-python",
   "name": "python",
   "nbconvert_exporter": "python",
   "pygments_lexer": "ipython3",
   "version": "3.7.6"
  }
 },
 "nbformat": 4,
 "nbformat_minor": 4
}
