{
 "cells": [
  {
   "cell_type": "markdown",
   "metadata": {},
   "source": [
    "How is the pref score changing with noisy data (or smoother data)"
   ]
  },
  {
   "cell_type": "code",
   "execution_count": 28,
   "metadata": {},
   "outputs": [
    {
     "name": "stdout",
     "output_type": "stream",
     "text": [
      "303 loaded\n"
     ]
    }
   ],
   "source": [
    "import math\n",
    "import pandas as pd\n",
    "import altair as alt\n",
    "import numpy as np\n",
    "\n",
    "import sys, os, os.path\n",
    "\n",
    "sys.path.append(os.path.expanduser(\"../src\"))\n",
    "sys.path.append(os.path.expanduser(\"../\"))\n",
    "\n",
    "from spinorama.compute_cea2034 import estimated_inroom\n",
    "from spinorama.compute_scores import scores\n",
    "from spinorama.graph import graph_params_default, graph_freq, graph_spinorama\n",
    "from spinorama.load import filter_graphs, load_normalize\n",
    "from generate_common import cache_load\n",
    "\n",
    "df_all = cache_load(smoke_test=False)\n",
    "print(\"{} loaded\".format(len(df_all.keys())))"
   ]
  },
  {
   "cell_type": "markdown",
   "metadata": {},
   "source": [
    "Test 2 strategies: add noise and smooth by average over a rolling window"
   ]
  },
  {
   "cell_type": "code",
   "execution_count": 29,
   "metadata": {},
   "outputs": [],
   "source": [
    "def noise(df, amp):\n",
    "    sdf = df.copy()\n",
    "    l = len(sdf.Freq.values)\n",
    "    for c in sdf.columns:\n",
    "        if c != \"Freq\":\n",
    "            sdf[c] += amp * (np.random.rand(l) - 0.5)\n",
    "    return sdf\n",
    "\n",
    "\n",
    "def smooth(df, amp):\n",
    "    sdf = df.copy()\n",
    "    l = len(sdf.Freq.values)\n",
    "    for c in sdf.columns:\n",
    "        if c != \"Freq\":\n",
    "            sdf[c] = sdf[c].rolling(amp).mean()\n",
    "    sdf.fillna(df)\n",
    "    return sdf"
   ]
  },
  {
   "cell_type": "code",
   "execution_count": 30,
   "metadata": {},
   "outputs": [],
   "source": [
    "def eval_score_noise(df_all, speaker, origin, version, amplitude):\n",
    "    df_klippel = df_all[speaker][origin][version]\n",
    "    spl_H = noise(df_klippel[\"SPL Horizontal_unmelted\"], amplitude)\n",
    "    spl_V = noise(df_klippel[\"SPL Vertical_unmelted\"], amplitude)\n",
    "    df_smoothed = load_normalize(filter_graphs(speaker, spl_H, spl_V))\n",
    "    return scores(df_smoothed)[\"pref_score\"]\n",
    "\n",
    "\n",
    "def eval_score_smooth(df_all, speaker, origin, version, amplitude):\n",
    "    df_klippel = df_all[speaker][origin][version]\n",
    "    if amplitude == 0:\n",
    "        spl_H = df_klippel[\"SPL Horizontal_unmelted\"]\n",
    "        spl_V = df_klippel[\"SPL Vertical_unmelted\"]\n",
    "    else:\n",
    "        spl_H = smooth(df_klippel[\"SPL Horizontal_unmelted\"], amplitude)\n",
    "        spl_V = smooth(df_klippel[\"SPL Vertical_unmelted\"], amplitude)\n",
    "    df_smoothed = load_normalize(filter_graphs(speaker, spl_H, spl_V))\n",
    "    return scores(df_smoothed)[\"pref_score\"]"
   ]
  },
  {
   "cell_type": "code",
   "execution_count": 31,
   "metadata": {},
   "outputs": [],
   "source": [
    "speakers = [\"Adam S2V\", \"Emotiva Airmotiv B1+\", \"Genelec 8030C\", \"Dutch Dutch 8C\"]\n",
    "origins = [\"ASR\", \"ASR\", \"ASR\", \"ErinsAudioCorner\"]\n",
    "versions = [\"asr\", \"asr\", \"asr\", \"eac\"]"
   ]
  },
  {
   "cell_type": "code",
   "execution_count": 32,
   "metadata": {},
   "outputs": [],
   "source": [
    "range_noise = np.linspace(0, 3, 12)\n",
    "range_smooth = [0, 2, 3, 4, 5, 6, 7, 8, 9, 10, 11, 12, 13, 14, 15, 20, 30]"
   ]
  },
  {
   "cell_type": "code",
   "execution_count": 33,
   "metadata": {},
   "outputs": [],
   "source": [
    "df_noise = pd.DataFrame({\"Amplitude\": range_noise})\n",
    "df_smooth = pd.DataFrame({\"Window\": range_smooth})\n",
    "\n",
    "for speaker, origin, version in zip(speakers, origins, versions, strict=False):\n",
    "    res_noise = [(a, eval_score_noise(df_all, speaker, origin, version, a)) for a in range_noise]\n",
    "    df_noise[speaker] = [j for i, j in res_noise]\n",
    "    res_smooth = [(a, eval_score_smooth(df_all, speaker, origin, version, a)) for a in range_smooth]\n",
    "    df_smooth[speaker] = [j for i, j in res_smooth]"
   ]
  },
  {
   "cell_type": "code",
   "execution_count": 34,
   "metadata": {},
   "outputs": [],
   "source": [
    "chart_noise = (\n",
    "    alt.Chart(df_noise.melt(\"Amplitude\", var_name=\"Speakers\", value_name=\"Score\"))\n",
    "    .mark_line()\n",
    "    .encode(\n",
    "        x=alt.X(\"Amplitude:N\", axis=alt.Axis(format=\".1f\", title=\"Noise amplitude (dB)\")),\n",
    "        y=alt.Y(\"Score:Q\", scale=alt.Scale(domain=[4, 9])),\n",
    "        color=alt.Color(\"Speakers:N\"),\n",
    "    )\n",
    "    .properties(width=400, title=\"Score v.s. Noise\")\n",
    ")\n",
    "chart_smooth = (\n",
    "    alt.Chart(df_smooth.melt(\"Window\", var_name=\"Speakers\", value_name=\"Score\"))\n",
    "    .mark_line()\n",
    "    .encode(\n",
    "        x=alt.X(\"Window:N\", axis=alt.Axis(title=\"Size of the rolling window\")),\n",
    "        y=alt.Y(\"Score:Q\", scale=alt.Scale(domain=[4, 9])),\n",
    "        color=alt.Color(\"Speakers:N\"),\n",
    "    )\n",
    "    .properties(width=400, title=\"Score v.s. Smoothing\")\n",
    ")"
   ]
  },
  {
   "cell_type": "code",
   "execution_count": 35,
   "metadata": {},
   "outputs": [
    {
     "data": {
      "text/html": [
       "\n",
       "<div id=\"altair-viz-b75ab77db62b4e17839c359efa6061fb\"></div>\n",
       "<script type=\"text/javascript\">\n",
       "  (function(spec, embedOpt){\n",
       "    let outputDiv = document.currentScript.previousElementSibling;\n",
       "    if (outputDiv.id !== \"altair-viz-b75ab77db62b4e17839c359efa6061fb\") {\n",
       "      outputDiv = document.getElementById(\"altair-viz-b75ab77db62b4e17839c359efa6061fb\");\n",
       "    }\n",
       "    const paths = {\n",
       "      \"vega\": \"https://cdn.jsdelivr.net/npm//vega@5?noext\",\n",
       "      \"vega-lib\": \"https://cdn.jsdelivr.net/npm//vega-lib?noext\",\n",
       "      \"vega-lite\": \"https://cdn.jsdelivr.net/npm//vega-lite@4.8.1?noext\",\n",
       "      \"vega-embed\": \"https://cdn.jsdelivr.net/npm//vega-embed@6?noext\",\n",
       "    };\n",
       "\n",
       "    function loadScript(lib) {\n",
       "      return new Promise(function(resolve, reject) {\n",
       "        var s = document.createElement('script');\n",
       "        s.src = paths[lib];\n",
       "        s.async = true;\n",
       "        s.onload = () => resolve(paths[lib]);\n",
       "        s.onerror = () => reject(`Error loading script: ${paths[lib]}`);\n",
       "        document.getElementsByTagName(\"head\")[0].appendChild(s);\n",
       "      });\n",
       "    }\n",
       "\n",
       "    function showError(err) {\n",
       "      outputDiv.innerHTML = `<div class=\"error\" style=\"color:red;\">${err}</div>`;\n",
       "      throw err;\n",
       "    }\n",
       "\n",
       "    function displayChart(vegaEmbed) {\n",
       "      vegaEmbed(outputDiv, spec, embedOpt)\n",
       "        .catch(err => showError(`Javascript Error: ${err.message}<br>This usually means there's a typo in your chart specification. See the javascript console for the full traceback.`));\n",
       "    }\n",
       "\n",
       "    if(typeof define === \"function\" && define.amd) {\n",
       "      requirejs.config({paths});\n",
       "      require([\"vega-embed\"], displayChart, err => showError(`Error loading script: ${err.message}`));\n",
       "    } else if (typeof vegaEmbed === \"function\") {\n",
       "      displayChart(vegaEmbed);\n",
       "    } else {\n",
       "      loadScript(\"vega\")\n",
       "        .then(() => loadScript(\"vega-lite\"))\n",
       "        .then(() => loadScript(\"vega-embed\"))\n",
       "        .catch(showError)\n",
       "        .then(() => displayChart(vegaEmbed));\n",
       "    }\n",
       "  })({\"config\": {\"view\": {\"continuousWidth\": 400, \"continuousHeight\": 300}}, \"hconcat\": [{\"data\": {\"name\": \"data-a3db4f37d42400423a95337a01e17fd8\"}, \"mark\": \"line\", \"encoding\": {\"color\": {\"type\": \"nominal\", \"field\": \"Speakers\"}, \"x\": {\"type\": \"nominal\", \"axis\": {\"format\": \".1f\", \"title\": \"Noise amplitude (dB)\"}, \"field\": \"Amplitude\"}, \"y\": {\"type\": \"quantitative\", \"field\": \"Score\", \"scale\": {\"domain\": [4, 9]}}}, \"title\": \"Score v.s. Noise\", \"width\": 400}, {\"data\": {\"name\": \"data-2a9cecc4e7cec965350b078080bd9872\"}, \"mark\": \"line\", \"encoding\": {\"color\": {\"type\": \"nominal\", \"field\": \"Speakers\"}, \"x\": {\"type\": \"nominal\", \"axis\": {\"title\": \"Size of the rolling window\"}, \"field\": \"Window\"}, \"y\": {\"type\": \"quantitative\", \"field\": \"Score\", \"scale\": {\"domain\": [4, 9]}}}, \"title\": \"Score v.s. Smoothing\", \"width\": 400}], \"$schema\": \"https://vega.github.io/schema/vega-lite/v4.8.1.json\", \"datasets\": {\"data-a3db4f37d42400423a95337a01e17fd8\": [{\"Amplitude\": 0.0, \"Speakers\": \"Adam S2V\", \"Score\": 5.5}, {\"Amplitude\": 0.2727272727272727, \"Speakers\": \"Adam S2V\", \"Score\": 5.5}, {\"Amplitude\": 0.5454545454545454, \"Speakers\": \"Adam S2V\", \"Score\": 5.5}, {\"Amplitude\": 0.8181818181818181, \"Speakers\": \"Adam S2V\", \"Score\": 5.4}, {\"Amplitude\": 1.0909090909090908, \"Speakers\": \"Adam S2V\", \"Score\": 5.4}, {\"Amplitude\": 1.3636363636363635, \"Speakers\": \"Adam S2V\", \"Score\": 5.4}, {\"Amplitude\": 1.6363636363636362, \"Speakers\": \"Adam S2V\", \"Score\": 5.3}, {\"Amplitude\": 1.909090909090909, \"Speakers\": \"Adam S2V\", \"Score\": 5.2}, {\"Amplitude\": 2.1818181818181817, \"Speakers\": \"Adam S2V\", \"Score\": 5.2}, {\"Amplitude\": 2.454545454545454, \"Speakers\": \"Adam S2V\", \"Score\": 5.0}, {\"Amplitude\": 2.727272727272727, \"Speakers\": \"Adam S2V\", \"Score\": 4.9}, {\"Amplitude\": 3.0, \"Speakers\": \"Adam S2V\", \"Score\": 4.7}, {\"Amplitude\": 0.0, \"Speakers\": \"Emotiva Airmotiv B1+\", \"Score\": 4.7}, {\"Amplitude\": 0.2727272727272727, \"Speakers\": \"Emotiva Airmotiv B1+\", \"Score\": 4.7}, {\"Amplitude\": 0.5454545454545454, \"Speakers\": \"Emotiva Airmotiv B1+\", \"Score\": 4.6}, {\"Amplitude\": 0.8181818181818181, \"Speakers\": \"Emotiva Airmotiv B1+\", \"Score\": 4.6}, {\"Amplitude\": 1.0909090909090908, \"Speakers\": \"Emotiva Airmotiv B1+\", \"Score\": 4.6}, {\"Amplitude\": 1.3636363636363635, \"Speakers\": \"Emotiva Airmotiv B1+\", \"Score\": 4.6}, {\"Amplitude\": 1.6363636363636362, \"Speakers\": \"Emotiva Airmotiv B1+\", \"Score\": 4.5}, {\"Amplitude\": 1.909090909090909, \"Speakers\": \"Emotiva Airmotiv B1+\", \"Score\": 4.4}, {\"Amplitude\": 2.1818181818181817, \"Speakers\": \"Emotiva Airmotiv B1+\", \"Score\": 4.3}, {\"Amplitude\": 2.454545454545454, \"Speakers\": \"Emotiva Airmotiv B1+\", \"Score\": 4.3}, {\"Amplitude\": 2.727272727272727, \"Speakers\": \"Emotiva Airmotiv B1+\", \"Score\": 4.2}, {\"Amplitude\": 3.0, \"Speakers\": \"Emotiva Airmotiv B1+\", \"Score\": 4.1}, {\"Amplitude\": 0.0, \"Speakers\": \"Genelec 8030C\", \"Score\": 6.3}, {\"Amplitude\": 0.2727272727272727, \"Speakers\": \"Genelec 8030C\", \"Score\": 6.3}, {\"Amplitude\": 0.5454545454545454, \"Speakers\": \"Genelec 8030C\", \"Score\": 6.2}, {\"Amplitude\": 0.8181818181818181, \"Speakers\": \"Genelec 8030C\", \"Score\": 6.2}, {\"Amplitude\": 1.0909090909090908, \"Speakers\": \"Genelec 8030C\", \"Score\": 6.1}, {\"Amplitude\": 1.3636363636363635, \"Speakers\": \"Genelec 8030C\", \"Score\": 6.0}, {\"Amplitude\": 1.6363636363636362, \"Speakers\": \"Genelec 8030C\", \"Score\": 5.9}, {\"Amplitude\": 1.909090909090909, \"Speakers\": \"Genelec 8030C\", \"Score\": 6.0}, {\"Amplitude\": 2.1818181818181817, \"Speakers\": \"Genelec 8030C\", \"Score\": 5.6}, {\"Amplitude\": 2.454545454545454, \"Speakers\": \"Genelec 8030C\", \"Score\": 5.7}, {\"Amplitude\": 2.727272727272727, \"Speakers\": \"Genelec 8030C\", \"Score\": 5.7}, {\"Amplitude\": 3.0, \"Speakers\": \"Genelec 8030C\", \"Score\": 5.4}, {\"Amplitude\": 0.0, \"Speakers\": \"Dutch Dutch 8C\", \"Score\": 7.4}, {\"Amplitude\": 0.2727272727272727, \"Speakers\": \"Dutch Dutch 8C\", \"Score\": 7.4}, {\"Amplitude\": 0.5454545454545454, \"Speakers\": \"Dutch Dutch 8C\", \"Score\": 7.3}, {\"Amplitude\": 0.8181818181818181, \"Speakers\": \"Dutch Dutch 8C\", \"Score\": 7.3}, {\"Amplitude\": 1.0909090909090908, \"Speakers\": \"Dutch Dutch 8C\", \"Score\": 7.2}, {\"Amplitude\": 1.3636363636363635, \"Speakers\": \"Dutch Dutch 8C\", \"Score\": 7.1}, {\"Amplitude\": 1.6363636363636362, \"Speakers\": \"Dutch Dutch 8C\", \"Score\": 7.1}, {\"Amplitude\": 1.909090909090909, \"Speakers\": \"Dutch Dutch 8C\", \"Score\": 7.1}, {\"Amplitude\": 2.1818181818181817, \"Speakers\": \"Dutch Dutch 8C\", \"Score\": 6.9}, {\"Amplitude\": 2.454545454545454, \"Speakers\": \"Dutch Dutch 8C\", \"Score\": 6.8}, {\"Amplitude\": 2.727272727272727, \"Speakers\": \"Dutch Dutch 8C\", \"Score\": 6.6}, {\"Amplitude\": 3.0, \"Speakers\": \"Dutch Dutch 8C\", \"Score\": 6.5}], \"data-2a9cecc4e7cec965350b078080bd9872\": [{\"Window\": 0, \"Speakers\": \"Adam S2V\", \"Score\": 5.5}, {\"Window\": 2, \"Speakers\": \"Adam S2V\", \"Score\": 5.8}, {\"Window\": 3, \"Speakers\": \"Adam S2V\", \"Score\": 6.0}, {\"Window\": 4, \"Speakers\": \"Adam S2V\", \"Score\": 6.2}, {\"Window\": 5, \"Speakers\": \"Adam S2V\", \"Score\": 6.2}, {\"Window\": 6, \"Speakers\": \"Adam S2V\", \"Score\": 6.3}, {\"Window\": 7, \"Speakers\": \"Adam S2V\", \"Score\": 6.3}, {\"Window\": 8, \"Speakers\": \"Adam S2V\", \"Score\": 6.3}, {\"Window\": 9, \"Speakers\": \"Adam S2V\", \"Score\": 6.4}, {\"Window\": 10, \"Speakers\": \"Adam S2V\", \"Score\": 6.4}, {\"Window\": 11, \"Speakers\": \"Adam S2V\", \"Score\": 6.5}, {\"Window\": 12, \"Speakers\": \"Adam S2V\", \"Score\": 6.5}, {\"Window\": 13, \"Speakers\": \"Adam S2V\", \"Score\": 6.5}, {\"Window\": 14, \"Speakers\": \"Adam S2V\", \"Score\": 6.5}, {\"Window\": 15, \"Speakers\": \"Adam S2V\", \"Score\": 6.5}, {\"Window\": 20, \"Speakers\": \"Adam S2V\", \"Score\": 6.4}, {\"Window\": 30, \"Speakers\": \"Adam S2V\", \"Score\": 5.6}, {\"Window\": 0, \"Speakers\": \"Emotiva Airmotiv B1+\", \"Score\": 4.7}, {\"Window\": 2, \"Speakers\": \"Emotiva Airmotiv B1+\", \"Score\": 4.9}, {\"Window\": 3, \"Speakers\": \"Emotiva Airmotiv B1+\", \"Score\": 5.1}, {\"Window\": 4, \"Speakers\": \"Emotiva Airmotiv B1+\", \"Score\": 5.2}, {\"Window\": 5, \"Speakers\": \"Emotiva Airmotiv B1+\", \"Score\": 5.4}, {\"Window\": 6, \"Speakers\": \"Emotiva Airmotiv B1+\", \"Score\": 5.4}, {\"Window\": 7, \"Speakers\": \"Emotiva Airmotiv B1+\", \"Score\": 5.5}, {\"Window\": 8, \"Speakers\": \"Emotiva Airmotiv B1+\", \"Score\": 5.6}, {\"Window\": 9, \"Speakers\": \"Emotiva Airmotiv B1+\", \"Score\": 5.7}, {\"Window\": 10, \"Speakers\": \"Emotiva Airmotiv B1+\", \"Score\": 5.8}, {\"Window\": 11, \"Speakers\": \"Emotiva Airmotiv B1+\", \"Score\": 5.8}, {\"Window\": 12, \"Speakers\": \"Emotiva Airmotiv B1+\", \"Score\": 5.9}, {\"Window\": 13, \"Speakers\": \"Emotiva Airmotiv B1+\", \"Score\": 5.9}, {\"Window\": 14, \"Speakers\": \"Emotiva Airmotiv B1+\", \"Score\": 5.9}, {\"Window\": 15, \"Speakers\": \"Emotiva Airmotiv B1+\", \"Score\": 5.8}, {\"Window\": 20, \"Speakers\": \"Emotiva Airmotiv B1+\", \"Score\": 5.5}, {\"Window\": 30, \"Speakers\": \"Emotiva Airmotiv B1+\", \"Score\": 4.1}, {\"Window\": 0, \"Speakers\": \"Genelec 8030C\", \"Score\": 6.3}, {\"Window\": 2, \"Speakers\": \"Genelec 8030C\", \"Score\": 6.4}, {\"Window\": 3, \"Speakers\": \"Genelec 8030C\", \"Score\": 6.4}, {\"Window\": 4, \"Speakers\": \"Genelec 8030C\", \"Score\": 6.5}, {\"Window\": 5, \"Speakers\": \"Genelec 8030C\", \"Score\": 6.4}, {\"Window\": 6, \"Speakers\": \"Genelec 8030C\", \"Score\": 6.5}, {\"Window\": 7, \"Speakers\": \"Genelec 8030C\", \"Score\": 6.5}, {\"Window\": 8, \"Speakers\": \"Genelec 8030C\", \"Score\": 6.5}, {\"Window\": 9, \"Speakers\": \"Genelec 8030C\", \"Score\": 6.5}, {\"Window\": 10, \"Speakers\": \"Genelec 8030C\", \"Score\": 6.5}, {\"Window\": 11, \"Speakers\": \"Genelec 8030C\", \"Score\": 6.5}, {\"Window\": 12, \"Speakers\": \"Genelec 8030C\", \"Score\": 6.4}, {\"Window\": 13, \"Speakers\": \"Genelec 8030C\", \"Score\": 6.5}, {\"Window\": 14, \"Speakers\": \"Genelec 8030C\", \"Score\": 6.5}, {\"Window\": 15, \"Speakers\": \"Genelec 8030C\", \"Score\": 6.5}, {\"Window\": 20, \"Speakers\": \"Genelec 8030C\", \"Score\": 6.3}, {\"Window\": 30, \"Speakers\": \"Genelec 8030C\", \"Score\": 5.2}, {\"Window\": 0, \"Speakers\": \"Dutch Dutch 8C\", \"Score\": 7.4}, {\"Window\": 2, \"Speakers\": \"Dutch Dutch 8C\", \"Score\": 7.6}, {\"Window\": 3, \"Speakers\": \"Dutch Dutch 8C\", \"Score\": 7.7}, {\"Window\": 4, \"Speakers\": \"Dutch Dutch 8C\", \"Score\": 7.9}, {\"Window\": 5, \"Speakers\": \"Dutch Dutch 8C\", \"Score\": 8.0}, {\"Window\": 6, \"Speakers\": \"Dutch Dutch 8C\", \"Score\": 8.1}, {\"Window\": 7, \"Speakers\": \"Dutch Dutch 8C\", \"Score\": 8.2}, {\"Window\": 8, \"Speakers\": \"Dutch Dutch 8C\", \"Score\": 8.2}, {\"Window\": 9, \"Speakers\": \"Dutch Dutch 8C\", \"Score\": 8.2}, {\"Window\": 10, \"Speakers\": \"Dutch Dutch 8C\", \"Score\": 8.3}, {\"Window\": 11, \"Speakers\": \"Dutch Dutch 8C\", \"Score\": 8.3}, {\"Window\": 12, \"Speakers\": \"Dutch Dutch 8C\", \"Score\": 8.3}, {\"Window\": 13, \"Speakers\": \"Dutch Dutch 8C\", \"Score\": 8.3}, {\"Window\": 14, \"Speakers\": \"Dutch Dutch 8C\", \"Score\": 8.4}, {\"Window\": 15, \"Speakers\": \"Dutch Dutch 8C\", \"Score\": 8.4}, {\"Window\": 20, \"Speakers\": \"Dutch Dutch 8C\", \"Score\": 8.5}, {\"Window\": 30, \"Speakers\": \"Dutch Dutch 8C\", \"Score\": 8.6}]}}, {\"mode\": \"vega-lite\"});\n",
       "</script>"
      ],
      "text/plain": [
       "alt.HConcatChart(...)"
      ]
     },
     "execution_count": 35,
     "metadata": {},
     "output_type": "execute_result"
    }
   ],
   "source": [
    "chart_noise | chart_smooth"
   ]
  },
  {
   "cell_type": "markdown",
   "metadata": {},
   "source": [
    "Can we estimates the smoothness of a curve?"
   ]
  },
  {
   "cell_type": "code",
   "execution_count": 69,
   "metadata": {},
   "outputs": [
    {
     "name": "stdout",
     "output_type": "stream",
     "text": [
      "         ErinsAudioCorner 0.006 0.010                                   Philharmonic BMR\n",
      "         ErinsAudioCorner 0.007 0.011                                       Revel F226be\n",
      "                Princeton 0.028 0.063                          Spendor Audio Systems SA1\n",
      "                Princeton 0.034 0.067                                           KEF LS50\n",
      "                Princeton 0.039 0.085                        Ascend Acoustics CBM-170 SE\n",
      "                     Misc 0.080 0.170                                   Philharmonic BMR\n",
      "              Vendors-JBL 0.083 0.200                                       JBL HDI-3600\n",
      "                     Misc 0.087 0.196                                       Revel M126Be\n",
      "         Vendors-Infinity 0.092 0.253                            Infinity Interlude IL10\n",
      "                     Misc 0.096 0.204                                     Dutch Dutch 8C\n",
      "            Vendors-Revel 0.101 0.188                                         Revel M105\n",
      "            Vendors-Revel 0.102 0.270                                         Revel M106\n",
      "              Vendors-KEF 0.107 0.210                                             KEF R3\n",
      "              Vendors-JBL 0.111 0.261                                       JBL HDI-1600\n",
      "                     Misc 0.112 0.247                                      Neumann KH 80\n",
      "            Vendors-Revel 0.113 0.250                                       Revel M126Be\n",
      "            Vendors-Revel 0.115 0.261                                          Revel F35\n",
      "            Vendors-Revel 0.116 0.251                                         Revel C208\n",
      "            Vendors-Revel 0.117 0.279                                       Revel F328be\n",
      "         ErinsAudioCorner 0.120 0.294                                Buchardt Audio S400\n",
      "      Vendors-BIC America 0.124 0.289                         BIC America Venturi DV62si\n",
      "            Vendors-Revel 0.124 0.263                                          Revel M16\n",
      "                     Misc 0.125 0.303                               Emotiva Airmotiv B1+\n",
      "                     Misc 0.128 0.298                                           KEF LS50\n",
      "            Vendors-Revel 0.130 0.219                                       Revel F226be\n",
      "                     Misc 0.134 0.338                          Spendor Audio Systems SA1\n",
      "         Vendors-Infinity 0.136 0.326                                      Infinity R162\n",
      "         Vendors-Infinity 0.140 0.312                                      Infinity R253\n",
      "                     Misc 0.145 0.340                                Buchardt Audio S400\n",
      "         Vendors-Infinity 0.147 0.322                                     Infinity RC263\n",
      "            Vendors-Revel 0.147 0.418                                         Revel F208\n",
      "                     Misc 0.147 0.334                                    JBL L82 Classic\n",
      "              Vendors-JBL 0.150 0.331                                    JBL L82 Classic\n",
      "                     Misc 0.176 0.450                                       JBL HDI-1600\n",
      "          Vendors-Neumann 0.176 0.592                                      Neumann KH 80\n",
      "         ErinsAudioCorner 0.207 0.426                                     Dutch Dutch 8C\n",
      "                     Misc 0.271 0.654                                       Magnepan LRS\n",
      "                     Misc 0.273 0.628                                            JBL 104\n",
      "         ErinsAudioCorner 0.285 0.469                                             KEF R3\n",
      "                      ASR 0.318 0.640                                          Revel F35\n",
      "                      ASR 0.339 0.815                                             KEF R3\n",
      "                      ASR 0.339 0.809                                         Revel M106\n",
      "                      ASR 0.354 1.122                                         Revel M105\n",
      "                      ASR 0.364 0.832                                          Revel M16\n",
      "         ErinsAudioCorner 0.370 0.843                                   JBL 305P Mark ii\n",
      "                      ASR 0.373 0.834                                     Infinity RC263\n",
      "                      ASR 0.376 0.690                                         Revel C208\n",
      "                      ASR 0.384 0.917                            Infinity Interlude IL10\n",
      "                      ASR 0.387 0.640                                      Infinity R162\n",
      "                      ASR 0.388 0.898                                Buchardt Audio S400\n",
      "                      ASR 0.412 0.740                                       Revel F328be\n",
      "                      ASR 0.430 0.910                                       JBL HDI-3600\n",
      "                      ASR 0.445 0.887                                       JBL HDI-1600\n",
      "                      ASR 0.452 1.128                               Emotiva Airmotiv B1+\n",
      "                      ASR 0.471 0.825                        Ascend Acoustics CBM-170 SE\n",
      "                      ASR 0.482 1.349                                           KEF LS50\n",
      "                      ASR 0.520 1.209                                      Infinity R253\n",
      "                      ASR 0.535 1.108                                         Revel F208\n",
      "                      ASR 0.549 1.131                         BIC America Venturi DV62si\n",
      "                      ASR 0.595 1.938                                      Neumann KH 80\n",
      "                      ASR 0.634 1.382                                       Magnepan LRS\n",
      "                      ASR 0.696 1.709                                            JBL 104\n",
      "                      ASR 0.763 1.682                                   JBL 305P Mark ii\n"
     ]
    }
   ],
   "source": [
    "res = []\n",
    "for speaker, speaker_data in df_all.items():\n",
    "    if len(speaker_data.keys()) == 1:\n",
    "        continue\n",
    "    for origin, measurements in speaker_data.items():\n",
    "        version = list(df_all[speaker][origin].keys())[0]\n",
    "        bv = None\n",
    "        cea2034 = None\n",
    "        if \"CEA2034_unmelted\" in df_all[speaker][origin][version].keys():\n",
    "            cea2034 = df_all[speaker][origin][version][\"CEA2034_unmelted\"]\n",
    "        elif \"CEA2034\" in df_all[speaker][origin][version].keys():\n",
    "            cea2034_tmp = df_all[speaker][origin][version][\"CEA2034\"]\n",
    "            try:\n",
    "                cea2034 = cea2034_tmp.pivot(*cea2034_tmp).rename_axis(columns=None).reset_index()\n",
    "            except ValueError as ve:\n",
    "                # print('{} pivot failed {}'.format(speaker, ve))\n",
    "                continue\n",
    "        if cea2034 is not None and \"On Axis\" in cea2034.keys() and \"Freq\" in cea2034.keys():\n",
    "            onaxis = cea2034[\"On Axis\"]\n",
    "            freq = cea2034[\"Freq\"]\n",
    "            n = len(freq)\n",
    "            bv = np.mean(np.abs(np.gradient(onaxis)))\n",
    "            bm = np.quantile(np.abs(np.gradient(onaxis)), 0.9)\n",
    "            res.append((origin, bv, bm, speaker))\n",
    "\n",
    "for origin, bv, bm, speaker in sorted(res, key=lambda a: a[1]):\n",
    "    print(\"{:>25s} {:=5.3f} {:=5.3f} {:>50s}\".format(origin, bv, bm, speaker))"
   ]
  },
  {
   "cell_type": "code",
   "execution_count": null,
   "metadata": {},
   "outputs": [],
   "source": []
  },
  {
   "cell_type": "code",
   "execution_count": null,
   "metadata": {},
   "outputs": [],
   "source": []
  },
  {
   "cell_type": "code",
   "execution_count": null,
   "metadata": {},
   "outputs": [],
   "source": []
  }
 ],
 "metadata": {
  "kernelspec": {
   "display_name": "Python 3",
   "language": "python",
   "name": "python3"
  },
  "language_info": {
   "codemirror_mode": {
    "name": "ipython",
    "version": 3
   },
   "file_extension": ".py",
   "mimetype": "text/x-python",
   "name": "python",
   "nbconvert_exporter": "python",
   "pygments_lexer": "ipython3",
   "version": "3.8.5"
  }
 },
 "nbformat": 4,
 "nbformat_minor": 4
}
