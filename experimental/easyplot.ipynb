{
 "cells": [
  {
   "cell_type": "markdown",
   "id": "9c4b4c96-78ad-47dc-ad2c-eb1cb43949ce",
   "metadata": {},
   "source": [
    "Simple notebook for plotting speaker data"
   ]
  },
  {
   "cell_type": "code",
   "execution_count": null,
   "id": "7e3bfdae-734d-4a53-b8e7-78dfb1ddcc2f",
   "metadata": {},
   "outputs": [],
   "source": [
    "import numpy as np\n",
    "import pandas as pd\n",
    "import plotly as plt"
   ]
  },
  {
   "cell_type": "code",
   "execution_count": null,
   "id": "00a326b2-2843-469b-845c-c5ece0f70b83",
   "metadata": {},
   "outputs": [],
   "source": [
    "from spinorama.load_spl_hv_txt import parse_graph_spl_hv_txt\n",
    "from spinorama.load import filter_graphs"
   ]
  },
  {
   "cell_type": "code",
   "execution_count": null,
   "id": "3d8667bd-0a66-4d49-87d0-f60cdda6fd38",
   "metadata": {},
   "outputs": [],
   "source": [
    "# dir = 'where your files are'\n",
    "# the parser expect to find the 72 files in this directory\n",
    "# name of the file is *_H angle.txt for horizontal measurements with angle between -170 and 180 in 10 degrees increment\n",
    "# name of the file is *_V angle.txt for vertical measurements with angle between -170 and 180 in 10 degrees increment\n",
    "speaker = \"Ascend Acoustics Sierra-2EX V2\"\n",
    "dir = f\"../datas/measurements/{speaker}/vendor\"\n",
    "\n",
    "# read horizontal and vertical data\n",
    "# spl_H and spl_V are dataframe\n",
    "_, spl_H = parse_graph_spl_hv_txt(dir, \"H\")\n",
    "_, spl_V = parse_graph_spl_hv_txt(dir, \"V\")\n",
    "\n",
    "# put them in a convenient dictionnary of dataframe\n",
    "df = filter_graphs(speaker, spl_H, spl_V)"
   ]
  },
  {
   "cell_type": "code",
   "execution_count": null,
   "id": "5e59bed7-d76e-4dd3-912f-404650bbe1bb",
   "metadata": {},
   "outputs": [],
   "source": [
    "from spinorama.compute_cea2034 import compute_cea2034"
   ]
  },
  {
   "cell_type": "code",
   "execution_count": null,
   "id": "0a84c1c3-d62e-489c-b4ac-db8e814c1267",
   "metadata": {},
   "outputs": [],
   "source": [
    "# compute the spin\n",
    "spin = compute_cea2034(df[\"SPL Horizontal_unmelted\"], df[\"SPL Vertical_unmelted\"])"
   ]
  },
  {
   "cell_type": "code",
   "execution_count": null,
   "id": "7741942f-3365-4ab1-8485-d6946a55a4a0",
   "metadata": {},
   "outputs": [],
   "source": [
    "import spinorama.plot as plot\n",
    "\n",
    "# example of the parameters you can change for the layout\n",
    "# see plotly documentation for all the options\n",
    "my_layout = dict(\n",
    "    width=1000,\n",
    "    height=600,\n",
    "    title=dict(\n",
    "        x=0.5,\n",
    "        y=1.0,\n",
    "        xanchor=\"center\",\n",
    "        yanchor=\"top\",\n",
    "        text=speaker,\n",
    "        font=dict(\n",
    "            size=20,\n",
    "        ),\n",
    "    ),\n",
    "    legend=dict(\n",
    "        x=1.2,\n",
    "        y=1,\n",
    "        xanchor=\"center\",\n",
    "        orientation=\"v\",\n",
    "        font=dict(\n",
    "            size=12,\n",
    "        ),\n",
    "    ),\n",
    "    font=dict(size=14),\n",
    ")"
   ]
  },
  {
   "cell_type": "code",
   "execution_count": null,
   "id": "75627f61-c38b-4515-9375-8ecac78ea982",
   "metadata": {},
   "outputs": [],
   "source": [
    "plot_spin = plot.plot_spinorama(spin, plot.plot_params_default)\n",
    "plot_spin.update_layout(my_layout)\n",
    "plot_spin"
   ]
  },
  {
   "cell_type": "code",
   "execution_count": null,
   "id": "aa3aa95b-8052-4280-8f64-e9423f12ff0b",
   "metadata": {},
   "outputs": [],
   "source": [
    "plot_contour_h = plot.plot_contour(df[\"SPL Horizontal_unmelted\"], plot.contour_params_default)\n",
    "plot_contour_h.update_layout(my_layout)\n",
    "plot_contour_h"
   ]
  },
  {
   "cell_type": "code",
   "execution_count": null,
   "id": "fe8dde73-7db0-4df9-aed9-8c4585b71a13",
   "metadata": {},
   "outputs": [],
   "source": [
    "from spinorama.compute_scores import speaker_pref_rating"
   ]
  },
  {
   "cell_type": "code",
   "execution_count": null,
   "id": "47fa15d3-cad4-4755-b41c-acac07faf7b8",
   "metadata": {},
   "outputs": [],
   "source": [
    "speaker_pref_rating(cea2034=df[\"CEA2034\"], pir=df[\"Estimated In-Room Response\"], rounded=True)"
   ]
  },
  {
   "cell_type": "code",
   "execution_count": null,
   "id": "a15f3b86-4da9-482f-a227-435a485ecab6",
   "metadata": {},
   "outputs": [],
   "source": []
  }
 ],
 "metadata": {
  "kernelspec": {
   "display_name": "Python 3 (ipykernel)",
   "language": "python",
   "name": "python3"
  },
  "language_info": {
   "codemirror_mode": {
    "name": "ipython",
    "version": 3
   },
   "file_extension": ".py",
   "mimetype": "text/x-python",
   "name": "python",
   "nbconvert_exporter": "python",
   "pygments_lexer": "ipython3",
   "version": "3.12.10"
  }
 },
 "nbformat": 4,
 "nbformat_minor": 5
}
