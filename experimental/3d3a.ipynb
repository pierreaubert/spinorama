{
 "cells": [
  {
   "cell_type": "code",
   "execution_count": null,
   "metadata": {},
   "outputs": [],
   "source": [
    "import pandas as pd\n",
    "import altair as alt\n",
    "import numpy as np\n",
    "import math\n",
    "from scipy.io import loadmat\n",
    "from scipy.interpolate import InterpolatedUnivariateSpline\n",
    "\n",
    "import sys, os, os.path\n",
    "\n",
    "sys.path.append(os.path.expanduser(\"../src\"))\n",
    "\n",
    "from spinorama.load import graph_melt\n",
    "from spinorama.load_princeton import parse_graph_freq_princeton_mat\n",
    "from spinorama.graph import graph_freq, graph_params_default\n",
    "from spinorama.compute_cea2034 import compute_cea2034\n",
    "\n",
    "\n",
    "alt.data_transformers.disable_max_rows()"
   ]
  },
  {
   "cell_type": "code",
   "execution_count": null,
   "metadata": {},
   "outputs": [],
   "source": [
    "h_mat = loadmat(\"../datas/Princeton/Genelec 8351A/Genelec8351A_H_IR.mat\")\n",
    "v_mat = loadmat(\"../datas/Princeton/Genelec 8351A/Genelec8351A_V_IR.mat\")\n",
    "# h_mat = loadmat(\"datas/Princeton/Genelec 8030A/Genelec_H_IR.mat\")\n",
    "# v_mat = loadmat(\"datas/Princeton/Genelec 8030A/Genelec_V_IR.mat\")\n",
    "# h_mat = loadmat(\"datas/Princeton/KEF LS50/KEF50_H_IR.mat\")\n",
    "# v_mat = loadmat(\"datas/Princeton/KEF LS50/KEF50_V_IR.mat\")\n",
    "# h_mat = loadmat(\"datas/Princeton/Avantgarde Acoustic Solo/Avantgarde_H_IR.mat\")\n",
    "# v_mat = loadmat(\"datas/Princeton/Avantgarde Acoustic Solo/Avantgarde_V_IR.mat\")\n",
    "\n",
    "h_spl = parse_graph_freq_princeton_mat(h_mat, \"H\")\n",
    "v_spl = parse_graph_freq_princeton_mat(v_mat, \"V\")"
   ]
  },
  {
   "cell_type": "code",
   "execution_count": null,
   "metadata": {},
   "outputs": [],
   "source": [
    "cea2034_unmelted = compute_cea2034(h_spl, v_spl)\n",
    "cea2034 = graph_melt(cea2034_unmelted)\n",
    "\n",
    "params = graph_params_default\n",
    "params[\"xmin\"] = 500\n",
    "chart_cea2034 = graph_freq(cea2034, graph_params=params)\n",
    "\n",
    "chart_cea2034"
   ]
  },
  {
   "cell_type": "code",
   "execution_count": null,
   "metadata": {},
   "outputs": [],
   "source": []
  },
  {
   "cell_type": "code",
   "execution_count": null,
   "metadata": {},
   "outputs": [],
   "source": []
  }
 ],
 "metadata": {
  "kernelspec": {
   "display_name": "Python 3 (ipykernel)",
   "language": "python",
   "name": "python3"
  },
  "language_info": {
   "codemirror_mode": {
    "name": "ipython",
    "version": 3
   },
   "file_extension": ".py",
   "mimetype": "text/x-python",
   "name": "python",
   "nbconvert_exporter": "python",
   "pygments_lexer": "ipython3",
   "version": "3.12.10"
  }
 },
 "nbformat": 4,
 "nbformat_minor": 4
}
