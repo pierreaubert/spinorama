{
 "cells": [
  {
   "cell_type": "code",
   "execution_count": null,
   "metadata": {},
   "outputs": [],
   "source": [
    "import logging\n",
    "\n",
    "logging.basicConfig()\n",
    "logger = logging.getLogger()\n",
    "logger.setLevel(logging.DEBUG)\n",
    "\n",
    "import math\n",
    "import numpy as np\n",
    "import pandas as pd\n",
    "import scipy.signal as sig\n",
    "import altair as alt\n",
    "\n",
    "import sys, os, os.path\n",
    "\n",
    "sys.path.append(os.path.expanduser(\"../src\"))\n",
    "\n",
    "from spinorama.load import graph_melt\n",
    "from spinorama.load_parse import parse_graphs_speaker\n",
    "from spinorama.compute_normalize import normalize\n",
    "from spinorama.load_rewseq import parse_eq_iir_rews\n",
    "from spinorama.graph import graph_spinorama, graph_freq\n",
    "from spinorama.compute_normalize import normalize_mean, normalize_cea2034\n",
    "from spinorama.compute_scores import speaker_pref_rating\n",
    "from spinorama.compute_cea2034 import (\n",
    "    compute_cea2034,\n",
    "    estimated_inroom_HV,\n",
    "    spl2pressure,\n",
    "    pressure2spl,\n",
    ")\n",
    "from spinorama.filter_iir import Biquad\n",
    "from spinorama.filter_peq import peq_build, peq_apply_measurements, peq_print"
   ]
  },
  {
   "cell_type": "code",
   "execution_count": null,
   "metadata": {},
   "outputs": [],
   "source": [
    "# df_speaker = parse_graphs_speaker('Genelec', 'Genelec 8341A')\n",
    "# df_speaker = parse_graphs_speaker('Focal', 'Focal Aria 906')\n",
    "# df_speaker = parse_graphs_speaker('Elac', 'Elac Debut 2.0 B6.2')\n",
    "df_speaker = parse_graphs_speaker(\"Adam\", \"Adam S2V\")\n",
    "\n",
    "g_params = {\n",
    "    \"xmin\": 20,\n",
    "    \"xmax\": 20000,\n",
    "    \"ymin\": -50,\n",
    "    \"ymax\": 10,\n",
    "    \"width\": 400,\n",
    "    \"height\": 250,\n",
    "}\n",
    "spin = df_speaker[\"CEA2034_unmelted\"]\n",
    "pir = estimated_inroom_HV(\n",
    "    df_speaker[\"SPL Horizontal_unmelted\"], df_speaker[\"SPL Vertical_unmelted\"]\n",
    ")\n",
    "score = speaker_pref_rating(graph_melt(spin), graph_melt(pir))"
   ]
  },
  {
   "cell_type": "code",
   "execution_count": null,
   "metadata": {},
   "outputs": [],
   "source": [
    "my_fs = 48000\n",
    "my_peq = parse_eq_iir_rews(\"./datas/eq/Adam S2V/iir.txt\", my_fs)\n",
    "ddf_horizontal = peq_apply_measurements(df_speaker[\"SPL Horizontal_unmelted\"], my_peq)\n",
    "ddf_vertical = peq_apply_measurements(df_speaker[\"SPL Vertical_unmelted\"], my_peq)\n",
    "\n",
    "spin_filtered = normalize(graph_melt(compute_cea2034(ddf_horizontal, ddf_vertical)))\n",
    "pir_filtered = normalize(graph_melt(estimated_inroom_HV(ddf_horizontal, ddf_vertical)))\n",
    "score_filtered = speaker_pref_rating(spin_filtered, pir_filtered)"
   ]
  },
  {
   "cell_type": "code",
   "execution_count": null,
   "metadata": {},
   "outputs": [],
   "source": [
    "peq_print(my_peq)\n",
    "print(\"         SPK FLT\")\n",
    "print(\"-----------------\")\n",
    "print(\"NBD  ON {0:0.2f} {1:0.2f}\".format(score[\"nbd_on_axis\"], score_filtered[\"nbd_on_axis\"]))\n",
    "print(\n",
    "    \"NBD  LW {0:0.2f} {1:0.2f}\".format(\n",
    "        score[\"nbd_listening_window\"], score_filtered[\"nbd_listening_window\"]\n",
    "    )\n",
    ")\n",
    "print(\n",
    "    \"NBD PIR {0:0.2f} {1:0.2f}\".format(\n",
    "        score[\"nbd_pred_in_room\"], score_filtered[\"nbd_pred_in_room\"]\n",
    "    )\n",
    ")\n",
    "print(\n",
    "    \"SM  PIR {0:0.2f} {1:0.2f}\".format(score[\"sm_pred_in_room\"], score_filtered[\"sm_pred_in_room\"])\n",
    ")\n",
    "print(\"SM   SP {0:0.2f} {1:0.2f}\".format(score[\"sm_sound_power\"], score_filtered[\"sm_sound_power\"]))\n",
    "print(\"LFX       {0}   {1}\".format(score[\"lfx_hz\"], score_filtered[\"lfx_hz\"]))\n",
    "print(\"LFQ     {0} {1}\".format(score[\"lfq\"], score_filtered[\"lfq\"]))\n",
    "print(\"-----------------\")\n",
    "print(\"Score    {0}  {1}\".format(score[\"pref_score\"], score_filtered[\"pref_score\"]))\n",
    "print(\"-----------------\")"
   ]
  },
  {
   "cell_type": "code",
   "execution_count": null,
   "metadata": {},
   "outputs": [],
   "source": [
    "graph_spinorama(df_speaker[\"CEA2034\"], g_params) | graph_spinorama(spin_filtered, g_params)"
   ]
  },
  {
   "cell_type": "code",
   "execution_count": null,
   "metadata": {},
   "outputs": [],
   "source": [
    "def score_with_filter(splH, splV, peq):\n",
    "    ddf_horizontal = peq_apply_measurements(splH, peq)\n",
    "    ddf_vertical = peq_apply_measurements(splV, peq)\n",
    "    spin_filtered = normalize(graph_melt(compute_cea2034(ddf_horizontal, ddf_vertical)))\n",
    "    pir_filtered = normalize(graph_melt(estimated_inroom_HV(ddf_horizontal, ddf_vertical)))\n",
    "    score_filtered = speaker_pref_rating(spin_filtered, pir_filtered, rounded=False)\n",
    "    return -score_filtered[\"pref_score\"]"
   ]
  },
  {
   "cell_type": "code",
   "execution_count": null,
   "metadata": {},
   "outputs": [],
   "source": [
    "my_fs = 48000\n",
    "my_peq = [\n",
    "    (0, Biquad(Biquad.HIGHPASS, 50, my_fs, 0.2, 1)),\n",
    "    (1, Biquad(Biquad.PEAK, 715, my_fs, 8, -2.8)),\n",
    "    (0, Biquad(Biquad.NOTCH, 1400, my_fs, 0.1, 0.1)),\n",
    "]\n",
    "score_with_filter(\n",
    "    df_speaker[\"SPL Horizontal_unmelted\"], df_speaker[\"SPL Vertical_unmelted\"], my_peq\n",
    ")"
   ]
  },
  {
   "cell_type": "code",
   "execution_count": null,
   "metadata": {},
   "outputs": [],
   "source": [
    "x0 = [700, 6, -2]\n",
    "\n",
    "\n",
    "def objective(params):\n",
    "    freq = params[0]\n",
    "    Q = params[1]\n",
    "    Z = params[2]\n",
    "    the_peq = [(1, Biquad(Biquad.PEAK, freq, my_fs, Q, Z))]\n",
    "    score = score_with_filter(\n",
    "        df_speaker[\"SPL Horizontal_unmelted\"],\n",
    "        df_speaker[\"SPL Vertical_unmelted\"],\n",
    "        the_peq,\n",
    "    )\n",
    "    print(params, score)\n",
    "    return score"
   ]
  },
  {
   "cell_type": "code",
   "execution_count": null,
   "metadata": {},
   "outputs": [],
   "source": [
    "objective(x0)"
   ]
  },
  {
   "cell_type": "code",
   "execution_count": null,
   "metadata": {},
   "outputs": [],
   "source": [
    "from scipy.optimize import minimize, basinhopping"
   ]
  },
  {
   "cell_type": "code",
   "execution_count": null,
   "metadata": {},
   "outputs": [],
   "source": [
    "bounds = [(20, 20000), (-10, 10), (0.1, 2)]\n",
    "res = minimize(objective, x0, method=\"SLSQP\", bounds=bounds)"
   ]
  },
  {
   "cell_type": "markdown",
   "metadata": {},
   "source": [
    "res.x\n"
   ]
  },
  {
   "cell_type": "code",
   "execution_count": null,
   "metadata": {},
   "outputs": [],
   "source": [
    "minimizer_kwargs = {\"method\": \"COBYLA\"}\n",
    "\n",
    "\n",
    "def objective(params):\n",
    "    freq = params[0]\n",
    "    Q = params[1]\n",
    "    Z = params[2]\n",
    "    the_peq = [(1, Biquad(Biquad.PEAK, freq, my_fs, Q, Z))]\n",
    "    score = score_with_filter(\n",
    "        df_speaker[\"SPL Horizontal_unmelted\"],\n",
    "        df_speaker[\"SPL Vertical_unmelted\"],\n",
    "        the_peq,\n",
    "    )\n",
    "    print(params, score)\n",
    "    return score\n",
    "\n",
    "\n",
    "class MyTakeStep(object):\n",
    "    def __init__(self, stepsize=0.1):\n",
    "        self.stepsize = stepsize\n",
    "\n",
    "    def __call__(self, x):\n",
    "        s = self.stepsize\n",
    "        x[0] += np.random.uniform(-1000.0 * s, 1000.0 * s)\n",
    "        x[1:] += np.random.uniform(-s, s, x[1:].shape)\n",
    "        return x\n",
    "\n",
    "\n",
    "class MyBounds(object):\n",
    "    def __init__(self, xmax=[20000, 10, 10], xmin=[20, -10, -10]):\n",
    "        self.xmax = np.array(xmax)\n",
    "        self.xmin = np.array(xmin)\n",
    "\n",
    "    def __call__(self, **kwargs):\n",
    "        x = kwargs[\"x_new\"]\n",
    "        tmax = bool(np.all(x <= self.xmax))\n",
    "        tmin = bool(np.all(x >= self.xmin))\n",
    "        return tmax and tmin\n",
    "\n",
    "\n",
    "mytakestep = MyTakeStep()\n",
    "mybounds = MyBounds()\n",
    "\n",
    "x0 = [700, 5, -2]\n",
    "res = basinhopping(\n",
    "    objective2,\n",
    "    x0,\n",
    "    minimizer_kwargs=minimizer_kwargs,\n",
    "    take_step=mytakestep,\n",
    "    accept_test=mybounds,\n",
    "    interval=5,\n",
    "    niter=2,\n",
    ")"
   ]
  },
  {
   "cell_type": "code",
   "execution_count": null,
   "metadata": {},
   "outputs": [],
   "source": []
  }
 ],
 "metadata": {
  "kernelspec": {
   "display_name": "Python 3 (ipykernel)",
   "language": "python",
   "name": "python3"
  },
  "language_info": {
   "codemirror_mode": {
    "name": "ipython",
    "version": 3
   },
   "file_extension": ".py",
   "mimetype": "text/x-python",
   "name": "python",
   "nbconvert_exporter": "python",
   "pygments_lexer": "ipython3",
   "version": "3.12.8"
  }
 },
 "nbformat": 4,
 "nbformat_minor": 4
}
