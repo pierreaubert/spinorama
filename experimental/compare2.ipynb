{
 "cells": [
  {
   "cell_type": "code",
   "execution_count": null,
   "id": "southern-guyana",
   "metadata": {},
   "outputs": [],
   "source": [
    "import math\n",
    "import pandas as pd\n",
    "import altair as alt\n",
    "import numpy as np\n",
    "import logging\n",
    "\n",
    "import sys, os, os.path\n",
    "\n",
    "sys.path.append(os.path.expanduser(\"../src\"))\n",
    "sys.path.append(os.path.expanduser(\"..\"))\n",
    "\n",
    "from generate_common import cache_load\n",
    "from spinorama.compute_cea2034 import sound_power\n",
    "from spinorama.load import graph_melt\n",
    "from spinorama.graph import (\n",
    "    graph_params_default,\n",
    "    contour_params_default,\n",
    "    isoband_params_default,\n",
    ")\n",
    "\n",
    "import datas.metadata as metadata\n",
    "\n",
    "df = cache_load(smoke_test=False)\n",
    "print(df.keys())"
   ]
  },
  {
   "cell_type": "code",
   "execution_count": null,
   "id": "following-bullet",
   "metadata": {},
   "outputs": [],
   "source": [
    "# dfu = df['KEF LS50']['ASR']['asr']['SPL Horizontal_unmelted']\n",
    "# dfu = df['JBL 708P']['ASR']['asr']['SPL Horizontal_unmelted']\n",
    "# dfu = df['Genelec 8341A']['ASR']['asr-vertical']['SPL Vertical_unmelted']\n",
    "# dfu = df['Genelec 8341A']['ASR']['asr-vertical']['SPL Horizontal_unmelted']\n",
    "# dfu = df['Genelec 8030C']['ASR']['asr']['SPL Horizontal_unmelted']\n",
    "# dfu = df['Wharfedale Diamond 220']['ASR']['asr']['SPL Vertical_unmelted']\n",
    "# dfu = df['Revel C208']['ASR']['asr']['SPL Horizontal_unmelted']\n",
    "# dfu = df['KEF LS50']['ASR']['asr-horizontal']['SPL Horizontal_unmelted']\n",
    "# dfu = df['KRK Systems Classic 5']['ASR']['asr']['SPL Vertical_unmelted']\n",
    "# dfu = df['Verdant Audio Bambusa MG 1']['ASR']['asr']['SPL Vertical_unmelted']\n",
    "# dfu = df['Neumann KH 80']['ASR']['asr-v3-20200711']['SPL Vertical_unmelted']\n",
    "dfu = df[\"Neumann KH 80\"][\"ASR\"][\"asr-v3-20200711\"][\"SPL Horizontal_unmelted\"]"
   ]
  },
  {
   "cell_type": "code",
   "execution_count": null,
   "id": "absolute-discount",
   "metadata": {},
   "outputs": [],
   "source": [
    "from spinorama.graph_contour import compute_contour, compute_contour_smoothed\n",
    "\n",
    "# af, am, az = compute_contour_smoothed(dfu)\n",
    "af, am, az = compute_contour(dfu)\n",
    "len(am.T[0])"
   ]
  },
  {
   "cell_type": "code",
   "execution_count": null,
   "id": "foreign-white",
   "metadata": {},
   "outputs": [],
   "source": [
    "# more interesting to look at -3/0 range\n",
    "speaker_scale = contour_params_default[\"contour_scale\"]\n",
    "colormap = \"veridis\"\n",
    "\n",
    "freq = af.ravel()\n",
    "angle = am.ravel()\n",
    "db = az.ravel()\n",
    "\n",
    "source = pd.DataFrame({\"Freq\": freq, \"Angle\": angle, \"dB\": db})\n",
    "\n",
    "chart = (\n",
    "    alt.Chart(source)\n",
    "    .mark_rect()\n",
    "    .transform_filter(\"datum.Freq>400\")\n",
    "    .encode(\n",
    "        alt.X(\"Freq:O\", axis=None),\n",
    "        alt.Y(\"Angle:O\", title=\"Angle (deg.)\", axis=None, sort=None),\n",
    "        alt.Color(\"dB:Q\", scale=alt.Scale(scheme=\"spectral\", domain=speaker_scale, nice=True)),\n",
    "    )\n",
    "    .properties(width=800, height=600)\n",
    ")"
   ]
  },
  {
   "cell_type": "markdown",
   "id": "bizarre-original",
   "metadata": {},
   "source": [
    "Find angle such that we model the directivity left/right or up/down"
   ]
  },
  {
   "cell_type": "code",
   "execution_count": null,
   "id": "manual-gross",
   "metadata": {},
   "outputs": [],
   "source": [
    "def func(x, sign):\n",
    "    xp1 = int(x)\n",
    "    # print(am.T[0][xp1])\n",
    "    xp2 = xp1 + sign\n",
    "    zp1 = az[xp1][110:180]\n",
    "    zp2 = az[xp2][110:180]\n",
    "    # linear interpolation\n",
    "    zp = zp1 + (x - xp1) * (zp2 - zp1)\n",
    "    # normˆ2 (z-(-6dB))\n",
    "    return np.linalg.norm(zp + 6)\n",
    "\n",
    "\n",
    "eval_count = 180\n",
    "space_p = np.linspace(int(len(am.T[0]) / 2), 1, eval_count)\n",
    "eval_p = [func(x, +1) for x in space_p]\n",
    "min_p = np.min(eval_p) * 1.1\n",
    "pos_g = [i for i, v in enumerate(eval_p) if v < min_p]\n",
    "pos_p = pos_g[-1]\n",
    "angle_p = pos_p * 180 / eval_count\n",
    "chart_p = (\n",
    "    alt.Chart(pd.DataFrame({\"x\": np.linspace(0, 180, eval_count), \"y\": eval_p}))\n",
    "    .mark_line()\n",
    "    .encode(x=\"x:Q\", y=\"y:Q\")\n",
    ")\n",
    "\n",
    "space_m = np.linspace(int(len(am.T[0]) / 2), len(am.T[0]) - 2, eval_count)\n",
    "eval_m = [func(x, 1) for x in space_m]\n",
    "min_m = np.min(eval_m) * 1.05\n",
    "pos_g = [i for i, v in enumerate(eval_m) if v < min_m]\n",
    "pos_m = pos_g[-1]\n",
    "print(pos_g)\n",
    "angle_m = -pos_m * 180 / eval_count\n",
    "chart_m = (\n",
    "    alt.Chart(pd.DataFrame({\"x\": np.linspace(0, -180, eval_count), \"y\": eval_m}))\n",
    "    .mark_line()\n",
    "    .encode(x=\"x:Q\", y=\"y:Q\")\n",
    ")\n",
    "\n",
    "\n",
    "# print('pos_p {}'.format(pos_p))\n",
    "# print('space_p int min {} int max {}'.format(int(np.min(space_p)), int(np.max(space_p))))\n",
    "# print('space_p[pos_p] = {}'.format(space_p[pos_p]/(space_p[0]-space_p[-1])))\n",
    "print(angle_p, angle_m, (angle_p - angle_m) / 2)\n",
    "chart_m | chart_p"
   ]
  },
  {
   "cell_type": "code",
   "execution_count": null,
   "id": "suffering-teacher",
   "metadata": {},
   "outputs": [],
   "source": [
    "f_min = 400\n",
    "x_axis = alt.X(\"Freq:Q\", axis=None, scale=alt.Scale(type=\"log\", domain=[f_min, 20000], nice=False))\n",
    "y_axis = y = alt.Y(\"Angle:Q\", scale=alt.Scale(domain=[-180, 180], nice=False))\n",
    "color = alt.value(\"white\")\n",
    "size = alt.value(3)\n",
    "\n",
    "line_source = pd.DataFrame({\"Freq\": [f_min, 20000], \"Angle\": [0, 0], \"dB\": [0, 0]})\n",
    "line_source_p = pd.DataFrame({\"Freq\": [f_min, 20000], \"Angle\": [angle_p, angle_p], \"dB\": [+6, +6]})\n",
    "line_source_m = pd.DataFrame({\"Freq\": [f_min, 20000], \"Angle\": [angle_m, angle_m], \"dB\": [-6, -6]})\n",
    "\n",
    "line = alt.Chart(line_source).mark_line().encode(x=x_axis, y=y_axis, color=color, size=size)\n",
    "line_p = alt.Chart(line_source_p).mark_line().encode(x=x_axis, y=y_axis, color=color, size=size)\n",
    "line_m = alt.Chart(line_source_m).mark_line().encode(x=x_axis, y=y_axis, color=color, size=size)"
   ]
  },
  {
   "cell_type": "code",
   "execution_count": null,
   "id": "collectible-delight",
   "metadata": {},
   "outputs": [],
   "source": [
    "(chart + line + line_p + line_m).properties(width=800, height=600)"
   ]
  },
  {
   "cell_type": "code",
   "execution_count": null,
   "id": "fleet-bidder",
   "metadata": {},
   "outputs": [],
   "source": []
  },
  {
   "cell_type": "code",
   "execution_count": null,
   "id": "632b6d7a-6e5d-4d80-8b48-cace3ef0f0dc",
   "metadata": {},
   "outputs": [],
   "source": []
  }
 ],
 "metadata": {
  "kernelspec": {
   "display_name": "Python 3 (ipykernel)",
   "language": "python",
   "name": "python3"
  },
  "language_info": {
   "codemirror_mode": {
    "name": "ipython",
    "version": 3
   },
   "file_extension": ".py",
   "mimetype": "text/x-python",
   "name": "python",
   "nbconvert_exporter": "python",
   "pygments_lexer": "ipython3",
   "version": "3.12.10"
  }
 },
 "nbformat": 4,
 "nbformat_minor": 5
}
